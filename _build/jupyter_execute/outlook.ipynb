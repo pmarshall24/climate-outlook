{
 "cells": [
  {
   "cell_type": "markdown",
   "id": "4d28ecfc-cceb-47f2-b7ab-2a4b5fc876f0",
   "metadata": {},
   "source": [
    "# Climate Outlook\n",
    "\n",
    "```{admonition} **Valid for:**\n",
    ":class: attention\n",
    "November-December 2023, January 2024\n",
    "```\n",
    "## Short Range Outlook\n",
    "\n",
    "Let's start off looking at what to expect for the next 10 days. The plots below show forecasted weather parameters for the Grouse Mountain area for **November 6-15, 2023**. Note, the model elevation at this grid point is only 267 m. This forecast uses the Canadian Global Deterministic Prediction System (GDPS). \n",
    "\n",
    "A storm is expected to hit the BC south coast beginning on November 9, with moderate to heavy rainfall expected through November 11. This weather system is cooler than recent storms, and higher elevations in the watersheds could see a mix of rain and snow. Dry, but mild weather is forecasted for Nov 12-15. "
   ]
  },
  {
   "cell_type": "code",
   "execution_count": 1,
   "id": "b0de5b85-0708-4df5-8caa-0f4911d3fdcc",
   "metadata": {
    "tags": [
     "remove-cell"
    ]
   },
   "outputs": [],
   "source": [
    "#Import libraries\n",
    "import os\n",
    "import pandas as pd\n",
    "import subprocess\n",
    "import altair as alt\n",
    "import matplotlib.pyplot as plt\n",
    "import numpy as np\n",
    "import json"
   ]
  },
  {
   "cell_type": "code",
   "execution_count": 2,
   "id": "c9f20bf8-bebf-47a2-bdba-e4796331f8ba",
   "metadata": {
    "tags": [
     "remove-cell"
    ]
   },
   "outputs": [
    {
     "data": {
      "text/plain": [
       "'C:\\\\Users\\\\pmarshal\\\\Documents\\\\Climate-Outlook\\\\monthly-climate'"
      ]
     },
     "execution_count": 2,
     "metadata": {},
     "output_type": "execute_result"
    }
   ],
   "source": [
    "os.chdir('C://Users/pmarshal/Documents/Climate-Outlook/monthly-climate')\n",
    "os.getcwd()"
   ]
  },
  {
   "cell_type": "code",
   "execution_count": 3,
   "id": "817d1ffb-cf84-449b-a95f-17b8c6c3a5a0",
   "metadata": {
    "tags": [
     "remove-cell"
    ]
   },
   "outputs": [],
   "source": [
    "# Import dataset\n",
    "meteo = pd.read_csv('data/SpotWxForecast.csv', parse_dates=['DATETIME', 'DATE']) "
   ]
  },
  {
   "cell_type": "code",
   "execution_count": 4,
   "id": "b0eb9835-f752-4b19-9f00-6e860e854d5e",
   "metadata": {
    "tags": [
     "remove-cell"
    ]
   },
   "outputs": [],
   "source": [
    "meteo['PC1'] = meteo['APCP'].diff()\n",
    "meteo['PC1'].fillna(0, inplace=True)\n",
    "meteo = meteo.assign(Zero='0')"
   ]
  },
  {
   "cell_type": "code",
   "execution_count": 5,
   "id": "61ad59b4-d5b4-4d8a-94f6-4b822a49284e",
   "metadata": {
    "tags": [
     "remove-cell"
    ]
   },
   "outputs": [],
   "source": [
    "precip = alt.Chart(meteo).mark_bar(color='green', size=10).encode(\n",
    "    alt.X('DATETIME:T', title=None, axis=alt.Axis(labelAngle=0, format='%e %b')),\n",
    "    alt.Y('PC1:Q', title = '3-hr Precipitation (mm)'),\n",
    "    tooltip=[alt.Tooltip('DATE', title=\"Date\"), alt.Tooltip('TIME', title=\"Time\"), alt.Tooltip('PC1', title=\"3-Hour Precip\")]\n",
    ").properties(width=700, height=130, title='3hr-precip (green bars) and accumulated precip (blue line)')"
   ]
  },
  {
   "cell_type": "code",
   "execution_count": 6,
   "id": "74cc6b68-8cb3-4417-9284-b0fb9fe65b40",
   "metadata": {
    "tags": [
     "remove-cell"
    ]
   },
   "outputs": [],
   "source": [
    "precip_accum = alt.Chart(meteo).mark_line(color='blue', opacity=0.6).encode(\n",
    "    alt.X('DATETIME:T', title=None, axis=alt.Axis(labelAngle=0, format='%e %b')),\n",
    "    alt.Y('APCP:Q', title = 'Accumulated Precip (mm)'),\n",
    "    tooltip=[alt.Tooltip('DATE', title=\"Date\"), alt.Tooltip('TIME', title=\"Time\"), alt.Tooltip('APCP', title=\"Accumulated Precip\")]\n",
    ").properties(width=700, height=130)"
   ]
  },
  {
   "cell_type": "code",
   "execution_count": 7,
   "id": "2f90068f-48b6-44d5-9ff8-42d793558071",
   "metadata": {
    "tags": [
     "remove-cell"
    ]
   },
   "outputs": [],
   "source": [
    "precip_total = (precip + precip_accum).resolve_scale(\n",
    "    y = 'independent'\n",
    ")"
   ]
  },
  {
   "cell_type": "code",
   "execution_count": 8,
   "id": "4394846b-555c-4283-8fa2-f0617b2ad0f7",
   "metadata": {
    "tags": [
     "remove-cell"
    ]
   },
   "outputs": [],
   "source": [
    "title = alt.TitleParams(\n",
    "   text='Grouse Mountain (123.08W, 549.38N, Model elevation: 267m) CAN-GDPS',\n",
    "   subtitle=\"Air temp (red), dew point temp (blue), temp @1500m (red dashed), RH (green dashed)\",\n",
    "   anchor='middle',\n",
    "   fontSize=14,\n",
    "   fontWeight='bold')\n",
    "\n",
    "temp_line = alt.Chart(meteo, title=title).mark_line(color='red', strokeWidth=2).encode(\n",
    "    alt.X('DATETIME:T',  title=None, axis=alt.Axis(labelAngle=0, format='%e %b')),\n",
    "    alt.Y('TMP:Q', title='Temperature (C)'),\n",
    "    tooltip=[alt.Tooltip('DATE', title=\"Date\"), alt.Tooltip('TIME', title=\"Time\"), alt.Tooltip('TMP', title=\"Air Temp\")]\n",
    ").properties(width=700, height=130)\n",
    "\n",
    "dew = alt.Chart(meteo).mark_line(color='blue', strokeWidth=2).encode(\n",
    "    alt.X('DATETIME:T',  title=None, axis=alt.Axis(labelAngle=0, format='%e %b')),\n",
    "    alt.Y('DPT:Q', title='Temperature (C)')\n",
    ").properties(width=700, height=130)\n",
    "\n",
    "zero = alt.Chart(meteo).mark_line(color='gray', strokeWidth=1.5, opacity=0.8, strokeDash=[3,3]).encode(\n",
    "    alt.X('DATETIME:T',  title=None, axis=alt.Axis(labelAngle=0, format='%e %b')),\n",
    "    alt.Y('Zero:Q', title='Temperature (C)')\n",
    ").properties(width=700, height=130)\n",
    "\n",
    "rh = alt.Chart(meteo).mark_line(color='green', strokeWidth=1.5, opacity=0.7, strokeDash=[3,3]).encode(\n",
    "    alt.X('DATETIME:T',  title=None, axis=alt.Axis(labelAngle=0, format='%e %b')),\n",
    "    alt.Y('RH:Q', title='Relative Humidity (%)', scale=alt.Scale(zero=False))\n",
    ").properties(width=700, height=130)\n",
    "\n",
    "temp1500 = alt.Chart(meteo).mark_line(color='darkred', strokeWidth=1.5, opacity=0.7, strokeDash=[4,2]).encode(\n",
    "    alt.X('DATETIME:T',  title=None, axis=alt.Axis(labelAngle=0, format='%e %b')),\n",
    "    alt.Y('TMP850:Q', title='Temperature (C)'),\n",
    "    tooltip=[alt.Tooltip('DATE', title=\"Date\"), alt.Tooltip('TIME', title=\"Time\"), alt.Tooltip('TMP850', title=\"Air Temp\")]\n",
    ").properties(width=700, height=130)\n",
    "\n",
    "area = alt.Chart(meteo).mark_area(color='#F8D223', opacity=0.5).encode(\n",
    "    alt.X('DATETIME:T'),\n",
    "    alt.Y('TMP:Q'),\n",
    "    alt.Y2('DPT:Q')\n",
    ").properties(width=700, height=130)\n",
    "\n",
    "temp1 = temp_line + dew + temp1500 + area +zero\n",
    "\n",
    "temp2 = alt.layer(temp1, rh).resolve_scale(\n",
    "    y='independent'\n",
    ")"
   ]
  },
  {
   "cell_type": "code",
   "execution_count": 9,
   "id": "d7130cc8-5167-40f2-8c00-7020d39909c6",
   "metadata": {
    "tags": [
     "remove-cell"
    ]
   },
   "outputs": [],
   "source": [
    "pressure = alt.Chart(meteo).mark_line(color='red', strokeWidth=1.5, opacity=0.7).encode(\n",
    "    alt.X('DATETIME:T',  title=None, axis=alt.Axis(labelAngle=0, format='%e %b')),\n",
    "    alt.Y('SLP', title='MSLP (mbar)', scale= alt.Scale(zero=False))\n",
    ").properties(width=700, height=130, title='Cloud cover (blue/gray), sea level pressure (red)')\n",
    "\n",
    "cloud_line = alt.Chart(meteo).mark_line(color='blue', strokeWidth=1.5, opacity = 0.7).encode(\n",
    "    alt.X('DATETIME:T',  title=None, axis=alt.Axis(labelAngle=0, format='%e %b')),\n",
    "    alt.Y('CLOUD', title='Cloud Cover (%)')\n",
    ").properties(width=700, height=130)\n",
    "\n",
    "cloud_area = alt.Chart(meteo).mark_area(color='#B4A667', opacity=0.5).encode(\n",
    "    alt.X('DATETIME:T', axis=alt.Axis(labelAngle=0, format='%e %b')),\n",
    "    alt.Y('CLOUD:Q')\n",
    ").properties(width=700, height=130)\n",
    "\n",
    "cloud = cloud_area + cloud_line\n",
    "    \n",
    "cloud_pressure = alt.layer(cloud, pressure).resolve_scale(\n",
    "    y='independent'\n",
    ")\n"
   ]
  },
  {
   "cell_type": "code",
   "execution_count": 10,
   "id": "a943a6e1-b2b4-41c9-9307-49d4f805f9ff",
   "metadata": {
    "tags": [
     "remove-cell"
    ]
   },
   "outputs": [],
   "source": [
    "wind_750 = alt.Chart(meteo).mark_line(color='red', strokeWidth=1.5).encode(\n",
    "    alt.X('DATETIME:T',  title=None, axis=alt.Axis(labelAngle=90, format='%e %b')),\n",
    "    alt.Y('WS925', title='Wind speed (km/h)'),\n",
    "    tooltip=[alt.Tooltip('DATE', title=\"Date\"), alt.Tooltip('TIME', title=\"Time\"), alt.Tooltip('WS925', title=\"Wind Speed (km/h)\"), alt.Tooltip('WD925', title=\"Wind Dir (deg)\")]\n",
    ").properties(width=700, height=130, title='Wind speed at 750m (red) and 1500m (green)')\n",
    "\n",
    "wind_1500 = alt.Chart(meteo).mark_line(color='green', strokeWidth=1.5).encode(\n",
    "    alt.X('DATETIME:T',  title=None, axis=alt.Axis(labelAngle=90, format='%e %b')),\n",
    "    alt.Y('WS850', title='Wind speed (km/h)'),\n",
    "    tooltip=[alt.Tooltip('DATE', title=\"Date\"), alt.Tooltip('TIME', title=\"Time\"), alt.Tooltip('WS850', title=\"Wind Speed (km/h)\"), alt.Tooltip('WD850', title=\"Wind Dir (deg)\")]\n",
    ").properties(width=700, height=130)\n",
    "\n",
    "wind = wind_750 + wind_1500 \n"
   ]
  },
  {
   "cell_type": "code",
   "execution_count": 11,
   "id": "092f1af1-1abf-4120-84f8-43c9214eedc5",
   "metadata": {
    "tags": [
     "remove-input"
    ]
   },
   "outputs": [
    {
     "data": {
      "text/html": [
       "\n",
       "<div id=\"altair-viz-d43fc402a98541a4a80ab09a19852118\"></div>\n",
       "<script type=\"text/javascript\">\n",
       "  var VEGA_DEBUG = (typeof VEGA_DEBUG == \"undefined\") ? {} : VEGA_DEBUG;\n",
       "  (function(spec, embedOpt){\n",
       "    let outputDiv = document.currentScript.previousElementSibling;\n",
       "    if (outputDiv.id !== \"altair-viz-d43fc402a98541a4a80ab09a19852118\") {\n",
       "      outputDiv = document.getElementById(\"altair-viz-d43fc402a98541a4a80ab09a19852118\");\n",
       "    }\n",
       "    const paths = {\n",
       "      \"vega\": \"https://cdn.jsdelivr.net/npm//vega@5?noext\",\n",
       "      \"vega-lib\": \"https://cdn.jsdelivr.net/npm//vega-lib?noext\",\n",
       "      \"vega-lite\": \"https://cdn.jsdelivr.net/npm//vega-lite@4.17.0?noext\",\n",
       "      \"vega-embed\": \"https://cdn.jsdelivr.net/npm//vega-embed@6?noext\",\n",
       "    };\n",
       "\n",
       "    function maybeLoadScript(lib, version) {\n",
       "      var key = `${lib.replace(\"-\", \"\")}_version`;\n",
       "      return (VEGA_DEBUG[key] == version) ?\n",
       "        Promise.resolve(paths[lib]) :\n",
       "        new Promise(function(resolve, reject) {\n",
       "          var s = document.createElement('script');\n",
       "          document.getElementsByTagName(\"head\")[0].appendChild(s);\n",
       "          s.async = true;\n",
       "          s.onload = () => {\n",
       "            VEGA_DEBUG[key] = version;\n",
       "            return resolve(paths[lib]);\n",
       "          };\n",
       "          s.onerror = () => reject(`Error loading script: ${paths[lib]}`);\n",
       "          s.src = paths[lib];\n",
       "        });\n",
       "    }\n",
       "\n",
       "    function showError(err) {\n",
       "      outputDiv.innerHTML = `<div class=\"error\" style=\"color:red;\">${err}</div>`;\n",
       "      throw err;\n",
       "    }\n",
       "\n",
       "    function displayChart(vegaEmbed) {\n",
       "      vegaEmbed(outputDiv, spec, embedOpt)\n",
       "        .catch(err => showError(`Javascript Error: ${err.message}<br>This usually means there's a typo in your chart specification. See the javascript console for the full traceback.`));\n",
       "    }\n",
       "\n",
       "    if(typeof define === \"function\" && define.amd) {\n",
       "      requirejs.config({paths});\n",
       "      require([\"vega-embed\"], displayChart, err => showError(`Error loading script: ${err.message}`));\n",
       "    } else {\n",
       "      maybeLoadScript(\"vega\", \"5\")\n",
       "        .then(() => maybeLoadScript(\"vega-lite\", \"4.17.0\"))\n",
       "        .then(() => maybeLoadScript(\"vega-embed\", \"6\"))\n",
       "        .catch(showError)\n",
       "        .then(() => displayChart(vegaEmbed));\n",
       "    }\n",
       "  })({\"config\": {\"view\": {\"continuousWidth\": 400, \"continuousHeight\": 300}, \"axis\": {\"labelFontSize\": 11, \"titleFontSize\": 12}}, \"vconcat\": [{\"layer\": [{\"layer\": [{\"mark\": {\"type\": \"line\", \"color\": \"red\", \"strokeWidth\": 2}, \"encoding\": {\"tooltip\": [{\"field\": \"DATE\", \"title\": \"Date\", \"type\": \"temporal\"}, {\"field\": \"TIME\", \"title\": \"Time\", \"type\": \"nominal\"}, {\"field\": \"TMP\", \"title\": \"Air Temp\", \"type\": \"quantitative\"}], \"x\": {\"axis\": {\"format\": \"%e %b\", \"labelAngle\": 0}, \"field\": \"DATETIME\", \"title\": null, \"type\": \"temporal\"}, \"y\": {\"field\": \"TMP\", \"title\": \"Temperature (C)\", \"type\": \"quantitative\"}}, \"height\": 130, \"title\": {\"text\": \"Grouse Mountain (123.08W, 549.38N, Model elevation: 267m) CAN-GDPS\", \"anchor\": \"middle\", \"fontSize\": 14, \"fontWeight\": \"bold\", \"subtitle\": \"Air temp (red), dew point temp (blue), temp @1500m (red dashed), RH (green dashed)\"}, \"width\": 700}, {\"mark\": {\"type\": \"line\", \"color\": \"blue\", \"strokeWidth\": 2}, \"encoding\": {\"x\": {\"axis\": {\"format\": \"%e %b\", \"labelAngle\": 0}, \"field\": \"DATETIME\", \"title\": null, \"type\": \"temporal\"}, \"y\": {\"field\": \"DPT\", \"title\": \"Temperature (C)\", \"type\": \"quantitative\"}}, \"height\": 130, \"width\": 700}, {\"mark\": {\"type\": \"line\", \"color\": \"darkred\", \"opacity\": 0.7, \"strokeDash\": [4, 2], \"strokeWidth\": 1.5}, \"encoding\": {\"tooltip\": [{\"field\": \"DATE\", \"title\": \"Date\", \"type\": \"temporal\"}, {\"field\": \"TIME\", \"title\": \"Time\", \"type\": \"nominal\"}, {\"field\": \"TMP850\", \"title\": \"Air Temp\", \"type\": \"quantitative\"}], \"x\": {\"axis\": {\"format\": \"%e %b\", \"labelAngle\": 0}, \"field\": \"DATETIME\", \"title\": null, \"type\": \"temporal\"}, \"y\": {\"field\": \"TMP850\", \"title\": \"Temperature (C)\", \"type\": \"quantitative\"}}, \"height\": 130, \"width\": 700}, {\"mark\": {\"type\": \"area\", \"color\": \"#F8D223\", \"opacity\": 0.5}, \"encoding\": {\"x\": {\"field\": \"DATETIME\", \"type\": \"temporal\"}, \"y\": {\"field\": \"TMP\", \"type\": \"quantitative\"}, \"y2\": {\"field\": \"DPT\"}}, \"height\": 130, \"width\": 700}, {\"mark\": {\"type\": \"line\", \"color\": \"gray\", \"opacity\": 0.8, \"strokeDash\": [3, 3], \"strokeWidth\": 1.5}, \"encoding\": {\"x\": {\"axis\": {\"format\": \"%e %b\", \"labelAngle\": 0}, \"field\": \"DATETIME\", \"title\": null, \"type\": \"temporal\"}, \"y\": {\"field\": \"Zero\", \"title\": \"Temperature (C)\", \"type\": \"quantitative\"}}, \"height\": 130, \"width\": 700}]}, {\"mark\": {\"type\": \"line\", \"color\": \"green\", \"opacity\": 0.7, \"strokeDash\": [3, 3], \"strokeWidth\": 1.5}, \"encoding\": {\"x\": {\"axis\": {\"format\": \"%e %b\", \"labelAngle\": 0}, \"field\": \"DATETIME\", \"title\": null, \"type\": \"temporal\"}, \"y\": {\"field\": \"RH\", \"scale\": {\"zero\": false}, \"title\": \"Relative Humidity (%)\", \"type\": \"quantitative\"}}, \"height\": 130, \"width\": 700}], \"resolve\": {\"scale\": {\"y\": \"independent\"}}}, {\"layer\": [{\"layer\": [{\"mark\": {\"type\": \"area\", \"color\": \"#B4A667\", \"opacity\": 0.5}, \"encoding\": {\"x\": {\"axis\": {\"format\": \"%e %b\", \"labelAngle\": 0}, \"field\": \"DATETIME\", \"type\": \"temporal\"}, \"y\": {\"field\": \"CLOUD\", \"type\": \"quantitative\"}}, \"height\": 130, \"width\": 700}, {\"mark\": {\"type\": \"line\", \"color\": \"blue\", \"opacity\": 0.7, \"strokeWidth\": 1.5}, \"encoding\": {\"x\": {\"axis\": {\"format\": \"%e %b\", \"labelAngle\": 0}, \"field\": \"DATETIME\", \"title\": null, \"type\": \"temporal\"}, \"y\": {\"field\": \"CLOUD\", \"title\": \"Cloud Cover (%)\", \"type\": \"quantitative\"}}, \"height\": 130, \"width\": 700}]}, {\"mark\": {\"type\": \"line\", \"color\": \"red\", \"opacity\": 0.7, \"strokeWidth\": 1.5}, \"encoding\": {\"x\": {\"axis\": {\"format\": \"%e %b\", \"labelAngle\": 0}, \"field\": \"DATETIME\", \"title\": null, \"type\": \"temporal\"}, \"y\": {\"field\": \"SLP\", \"scale\": {\"zero\": false}, \"title\": \"MSLP (mbar)\", \"type\": \"quantitative\"}}, \"height\": 130, \"title\": \"Cloud cover (blue/gray), sea level pressure (red)\", \"width\": 700}], \"resolve\": {\"scale\": {\"y\": \"independent\"}}}, {\"layer\": [{\"mark\": {\"type\": \"bar\", \"color\": \"green\", \"size\": 10}, \"encoding\": {\"tooltip\": [{\"field\": \"DATE\", \"title\": \"Date\", \"type\": \"temporal\"}, {\"field\": \"TIME\", \"title\": \"Time\", \"type\": \"nominal\"}, {\"field\": \"PC1\", \"title\": \"3-Hour Precip\", \"type\": \"quantitative\"}], \"x\": {\"axis\": {\"format\": \"%e %b\", \"labelAngle\": 0}, \"field\": \"DATETIME\", \"title\": null, \"type\": \"temporal\"}, \"y\": {\"field\": \"PC1\", \"title\": \"3-hr Precipitation (mm)\", \"type\": \"quantitative\"}}, \"height\": 130, \"title\": \"3hr-precip (green bars) and accumulated precip (blue line)\", \"width\": 700}, {\"mark\": {\"type\": \"line\", \"color\": \"blue\", \"opacity\": 0.6}, \"encoding\": {\"tooltip\": [{\"field\": \"DATE\", \"title\": \"Date\", \"type\": \"temporal\"}, {\"field\": \"TIME\", \"title\": \"Time\", \"type\": \"nominal\"}, {\"field\": \"APCP\", \"title\": \"Accumulated Precip\", \"type\": \"quantitative\"}], \"x\": {\"axis\": {\"format\": \"%e %b\", \"labelAngle\": 0}, \"field\": \"DATETIME\", \"title\": null, \"type\": \"temporal\"}, \"y\": {\"field\": \"APCP\", \"title\": \"Accumulated Precip (mm)\", \"type\": \"quantitative\"}}, \"height\": 130, \"width\": 700}], \"resolve\": {\"scale\": {\"y\": \"independent\"}}}, {\"layer\": [{\"mark\": {\"type\": \"line\", \"color\": \"red\", \"strokeWidth\": 1.5}, \"encoding\": {\"tooltip\": [{\"field\": \"DATE\", \"title\": \"Date\", \"type\": \"temporal\"}, {\"field\": \"TIME\", \"title\": \"Time\", \"type\": \"nominal\"}, {\"field\": \"WS925\", \"title\": \"Wind Speed (km/h)\", \"type\": \"quantitative\"}, {\"field\": \"WD925\", \"title\": \"Wind Dir (deg)\", \"type\": \"quantitative\"}], \"x\": {\"axis\": {\"format\": \"%e %b\", \"labelAngle\": 90}, \"field\": \"DATETIME\", \"title\": null, \"type\": \"temporal\"}, \"y\": {\"field\": \"WS925\", \"title\": \"Wind speed (km/h)\", \"type\": \"quantitative\"}}, \"height\": 130, \"title\": \"Wind speed at 750m (red) and 1500m (green)\", \"width\": 700}, {\"mark\": {\"type\": \"line\", \"color\": \"green\", \"strokeWidth\": 1.5}, \"encoding\": {\"tooltip\": [{\"field\": \"DATE\", \"title\": \"Date\", \"type\": \"temporal\"}, {\"field\": \"TIME\", \"title\": \"Time\", \"type\": \"nominal\"}, {\"field\": \"WS850\", \"title\": \"Wind Speed (km/h)\", \"type\": \"quantitative\"}, {\"field\": \"WD850\", \"title\": \"Wind Dir (deg)\", \"type\": \"quantitative\"}], \"x\": {\"axis\": {\"format\": \"%e %b\", \"labelAngle\": 90}, \"field\": \"DATETIME\", \"title\": null, \"type\": \"temporal\"}, \"y\": {\"field\": \"WS850\", \"title\": \"Wind speed (km/h)\", \"type\": \"quantitative\"}}, \"height\": 130, \"width\": 700}]}], \"data\": {\"name\": \"data-b2f09e6281ddbdfc8b079d54ae9c7472\"}, \"$schema\": \"https://vega.github.io/schema/vega-lite/v4.17.0.json\", \"datasets\": {\"data-b2f09e6281ddbdfc8b079d54ae9c7472\": [{\"DATETIME\": \"2023-11-06T04:00:00\", \"DATE\": \"2023-11-06T00:00:00\", \"TIME\": \"4:00\", \"TMP\": 7.8, \"DPT\": 6.4, \"RH\": 91, \"WS\": 9, \"WD\": 28, \"APCP\": 0.0, \"CLOUD\": 92, \"SLP\": 1001.0, \"PTYPE\": null, \"RQP\": 0.0, \"SQP\": 0.0, \"FQP\": 0, \"IQP\": 0, \"WS925\": 17, \"WD925\": 93, \"TMP850\": 2.9, \"WS850\": 25, \"WD850\": 151, \"WS700\": 23, \"WD700\": 178, \"PC1\": 0.0, \"Zero\": \"0\"}, {\"DATETIME\": \"2023-11-06T07:00:00\", \"DATE\": \"2023-11-06T00:00:00\", \"TIME\": \"7:00\", \"TMP\": 7.8, \"DPT\": 7.0, \"RH\": 95, \"WS\": 7, \"WD\": 31, \"APCP\": 1.9, \"CLOUD\": 92, \"SLP\": 999.7, \"PTYPE\": \"RA\", \"RQP\": 1.9, \"SQP\": 0.0, \"FQP\": 0, \"IQP\": 0, \"WS925\": 17, \"WD925\": 95, \"TMP850\": 2.9, \"WS850\": 36, \"WD850\": 148, \"WS700\": 24, \"WD700\": 157, \"PC1\": 1.9, \"Zero\": \"0\"}, {\"DATETIME\": \"2023-11-06T10:00:00\", \"DATE\": \"2023-11-06T00:00:00\", \"TIME\": \"10:00\", \"TMP\": 8.7, \"DPT\": 7.6, \"RH\": 93, \"WS\": 4, \"WD\": 21, \"APCP\": 2.5, \"CLOUD\": 92, \"SLP\": 999.2, \"PTYPE\": \"RA\", \"RQP\": 2.5, \"SQP\": 0.0, \"FQP\": 0, \"IQP\": 0, \"WS925\": 11, \"WD925\": 80, \"TMP850\": 2.9, \"WS850\": 26, \"WD850\": 142, \"WS700\": 24, \"WD700\": 178, \"PC1\": 0.6000000000000001, \"Zero\": \"0\"}, {\"DATETIME\": \"2023-11-06T13:00:00\", \"DATE\": \"2023-11-06T00:00:00\", \"TIME\": \"13:00\", \"TMP\": 9.1, \"DPT\": 8.7, \"RH\": 97, \"WS\": 4, \"WD\": 150, \"APCP\": 5.0, \"CLOUD\": 92, \"SLP\": 999.6, \"PTYPE\": \"RA\", \"RQP\": 5.0, \"SQP\": 0.0, \"FQP\": 0, \"IQP\": 0, \"WS925\": 11, \"WD925\": 113, \"TMP850\": 1.9, \"WS850\": 18, \"WD850\": 129, \"WS700\": 25, \"WD700\": 166, \"PC1\": 2.5, \"Zero\": \"0\"}, {\"DATETIME\": \"2023-11-06T16:00:00\", \"DATE\": \"2023-11-06T00:00:00\", \"TIME\": \"16:00\", \"TMP\": 9.1, \"DPT\": 8.5, \"RH\": 96, \"WS\": 4, \"WD\": 50, \"APCP\": 8.7, \"CLOUD\": 92, \"SLP\": 1000.1, \"PTYPE\": \"RA\", \"RQP\": 8.7, \"SQP\": 0.0, \"FQP\": 0, \"IQP\": 0, \"WS925\": 16, \"WD925\": 91, \"TMP850\": 2.5, \"WS850\": 22, \"WD850\": 151, \"WS700\": 15, \"WD700\": 120, \"PC1\": 3.6999999999999993, \"Zero\": \"0\"}, {\"DATETIME\": \"2023-11-06T19:00:00\", \"DATE\": \"2023-11-06T00:00:00\", \"TIME\": \"19:00\", \"TMP\": 8.8, \"DPT\": 8.2, \"RH\": 96, \"WS\": 3, \"WD\": 77, \"APCP\": 10.6, \"CLOUD\": 92, \"SLP\": 1002.0, \"PTYPE\": \"RA\", \"RQP\": 10.6, \"SQP\": 0.0, \"FQP\": 0, \"IQP\": 0, \"WS925\": 12, \"WD925\": 77, \"TMP850\": 2.1, \"WS850\": 21, \"WD850\": 138, \"WS700\": 11, \"WD700\": 76, \"PC1\": 1.9000000000000004, \"Zero\": \"0\"}, {\"DATETIME\": \"2023-11-06T22:00:00\", \"DATE\": \"2023-11-06T00:00:00\", \"TIME\": \"22:00\", \"TMP\": 8.6, \"DPT\": 8.2, \"RH\": 97, \"WS\": 1, \"WD\": 49, \"APCP\": 12.5, \"CLOUD\": 92, \"SLP\": 1003.8, \"PTYPE\": \"RA\", \"RQP\": 12.5, \"SQP\": 0.0, \"FQP\": 0, \"IQP\": 0, \"WS925\": 9, \"WD925\": 45, \"TMP850\": 2.3, \"WS850\": 8, \"WD850\": 194, \"WS700\": 11, \"WD700\": 329, \"PC1\": 1.9000000000000004, \"Zero\": \"0\"}, {\"DATETIME\": \"2023-11-07T01:00:00\", \"DATE\": \"2023-11-07T00:00:00\", \"TIME\": \"1:00\", \"TMP\": 8.6, \"DPT\": 8.2, \"RH\": 97, \"WS\": 3, \"WD\": 256, \"APCP\": 13.1, \"CLOUD\": 92, \"SLP\": 1005.7, \"PTYPE\": \"RA\", \"RQP\": 13.1, \"SQP\": 0.0, \"FQP\": 0, \"IQP\": 0, \"WS925\": 10, \"WD925\": 272, \"TMP850\": 1.9, \"WS850\": 26, \"WD850\": 293, \"WS700\": 29, \"WD700\": 288, \"PC1\": 0.5999999999999996, \"Zero\": \"0\"}, {\"DATETIME\": \"2023-11-07T04:00:00\", \"DATE\": \"2023-11-07T00:00:00\", \"TIME\": \"4:00\", \"TMP\": 8.8, \"DPT\": 8.3, \"RH\": 97, \"WS\": 6, \"WD\": 258, \"APCP\": 13.7, \"CLOUD\": 68, \"SLP\": 1007.5, \"PTYPE\": \"RA\", \"RQP\": 13.7, \"SQP\": 0.0, \"FQP\": 0, \"IQP\": 0, \"WS925\": 16, \"WD925\": 290, \"TMP850\": 2.2, \"WS850\": 30, \"WD850\": 296, \"WS700\": 41, \"WD700\": 279, \"PC1\": 0.5999999999999996, \"Zero\": \"0\"}, {\"DATETIME\": \"2023-11-07T07:00:00\", \"DATE\": \"2023-11-07T00:00:00\", \"TIME\": \"7:00\", \"TMP\": 7.7, \"DPT\": 6.3, \"RH\": 91, \"WS\": 9, \"WD\": 274, \"APCP\": 13.8, \"CLOUD\": 20, \"SLP\": 1010.7, \"PTYPE\": \"RA\", \"RQP\": 13.8, \"SQP\": 0.0, \"FQP\": 0, \"IQP\": 0, \"WS925\": 34, \"WD925\": 297, \"TMP850\": 2.2, \"WS850\": 49, \"WD850\": 295, \"WS700\": 51, \"WD700\": 309, \"PC1\": 0.10000000000000142, \"Zero\": \"0\"}, {\"DATETIME\": \"2023-11-07T10:00:00\", \"DATE\": \"2023-11-07T00:00:00\", \"TIME\": \"10:00\", \"TMP\": 7.0, \"DPT\": 4.2, \"RH\": 82, \"WS\": 9, \"WD\": 268, \"APCP\": 13.8, \"CLOUD\": 0, \"SLP\": 1014.6, \"PTYPE\": null, \"RQP\": 13.8, \"SQP\": 0.0, \"FQP\": 0, \"IQP\": 0, \"WS925\": 20, \"WD925\": 302, \"TMP850\": 2.7, \"WS850\": 36, \"WD850\": 302, \"WS700\": 52, \"WD700\": 313, \"PC1\": 0.0, \"Zero\": \"0\"}, {\"DATETIME\": \"2023-11-07T13:00:00\", \"DATE\": \"2023-11-07T00:00:00\", \"TIME\": \"13:00\", \"TMP\": 7.9, \"DPT\": 3.9, \"RH\": 76, \"WS\": 8, \"WD\": 250, \"APCP\": 13.8, \"CLOUD\": 20, \"SLP\": 1018.0, \"PTYPE\": null, \"RQP\": 13.8, \"SQP\": 0.0, \"FQP\": 0, \"IQP\": 0, \"WS925\": 16, \"WD925\": 284, \"TMP850\": 1.2, \"WS850\": 36, \"WD850\": 297, \"WS700\": 69, \"WD700\": 319, \"PC1\": 0.0, \"Zero\": \"0\"}, {\"DATETIME\": \"2023-11-07T16:00:00\", \"DATE\": \"2023-11-07T00:00:00\", \"TIME\": \"16:00\", \"TMP\": 7.4, \"DPT\": 3.4, \"RH\": 76, \"WS\": 2, \"WD\": 251, \"APCP\": 13.8, \"CLOUD\": 0, \"SLP\": 1020.9, \"PTYPE\": null, \"RQP\": 13.8, \"SQP\": 0.0, \"FQP\": 0, \"IQP\": 0, \"WS925\": 17, \"WD925\": 286, \"TMP850\": 0.1, \"WS850\": 42, \"WD850\": 279, \"WS700\": 58, \"WD700\": 326, \"PC1\": 0.0, \"Zero\": \"0\"}, {\"DATETIME\": \"2023-11-07T19:00:00\", \"DATE\": \"2023-11-07T00:00:00\", \"TIME\": \"19:00\", \"TMP\": 5.2, \"DPT\": 4.1, \"RH\": 93, \"WS\": 6, \"WD\": 65, \"APCP\": 13.8, \"CLOUD\": 8, \"SLP\": 1024.1, \"PTYPE\": null, \"RQP\": 13.8, \"SQP\": 0.0, \"FQP\": 0, \"IQP\": 0, \"WS925\": 12, \"WD925\": 274, \"TMP850\": -0.8, \"WS850\": 33, \"WD850\": 276, \"WS700\": 43, \"WD700\": 298, \"PC1\": 0.0, \"Zero\": \"0\"}, {\"DATETIME\": \"2023-11-07T22:00:00\", \"DATE\": \"2023-11-07T00:00:00\", \"TIME\": \"22:00\", \"TMP\": 4.8, \"DPT\": 3.3, \"RH\": 90, \"WS\": 5, \"WD\": 54, \"APCP\": 13.8, \"CLOUD\": 8, \"SLP\": 1026.1, \"PTYPE\": null, \"RQP\": 13.8, \"SQP\": 0.0, \"FQP\": 0, \"IQP\": 0, \"WS925\": 12, \"WD925\": 226, \"TMP850\": -1.6, \"WS850\": 25, \"WD850\": 276, \"WS700\": 51, \"WD700\": 281, \"PC1\": 0.0, \"Zero\": \"0\"}, {\"DATETIME\": \"2023-11-08T01:00:00\", \"DATE\": \"2023-11-08T00:00:00\", \"TIME\": \"1:00\", \"TMP\": 4.8, \"DPT\": 3.1, \"RH\": 89, \"WS\": 6, \"WD\": 46, \"APCP\": 13.8, \"CLOUD\": 68, \"SLP\": 1027.8, \"PTYPE\": null, \"RQP\": 13.8, \"SQP\": 0.0, \"FQP\": 0, \"IQP\": 0, \"WS925\": 8, \"WD925\": 222, \"TMP850\": -2.3, \"WS850\": 19, \"WD850\": 281, \"WS700\": 44, \"WD700\": 291, \"PC1\": 0.0, \"Zero\": \"0\"}, {\"DATETIME\": \"2023-11-08T04:00:00\", \"DATE\": \"2023-11-08T00:00:00\", \"TIME\": \"4:00\", \"TMP\": 5.5, \"DPT\": 3.7, \"RH\": 88, \"WS\": 5, \"WD\": 49, \"APCP\": 13.8, \"CLOUD\": 56, \"SLP\": 1029.0, \"PTYPE\": null, \"RQP\": 13.8, \"SQP\": 0.0, \"FQP\": 0, \"IQP\": 0, \"WS925\": 5, \"WD925\": 159, \"TMP850\": -1.9, \"WS850\": 14, \"WD850\": 273, \"WS700\": 36, \"WD700\": 297, \"PC1\": 0.0, \"Zero\": \"0\"}, {\"DATETIME\": \"2023-11-08T07:00:00\", \"DATE\": \"2023-11-08T00:00:00\", \"TIME\": \"7:00\", \"TMP\": 5.3, \"DPT\": 3.9, \"RH\": 91, \"WS\": 6, \"WD\": 65, \"APCP\": 13.8, \"CLOUD\": 76, \"SLP\": 1030.1, \"PTYPE\": null, \"RQP\": 13.8, \"SQP\": 0.0, \"FQP\": 0, \"IQP\": 0, \"WS925\": 13, \"WD925\": 139, \"TMP850\": -1.9, \"WS850\": 7, \"WD850\": 230, \"WS700\": 32, \"WD700\": 295, \"PC1\": 0.0, \"Zero\": \"0\"}, {\"DATETIME\": \"2023-11-08T10:00:00\", \"DATE\": \"2023-11-08T00:00:00\", \"TIME\": \"10:00\", \"TMP\": 6.3, \"DPT\": 5.6, \"RH\": 95, \"WS\": 5, \"WD\": 94, \"APCP\": 14.7, \"CLOUD\": 92, \"SLP\": 1031.2, \"PTYPE\": \"RA\", \"RQP\": 14.7, \"SQP\": 0.0, \"FQP\": 0, \"IQP\": 0, \"WS925\": 16, \"WD925\": 150, \"TMP850\": -1.8, \"WS850\": 7, \"WD850\": 207, \"WS700\": 23, \"WD700\": 295, \"PC1\": 0.8999999999999986, \"Zero\": \"0\"}, {\"DATETIME\": \"2023-11-08T13:00:00\", \"DATE\": \"2023-11-08T00:00:00\", \"TIME\": \"13:00\", \"TMP\": 7.1, \"DPT\": 6.2, \"RH\": 94, \"WS\": 4, \"WD\": 114, \"APCP\": 15.4, \"CLOUD\": 88, \"SLP\": 1030.8, \"PTYPE\": \"RA\", \"RQP\": 15.4, \"SQP\": 0.0, \"FQP\": 0, \"IQP\": 0, \"WS925\": 12, \"WD925\": 143, \"TMP850\": -1.4, \"WS850\": 9, \"WD850\": 273, \"WS700\": 25, \"WD700\": 281, \"PC1\": 0.7000000000000011, \"Zero\": \"0\"}, {\"DATETIME\": \"2023-11-08T16:00:00\", \"DATE\": \"2023-11-08T00:00:00\", \"TIME\": \"16:00\", \"TMP\": 7.2, \"DPT\": 6.0, \"RH\": 92, \"WS\": 3, \"WD\": 108, \"APCP\": 15.5, \"CLOUD\": 36, \"SLP\": 1029.9, \"PTYPE\": \"RA\", \"RQP\": 15.5, \"SQP\": 0.0, \"FQP\": 0, \"IQP\": 0, \"WS925\": 8, \"WD925\": 122, \"TMP850\": -0.4, \"WS850\": 7, \"WD850\": 281, \"WS700\": 22, \"WD700\": 267, \"PC1\": 0.09999999999999964, \"Zero\": \"0\"}, {\"DATETIME\": \"2023-11-08T19:00:00\", \"DATE\": \"2023-11-08T00:00:00\", \"TIME\": \"19:00\", \"TMP\": 5.7, \"DPT\": 4.4, \"RH\": 91, \"WS\": 6, \"WD\": 44, \"APCP\": 15.5, \"CLOUD\": 24, \"SLP\": 1028.4, \"PTYPE\": null, \"RQP\": 15.5, \"SQP\": 0.0, \"FQP\": 0, \"IQP\": 0, \"WS925\": 9, \"WD925\": 111, \"TMP850\": -0.4, \"WS850\": 5, \"WD850\": 161, \"WS700\": 23, \"WD700\": 241, \"PC1\": 0.0, \"Zero\": \"0\"}, {\"DATETIME\": \"2023-11-08T22:00:00\", \"DATE\": \"2023-11-08T00:00:00\", \"TIME\": \"22:00\", \"TMP\": 4.9, \"DPT\": 3.6, \"RH\": 91, \"WS\": 6, \"WD\": 26, \"APCP\": 15.5, \"CLOUD\": 0, \"SLP\": 1026.5, \"PTYPE\": null, \"RQP\": 15.5, \"SQP\": 0.0, \"FQP\": 0, \"IQP\": 0, \"WS925\": 7, \"WD925\": 103, \"TMP850\": 0.4, \"WS850\": 10, \"WD850\": 154, \"WS700\": 29, \"WD700\": 216, \"PC1\": 0.0, \"Zero\": \"0\"}, {\"DATETIME\": \"2023-11-09T01:00:00\", \"DATE\": \"2023-11-09T00:00:00\", \"TIME\": \"1:00\", \"TMP\": 4.6, \"DPT\": 3.0, \"RH\": 89, \"WS\": 6, \"WD\": 40, \"APCP\": 15.5, \"CLOUD\": 32, \"SLP\": 1024.1, \"PTYPE\": null, \"RQP\": 15.5, \"SQP\": 0.0, \"FQP\": 0, \"IQP\": 0, \"WS925\": 13, \"WD925\": 100, \"TMP850\": 1.5, \"WS850\": 22, \"WD850\": 145, \"WS700\": 40, \"WD700\": 205, \"PC1\": 0.0, \"Zero\": \"0\"}, {\"DATETIME\": \"2023-11-09T04:00:00\", \"DATE\": \"2023-11-09T00:00:00\", \"TIME\": \"4:00\", \"TMP\": 4.4, \"DPT\": 2.5, \"RH\": 87, \"WS\": 6, \"WD\": 53, \"APCP\": 15.5, \"CLOUD\": 36, \"SLP\": 1021.2, \"PTYPE\": null, \"RQP\": 15.5, \"SQP\": 0.0, \"FQP\": 0, \"IQP\": 0, \"WS925\": 18, \"WD925\": 106, \"TMP850\": 1.2, \"WS850\": 37, \"WD850\": 146, \"WS700\": 51, \"WD700\": 202, \"PC1\": 0.0, \"Zero\": \"0\"}, {\"DATETIME\": \"2023-11-09T07:00:00\", \"DATE\": \"2023-11-09T00:00:00\", \"TIME\": \"7:00\", \"TMP\": 5.1, \"DPT\": 2.6, \"RH\": 84, \"WS\": 5, \"WD\": 38, \"APCP\": 15.5, \"CLOUD\": 92, \"SLP\": 1019.4, \"PTYPE\": null, \"RQP\": 15.5, \"SQP\": 0.0, \"FQP\": 0, \"IQP\": 0, \"WS925\": 23, \"WD925\": 132, \"TMP850\": 0.3, \"WS850\": 48, \"WD850\": 157, \"WS700\": 57, \"WD700\": 202, \"PC1\": 0.0, \"Zero\": \"0\"}, {\"DATETIME\": \"2023-11-09T10:00:00\", \"DATE\": \"2023-11-09T00:00:00\", \"TIME\": \"10:00\", \"TMP\": 7.5, \"DPT\": 2.4, \"RH\": 70, \"WS\": 8, \"WD\": 101, \"APCP\": 15.5, \"CLOUD\": 92, \"SLP\": 1017.8, \"PTYPE\": null, \"RQP\": 15.5, \"SQP\": 0.0, \"FQP\": 0, \"IQP\": 0, \"WS925\": 35, \"WD925\": 135, \"TMP850\": 0.5, \"WS850\": 45, \"WD850\": 159, \"WS700\": 65, \"WD700\": 189, \"PC1\": 0.0, \"Zero\": \"0\"}, {\"DATETIME\": \"2023-11-09T13:00:00\", \"DATE\": \"2023-11-09T00:00:00\", \"TIME\": \"13:00\", \"TMP\": 5.4, \"DPT\": 4.3, \"RH\": 93, \"WS\": 12, \"WD\": 99, \"APCP\": 18.9, \"CLOUD\": 92, \"SLP\": 1016.2, \"PTYPE\": \"RA\", \"RQP\": 18.9, \"SQP\": 0.0, \"FQP\": 0, \"IQP\": 0, \"WS925\": 42, \"WD925\": 130, \"TMP850\": -1.8, \"WS850\": 61, \"WD850\": 148, \"WS700\": 80, \"WD700\": 206, \"PC1\": 3.3999999999999986, \"Zero\": \"0\"}, {\"DATETIME\": \"2023-11-09T16:00:00\", \"DATE\": \"2023-11-09T00:00:00\", \"TIME\": \"16:00\", \"TMP\": 3.9, \"DPT\": 3.5, \"RH\": 97, \"WS\": 5, \"WD\": 72, \"APCP\": 34.6, \"CLOUD\": 92, \"SLP\": 1013.5, \"PTYPE\": \"RA/SN\", \"RQP\": 34.2, \"SQP\": 0.4, \"FQP\": 0, \"IQP\": 0, \"WS925\": 23, \"WD925\": 119, \"TMP850\": -1.8, \"WS850\": 57, \"WD850\": 148, \"WS700\": 54, \"WD700\": 210, \"PC1\": 15.700000000000003, \"Zero\": \"0\"}, {\"DATETIME\": \"2023-11-09T19:00:00\", \"DATE\": \"2023-11-09T00:00:00\", \"TIME\": \"19:00\", \"TMP\": 3.9, \"DPT\": 2.9, \"RH\": 93, \"WS\": 3, \"WD\": 34, \"APCP\": 44.6, \"CLOUD\": 92, \"SLP\": 1014.1, \"PTYPE\": \"RA/SN\", \"RQP\": 42.8, \"SQP\": 1.8, \"FQP\": 0, \"IQP\": 0, \"WS925\": 7, \"WD925\": 217, \"TMP850\": -1.3, \"WS850\": 38, \"WD850\": 273, \"WS700\": 46, \"WD700\": 279, \"PC1\": 10.0, \"Zero\": \"0\"}, {\"DATETIME\": \"2023-11-09T22:00:00\", \"DATE\": \"2023-11-09T00:00:00\", \"TIME\": \"22:00\", \"TMP\": 4.6, \"DPT\": 3.9, \"RH\": 95, \"WS\": 1, \"WD\": 168, \"APCP\": 44.8, \"CLOUD\": 88, \"SLP\": 1017.4, \"PTYPE\": \"RA\", \"RQP\": 43.1, \"SQP\": 1.8, \"FQP\": 0, \"IQP\": 0, \"WS925\": 18, \"WD925\": 277, \"TMP850\": -2.8, \"WS850\": 38, \"WD850\": 291, \"WS700\": 50, \"WD700\": 271, \"PC1\": 0.19999999999999574, \"Zero\": \"0\"}, {\"DATETIME\": \"2023-11-10T01:00:00\", \"DATE\": \"2023-11-10T00:00:00\", \"TIME\": \"1:00\", \"TMP\": 4.7, \"DPT\": 4.0, \"RH\": 95, \"WS\": 5, \"WD\": 75, \"APCP\": 44.9, \"CLOUD\": 36, \"SLP\": 1019.6, \"PTYPE\": null, \"RQP\": 43.1, \"SQP\": 1.8, \"FQP\": 0, \"IQP\": 0, \"WS925\": 6, \"WD925\": 255, \"TMP850\": -2.8, \"WS850\": 28, \"WD850\": 273, \"WS700\": 47, \"WD700\": 266, \"PC1\": 0.10000000000000142, \"Zero\": \"0\"}, {\"DATETIME\": \"2023-11-10T04:00:00\", \"DATE\": \"2023-11-10T00:00:00\", \"TIME\": \"4:00\", \"TMP\": 4.9, \"DPT\": 4.0, \"RH\": 94, \"WS\": 7, \"WD\": 68, \"APCP\": 45.5, \"CLOUD\": 92, \"SLP\": 1020.1, \"PTYPE\": \"RA\", \"RQP\": 43.7, \"SQP\": 1.8, \"FQP\": 0, \"IQP\": 0, \"WS925\": 15, \"WD925\": 168, \"TMP850\": -1.8, \"WS850\": 24, \"WD850\": 250, \"WS700\": 50, \"WD700\": 255, \"PC1\": 0.6000000000000014, \"Zero\": \"0\"}, {\"DATETIME\": \"2023-11-10T07:00:00\", \"DATE\": \"2023-11-10T00:00:00\", \"TIME\": \"7:00\", \"TMP\": 4.6, \"DPT\": 4.2, \"RH\": 97, \"WS\": 6, \"WD\": 93, \"APCP\": 50.7, \"CLOUD\": 92, \"SLP\": 1019.9, \"PTYPE\": \"RA\", \"RQP\": 49.0, \"SQP\": 1.8, \"FQP\": 0, \"IQP\": 0, \"WS925\": 28, \"WD925\": 173, \"TMP850\": -1.8, \"WS850\": 28, \"WD850\": 205, \"WS700\": 36, \"WD700\": 234, \"PC1\": 5.200000000000003, \"Zero\": \"0\"}, {\"DATETIME\": \"2023-11-10T10:00:00\", \"DATE\": \"2023-11-10T00:00:00\", \"TIME\": \"10:00\", \"TMP\": 6.3, \"DPT\": 5.8, \"RH\": 97, \"WS\": 11, \"WD\": 145, \"APCP\": 54.4, \"CLOUD\": 56, \"SLP\": 1019.6, \"PTYPE\": \"RA\", \"RQP\": 52.6, \"SQP\": 1.8, \"FQP\": 0, \"IQP\": 0, \"WS925\": 31, \"WD925\": 173, \"TMP850\": -2.3, \"WS850\": 20, \"WD850\": 197, \"WS700\": 37, \"WD700\": 221, \"PC1\": 3.6999999999999957, \"Zero\": \"0\"}, {\"DATETIME\": \"2023-11-10T13:00:00\", \"DATE\": \"2023-11-10T00:00:00\", \"TIME\": \"13:00\", \"TMP\": 7.3, \"DPT\": 6.1, \"RH\": 92, \"WS\": 11, \"WD\": 143, \"APCP\": 54.7, \"CLOUD\": 68, \"SLP\": 1018.5, \"PTYPE\": \"RA\", \"RQP\": 52.9, \"SQP\": 1.8, \"FQP\": 0, \"IQP\": 0, \"WS925\": 24, \"WD925\": 160, \"TMP850\": -2.1, \"WS850\": 27, \"WD850\": 197, \"WS700\": 50, \"WD700\": 215, \"PC1\": 0.30000000000000426, \"Zero\": \"0\"}, {\"DATETIME\": \"2023-11-10T16:00:00\", \"DATE\": \"2023-11-10T00:00:00\", \"TIME\": \"16:00\", \"TMP\": 6.3, \"DPT\": 5.7, \"RH\": 96, \"WS\": 11, \"WD\": 112, \"APCP\": 56.7, \"CLOUD\": 92, \"SLP\": 1016.3, \"PTYPE\": \"RA\", \"RQP\": 54.9, \"SQP\": 1.8, \"FQP\": 0, \"IQP\": 0, \"WS925\": 30, \"WD925\": 135, \"TMP850\": -1.3, \"WS850\": 40, \"WD850\": 190, \"WS700\": 53, \"WD700\": 233, \"PC1\": 2.0, \"Zero\": \"0\"}, {\"DATETIME\": \"2023-11-10T19:00:00\", \"DATE\": \"2023-11-10T00:00:00\", \"TIME\": \"19:00\", \"TMP\": 6.4, \"DPT\": 6.0, \"RH\": 97, \"WS\": 14, \"WD\": 127, \"APCP\": 65.4, \"CLOUD\": 92, \"SLP\": 1012.9, \"PTYPE\": \"RA\", \"RQP\": 63.7, \"SQP\": 1.8, \"FQP\": 0, \"IQP\": 0, \"WS925\": 52, \"WD925\": 151, \"TMP850\": -1.1, \"WS850\": 51, \"WD850\": 163, \"WS700\": 95, \"WD700\": 235, \"PC1\": 8.700000000000003, \"Zero\": \"0\"}, {\"DATETIME\": \"2023-11-10T22:00:00\", \"DATE\": \"2023-11-10T00:00:00\", \"TIME\": \"22:00\", \"TMP\": 6.5, \"DPT\": 6.3, \"RH\": 99, \"WS\": 20, \"WD\": 141, \"APCP\": 82.1, \"CLOUD\": 92, \"SLP\": 1007.8, \"PTYPE\": \"RA\", \"RQP\": 80.3, \"SQP\": 1.8, \"FQP\": 0, \"IQP\": 0, \"WS925\": 64, \"WD925\": 157, \"TMP850\": 0.1, \"WS850\": 69, \"WD850\": 172, \"WS700\": 128, \"WD700\": 225, \"PC1\": 16.69999999999999, \"Zero\": \"0\"}, {\"DATETIME\": \"2023-11-11T01:00:00\", \"DATE\": \"2023-11-11T00:00:00\", \"TIME\": \"1:00\", \"TMP\": 7.5, \"DPT\": 7.3, \"RH\": 99, \"WS\": 13, \"WD\": 200, \"APCP\": 118.4, \"CLOUD\": 92, \"SLP\": 1005.3, \"PTYPE\": \"RA\", \"RQP\": 116.6, \"SQP\": 1.8, \"FQP\": 0, \"IQP\": 0, \"WS925\": 49, \"WD925\": 200, \"TMP850\": 2.0, \"WS850\": 66, \"WD850\": 231, \"WS700\": 96, \"WD700\": 245, \"PC1\": 36.30000000000001, \"Zero\": \"0\"}, {\"DATETIME\": \"2023-11-11T04:00:00\", \"DATE\": \"2023-11-11T00:00:00\", \"TIME\": \"4:00\", \"TMP\": 7.4, \"DPT\": 6.6, \"RH\": 95, \"WS\": 3, \"WD\": 187, \"APCP\": 121.1, \"CLOUD\": 92, \"SLP\": 1006.6, \"PTYPE\": \"RA\", \"RQP\": 119.4, \"SQP\": 1.8, \"FQP\": 0, \"IQP\": 0, \"WS925\": 28, \"WD925\": 230, \"TMP850\": -0.8, \"WS850\": 43, \"WD850\": 240, \"WS700\": 81, \"WD700\": 259, \"PC1\": 2.6999999999999886, \"Zero\": \"0\"}, {\"DATETIME\": \"2023-11-11T07:00:00\", \"DATE\": \"2023-11-11T00:00:00\", \"TIME\": \"7:00\", \"TMP\": 6.6, \"DPT\": 5.8, \"RH\": 95, \"WS\": 4, \"WD\": 243, \"APCP\": 124.9, \"CLOUD\": 88, \"SLP\": 1009.2, \"PTYPE\": \"RA\", \"RQP\": 123.1, \"SQP\": 1.8, \"FQP\": 0, \"IQP\": 0, \"WS925\": 27, \"WD925\": 240, \"TMP850\": -1.1, \"WS850\": 39, \"WD850\": 245, \"WS700\": 73, \"WD700\": 259, \"PC1\": 3.8000000000000114, \"Zero\": \"0\"}, {\"DATETIME\": \"2023-11-11T10:00:00\", \"DATE\": \"2023-11-11T00:00:00\", \"TIME\": \"10:00\", \"TMP\": 7.3, \"DPT\": 5.5, \"RH\": 88, \"WS\": 13, \"WD\": 217, \"APCP\": 128.1, \"CLOUD\": 92, \"SLP\": 1011.3, \"PTYPE\": \"RA\", \"RQP\": 126.4, \"SQP\": 1.8, \"FQP\": 0, \"IQP\": 0, \"WS925\": 48, \"WD925\": 226, \"TMP850\": -1.0, \"WS850\": 60, \"WD850\": 233, \"WS700\": 81, \"WD700\": 257, \"PC1\": 3.1999999999999886, \"Zero\": \"0\"}, {\"DATETIME\": \"2023-11-11T13:00:00\", \"DATE\": \"2023-11-11T00:00:00\", \"TIME\": \"13:00\", \"TMP\": 8.1, \"DPT\": 4.4, \"RH\": 77, \"WS\": 6, \"WD\": 222, \"APCP\": 129.4, \"CLOUD\": 92, \"SLP\": 1013.3, \"PTYPE\": \"RA\", \"RQP\": 127.6, \"SQP\": 1.8, \"FQP\": 0, \"IQP\": 0, \"WS925\": 26, \"WD925\": 242, \"TMP850\": -1.4, \"WS850\": 36, \"WD850\": 248, \"WS700\": 100, \"WD700\": 250, \"PC1\": 1.3000000000000114, \"Zero\": \"0\"}, {\"DATETIME\": \"2023-11-11T16:00:00\", \"DATE\": \"2023-11-11T00:00:00\", \"TIME\": \"16:00\", \"TMP\": 6.8, \"DPT\": 6.5, \"RH\": 98, \"WS\": 3, \"WD\": 169, \"APCP\": 134.4, \"CLOUD\": 92, \"SLP\": 1012.9, \"PTYPE\": \"RA\", \"RQP\": 132.7, \"SQP\": 1.8, \"FQP\": 0, \"IQP\": 0, \"WS925\": 24, \"WD925\": 217, \"TMP850\": -0.5, \"WS850\": 35, \"WD850\": 232, \"WS700\": 69, \"WD700\": 241, \"PC1\": 5.0, \"Zero\": \"0\"}, {\"DATETIME\": \"2023-11-11T19:00:00\", \"DATE\": \"2023-11-11T00:00:00\", \"TIME\": \"19:00\", \"TMP\": 7.4, \"DPT\": 6.9, \"RH\": 97, \"WS\": 14, \"WD\": 184, \"APCP\": 141.9, \"CLOUD\": 88, \"SLP\": 1011.9, \"PTYPE\": \"RA\", \"RQP\": 140.2, \"SQP\": 1.8, \"FQP\": 0, \"IQP\": 0, \"WS925\": 47, \"WD925\": 202, \"TMP850\": 0.4, \"WS850\": 60, \"WD850\": 212, \"WS700\": 85, \"WD700\": 239, \"PC1\": 7.5, \"Zero\": \"0\"}, {\"DATETIME\": \"2023-11-11T22:00:00\", \"DATE\": \"2023-11-11T00:00:00\", \"TIME\": \"22:00\", \"TMP\": 6.6, \"DPT\": 5.6, \"RH\": 93, \"WS\": 5, \"WD\": 262, \"APCP\": 148.9, \"CLOUD\": 36, \"SLP\": 1013.5, \"PTYPE\": \"RA\", \"RQP\": 147.1, \"SQP\": 1.8, \"FQP\": 0, \"IQP\": 0, \"WS925\": 28, \"WD925\": 247, \"TMP850\": -1.9, \"WS850\": 39, \"WD850\": 250, \"WS700\": 84, \"WD700\": 252, \"PC1\": 7.0, \"Zero\": \"0\"}, {\"DATETIME\": \"2023-11-12T01:00:00\", \"DATE\": \"2023-11-12T00:00:00\", \"TIME\": \"1:00\", \"TMP\": 5.2, \"DPT\": 3.7, \"RH\": 90, \"WS\": 1, \"WD\": 57, \"APCP\": 148.9, \"CLOUD\": 32, \"SLP\": 1016.3, \"PTYPE\": null, \"RQP\": 147.2, \"SQP\": 1.8, \"FQP\": 0, \"IQP\": 0, \"WS925\": 13, \"WD925\": 255, \"TMP850\": -3.1, \"WS850\": 18, \"WD850\": 264, \"WS700\": 53, \"WD700\": 258, \"PC1\": 0.0, \"Zero\": \"0\"}, {\"DATETIME\": \"2023-11-12T04:00:00\", \"DATE\": \"2023-11-12T00:00:00\", \"TIME\": \"4:00\", \"TMP\": 4.9, \"DPT\": 3.8, \"RH\": 93, \"WS\": 6, \"WD\": 57, \"APCP\": 148.9, \"CLOUD\": 44, \"SLP\": 1018.1, \"PTYPE\": null, \"RQP\": 147.2, \"SQP\": 1.8, \"FQP\": 0, \"IQP\": 0, \"WS925\": 5, \"WD925\": 190, \"TMP850\": -3.6, \"WS850\": 4, \"WD850\": 193, \"WS700\": 42, \"WD700\": 258, \"PC1\": 0.0, \"Zero\": \"0\"}, {\"DATETIME\": \"2023-11-12T07:00:00\", \"DATE\": \"2023-11-12T00:00:00\", \"TIME\": \"7:00\", \"TMP\": 4.5, \"DPT\": 3.4, \"RH\": 93, \"WS\": 6, \"WD\": 51, \"APCP\": 148.9, \"CLOUD\": 24, \"SLP\": 1018.9, \"PTYPE\": null, \"RQP\": 147.2, \"SQP\": 1.8, \"FQP\": 0, \"IQP\": 0, \"WS925\": 8, \"WD925\": 114, \"TMP850\": -2.6, \"WS850\": 11, \"WD850\": 165, \"WS700\": 36, \"WD700\": 254, \"PC1\": 0.0, \"Zero\": \"0\"}, {\"DATETIME\": \"2023-11-12T10:00:00\", \"DATE\": \"2023-11-12T00:00:00\", \"TIME\": \"10:00\", \"TMP\": 6.0, \"DPT\": 3.9, \"RH\": 86, \"WS\": 5, \"WD\": 63, \"APCP\": 148.9, \"CLOUD\": 48, \"SLP\": 1019.7, \"PTYPE\": null, \"RQP\": 147.2, \"SQP\": 1.8, \"FQP\": 0, \"IQP\": 0, \"WS925\": 13, \"WD925\": 105, \"TMP850\": -2.0, \"WS850\": 9, \"WD850\": 153, \"WS700\": 40, \"WD700\": 248, \"PC1\": 0.0, \"Zero\": \"0\"}, {\"DATETIME\": \"2023-11-12T13:00:00\", \"DATE\": \"2023-11-12T00:00:00\", \"TIME\": \"13:00\", \"TMP\": 7.3, \"DPT\": 3.5, \"RH\": 77, \"WS\": 4, \"WD\": 58, \"APCP\": 148.9, \"CLOUD\": 92, \"SLP\": 1018.0, \"PTYPE\": null, \"RQP\": 147.2, \"SQP\": 1.8, \"FQP\": 0, \"IQP\": 0, \"WS925\": 16, \"WD925\": 85, \"TMP850\": -0.5, \"WS850\": 22, \"WD850\": 119, \"WS700\": 41, \"WD700\": 233, \"PC1\": 0.0, \"Zero\": \"0\"}, {\"DATETIME\": \"2023-11-12T16:00:00\", \"DATE\": \"2023-11-12T00:00:00\", \"TIME\": \"16:00\", \"TMP\": 6.9, \"DPT\": 3.4, \"RH\": 78, \"WS\": 6, \"WD\": 38, \"APCP\": 148.9, \"CLOUD\": 92, \"SLP\": 1016.5, \"PTYPE\": null, \"RQP\": 147.2, \"SQP\": 1.8, \"FQP\": 0, \"IQP\": 0, \"WS925\": 21, \"WD925\": 78, \"TMP850\": 0.3, \"WS850\": 26, \"WD850\": 125, \"WS700\": 33, \"WD700\": 181, \"PC1\": 0.0, \"Zero\": \"0\"}, {\"DATETIME\": \"2023-11-12T19:00:00\", \"DATE\": \"2023-11-12T00:00:00\", \"TIME\": \"19:00\", \"TMP\": 6.4, \"DPT\": 3.4, \"RH\": 81, \"WS\": 10, \"WD\": 32, \"APCP\": 149.0, \"CLOUD\": 76, \"SLP\": 1014.6, \"PTYPE\": \"RA\", \"RQP\": 147.3, \"SQP\": 1.8, \"FQP\": 0, \"IQP\": 0, \"WS925\": 24, \"WD925\": 85, \"TMP850\": 2.1, \"WS850\": 40, \"WD850\": 146, \"WS700\": 26, \"WD700\": 199, \"PC1\": 0.09999999999999432, \"Zero\": \"0\"}, {\"DATETIME\": \"2023-11-12T22:00:00\", \"DATE\": \"2023-11-12T00:00:00\", \"TIME\": \"22:00\", \"TMP\": 6.9, \"DPT\": 5.0, \"RH\": 88, \"WS\": 12, \"WD\": 32, \"APCP\": 149.4, \"CLOUD\": 92, \"SLP\": 1013.6, \"PTYPE\": \"RA\", \"RQP\": 147.7, \"SQP\": 1.8, \"FQP\": 0, \"IQP\": 0, \"WS925\": 31, \"WD925\": 86, \"TMP850\": 1.5, \"WS850\": 45, \"WD850\": 119, \"WS700\": 48, \"WD700\": 196, \"PC1\": 0.4000000000000057, \"Zero\": \"0\"}, {\"DATETIME\": \"2023-11-13T01:00:00\", \"DATE\": \"2023-11-13T00:00:00\", \"TIME\": \"1:00\", \"TMP\": 7.4, \"DPT\": 5.5, \"RH\": 88, \"WS\": 12, \"WD\": 26, \"APCP\": 150.0, \"CLOUD\": 92, \"SLP\": 1011.8, \"PTYPE\": \"RA\", \"RQP\": 148.3, \"SQP\": 1.8, \"FQP\": 0, \"IQP\": 0, \"WS925\": 28, \"WD925\": 82, \"TMP850\": 4.8, \"WS850\": 41, \"WD850\": 129, \"WS700\": 88, \"WD700\": 208, \"PC1\": 0.5999999999999943, \"Zero\": \"0\"}, {\"DATETIME\": \"2023-11-13T04:00:00\", \"DATE\": \"2023-11-13T00:00:00\", \"TIME\": \"4:00\", \"TMP\": 7.3, \"DPT\": 5.1, \"RH\": 86, \"WS\": 5, \"WD\": 21, \"APCP\": 150.0, \"CLOUD\": 88, \"SLP\": 1011.8, \"PTYPE\": null, \"RQP\": 148.3, \"SQP\": 1.8, \"FQP\": 0, \"IQP\": 0, \"WS925\": 16, \"WD925\": 84, \"TMP850\": 6.7, \"WS850\": 33, \"WD850\": 122, \"WS700\": 62, \"WD700\": 196, \"PC1\": 0.0, \"Zero\": \"0\"}, {\"DATETIME\": \"2023-11-13T07:00:00\", \"DATE\": \"2023-11-13T00:00:00\", \"TIME\": \"7:00\", \"TMP\": 7.0, \"DPT\": 4.8, \"RH\": 86, \"WS\": 6, \"WD\": 34, \"APCP\": 150.0, \"CLOUD\": 68, \"SLP\": 1012.2, \"PTYPE\": null, \"RQP\": 148.3, \"SQP\": 1.8, \"FQP\": 0, \"IQP\": 0, \"WS925\": 15, \"WD925\": 95, \"TMP850\": 7.5, \"WS850\": 32, \"WD850\": 131, \"WS700\": 56, \"WD700\": 196, \"PC1\": 0.0, \"Zero\": \"0\"}, {\"DATETIME\": \"2023-11-13T10:00:00\", \"DATE\": \"2023-11-13T00:00:00\", \"TIME\": \"10:00\", \"TMP\": 8.9, \"DPT\": 6.0, \"RH\": 82, \"WS\": 3, \"WD\": 13, \"APCP\": 150.0, \"CLOUD\": 24, \"SLP\": 1014.8, \"PTYPE\": null, \"RQP\": 148.3, \"SQP\": 1.8, \"FQP\": 0, \"IQP\": 0, \"WS925\": 8, \"WD925\": 89, \"TMP850\": 6.4, \"WS850\": 25, \"WD850\": 151, \"WS700\": 51, \"WD700\": 183, \"PC1\": 0.0, \"Zero\": \"0\"}, {\"DATETIME\": \"2023-11-13T13:00:00\", \"DATE\": \"2023-11-13T00:00:00\", \"TIME\": \"13:00\", \"TMP\": 11.5, \"DPT\": 8.8, \"RH\": 83, \"WS\": 1, \"WD\": 168, \"APCP\": 150.0, \"CLOUD\": 36, \"SLP\": 1014.8, \"PTYPE\": null, \"RQP\": 148.3, \"SQP\": 1.8, \"FQP\": 0, \"IQP\": 0, \"WS925\": 11, \"WD925\": 93, \"TMP850\": 6.5, \"WS850\": 17, \"WD850\": 160, \"WS700\": 47, \"WD700\": 180, \"PC1\": 0.0, \"Zero\": \"0\"}, {\"DATETIME\": \"2023-11-13T16:00:00\", \"DATE\": \"2023-11-13T00:00:00\", \"TIME\": \"16:00\", \"TMP\": 10.3, \"DPT\": 9.3, \"RH\": 94, \"WS\": 2, \"WD\": 343, \"APCP\": 150.0, \"CLOUD\": 32, \"SLP\": 1014.9, \"PTYPE\": null, \"RQP\": 148.3, \"SQP\": 1.8, \"FQP\": 0, \"IQP\": 0, \"WS925\": 11, \"WD925\": 86, \"TMP850\": 7.0, \"WS850\": 21, \"WD850\": 137, \"WS700\": 37, \"WD700\": 182, \"PC1\": 0.0, \"Zero\": \"0\"}, {\"DATETIME\": \"2023-11-13T19:00:00\", \"DATE\": \"2023-11-13T00:00:00\", \"TIME\": \"19:00\", \"TMP\": 8.8, \"DPT\": 6.2, \"RH\": 84, \"WS\": 6, \"WD\": 29, \"APCP\": 150.0, \"CLOUD\": 24, \"SLP\": 1015.5, \"PTYPE\": null, \"RQP\": 148.3, \"SQP\": 1.8, \"FQP\": 0, \"IQP\": 0, \"WS925\": 9, \"WD925\": 73, \"TMP850\": 8.0, \"WS850\": 26, \"WD850\": 124, \"WS700\": 40, \"WD700\": 173, \"PC1\": 0.0, \"Zero\": \"0\"}, {\"DATETIME\": \"2023-11-13T22:00:00\", \"DATE\": \"2023-11-13T00:00:00\", \"TIME\": \"22:00\", \"TMP\": 7.6, \"DPT\": 3.9, \"RH\": 77, \"WS\": 7, \"WD\": 32, \"APCP\": 150.0, \"CLOUD\": 12, \"SLP\": 1016.8, \"PTYPE\": null, \"RQP\": 148.3, \"SQP\": 1.8, \"FQP\": 0, \"IQP\": 0, \"WS925\": 9, \"WD925\": 116, \"TMP850\": 8.8, \"WS850\": 27, \"WD850\": 123, \"WS700\": 46, \"WD700\": 171, \"PC1\": 0.0, \"Zero\": \"0\"}, {\"DATETIME\": \"2023-11-14T01:00:00\", \"DATE\": \"2023-11-14T00:00:00\", \"TIME\": \"1:00\", \"TMP\": 7.8, \"DPT\": 3.3, \"RH\": 73, \"WS\": 7, \"WD\": 25, \"APCP\": 150.0, \"CLOUD\": 76, \"SLP\": 1017.6, \"PTYPE\": null, \"RQP\": 148.3, \"SQP\": 1.8, \"FQP\": 0, \"IQP\": 0, \"WS925\": 10, \"WD925\": 109, \"TMP850\": 8.3, \"WS850\": 25, \"WD850\": 141, \"WS700\": 43, \"WD700\": 188, \"PC1\": 0.0, \"Zero\": \"0\"}, {\"DATETIME\": \"2023-11-14T04:00:00\", \"DATE\": \"2023-11-14T00:00:00\", \"TIME\": \"4:00\", \"TMP\": 7.3, \"DPT\": 3.3, \"RH\": 76, \"WS\": 5, \"WD\": 31, \"APCP\": 150.0, \"CLOUD\": 36, \"SLP\": 1017.5, \"PTYPE\": null, \"RQP\": 148.3, \"SQP\": 1.8, \"FQP\": 0, \"IQP\": 0, \"WS925\": 6, \"WD925\": 74, \"TMP850\": 8.5, \"WS850\": 24, \"WD850\": 140, \"WS700\": 41, \"WD700\": 192, \"PC1\": 0.0, \"Zero\": \"0\"}, {\"DATETIME\": \"2023-11-14T07:00:00\", \"DATE\": \"2023-11-14T00:00:00\", \"TIME\": \"7:00\", \"TMP\": 6.7, \"DPT\": 3.0, \"RH\": 77, \"WS\": 5, \"WD\": 38, \"APCP\": 150.0, \"CLOUD\": 0, \"SLP\": 1016.1, \"PTYPE\": null, \"RQP\": 148.3, \"SQP\": 1.8, \"FQP\": 0, \"IQP\": 0, \"WS925\": 8, \"WD925\": 75, \"TMP850\": 8.9, \"WS850\": 26, \"WD850\": 126, \"WS700\": 41, \"WD700\": 173, \"PC1\": 0.0, \"Zero\": \"0\"}, {\"DATETIME\": \"2023-11-14T10:00:00\", \"DATE\": \"2023-11-14T00:00:00\", \"TIME\": \"10:00\", \"TMP\": 8.4, \"DPT\": 4.3, \"RH\": 75, \"WS\": 1, \"WD\": 52, \"APCP\": 150.0, \"CLOUD\": 44, \"SLP\": 1015.6, \"PTYPE\": null, \"RQP\": 148.3, \"SQP\": 1.8, \"FQP\": 0, \"IQP\": 0, \"WS925\": 7, \"WD925\": 91, \"TMP850\": 9.5, \"WS850\": 31, \"WD850\": 112, \"WS700\": 55, \"WD700\": 167, \"PC1\": 0.0, \"Zero\": \"0\"}, {\"DATETIME\": \"2023-11-14T13:00:00\", \"DATE\": \"2023-11-14T00:00:00\", \"TIME\": \"13:00\", \"TMP\": 10.2, \"DPT\": 6.5, \"RH\": 78, \"WS\": 4, \"WD\": 52, \"APCP\": 150.0, \"CLOUD\": 80, \"SLP\": 1014.4, \"PTYPE\": null, \"RQP\": 148.3, \"SQP\": 1.8, \"FQP\": 0, \"IQP\": 0, \"WS925\": 21, \"WD925\": 108, \"TMP850\": 7.4, \"WS850\": 46, \"WD850\": 152, \"WS700\": 53, \"WD700\": 155, \"PC1\": 0.0, \"Zero\": \"0\"}, {\"DATETIME\": \"2023-11-14T16:00:00\", \"DATE\": \"2023-11-14T00:00:00\", \"TIME\": \"16:00\", \"TMP\": 10.5, \"DPT\": 7.9, \"RH\": 84, \"WS\": 3, \"WD\": 10, \"APCP\": 150.1, \"CLOUD\": 88, \"SLP\": 1011.2, \"PTYPE\": null, \"RQP\": 148.3, \"SQP\": 1.8, \"FQP\": 0, \"IQP\": 0, \"WS925\": 20, \"WD925\": 86, \"TMP850\": 7.5, \"WS850\": 39, \"WD850\": 141, \"WS700\": 35, \"WD700\": 173, \"PC1\": 0.09999999999999432, \"Zero\": \"0\"}, {\"DATETIME\": \"2023-11-14T19:00:00\", \"DATE\": \"2023-11-14T00:00:00\", \"TIME\": \"19:00\", \"TMP\": 9.9, \"DPT\": 7.4, \"RH\": 84, \"WS\": 10, \"WD\": 4, \"APCP\": 150.1, \"CLOUD\": 80, \"SLP\": 1008.8, \"PTYPE\": null, \"RQP\": 148.4, \"SQP\": 1.8, \"FQP\": 0, \"IQP\": 0, \"WS925\": 20, \"WD925\": 44, \"TMP850\": 6.4, \"WS850\": 36, \"WD850\": 94, \"WS700\": 87, \"WD700\": 166, \"PC1\": 0.0, \"Zero\": \"0\"}, {\"DATETIME\": \"2023-11-14T22:00:00\", \"DATE\": \"2023-11-14T00:00:00\", \"TIME\": \"22:00\", \"TMP\": 9.5, \"DPT\": 6.9, \"RH\": 84, \"WS\": 3, \"WD\": 27, \"APCP\": 150.1, \"CLOUD\": 92, \"SLP\": 1007.0, \"PTYPE\": null, \"RQP\": 148.4, \"SQP\": 1.8, \"FQP\": 0, \"IQP\": 0, \"WS925\": 13, \"WD925\": 98, \"TMP850\": 9.6, \"WS850\": 37, \"WD850\": 130, \"WS700\": 76, \"WD700\": 155, \"PC1\": 0.0, \"Zero\": \"0\"}, {\"DATETIME\": \"2023-11-15T01:00:00\", \"DATE\": \"2023-11-15T00:00:00\", \"TIME\": \"1:00\", \"TMP\": 10.6, \"DPT\": 6.5, \"RH\": 76, \"WS\": 7, \"WD\": 16, \"APCP\": 150.1, \"CLOUD\": 92, \"SLP\": 1004.8, \"PTYPE\": null, \"RQP\": 148.4, \"SQP\": 1.8, \"FQP\": 0, \"IQP\": 0, \"WS925\": 24, \"WD925\": 122, \"TMP850\": 8.3, \"WS850\": 31, \"WD850\": 137, \"WS700\": 81, \"WD700\": 160, \"PC1\": 0.0, \"Zero\": \"0\"}, {\"DATETIME\": \"2023-11-15T04:00:00\", \"DATE\": \"2023-11-15T00:00:00\", \"TIME\": \"4:00\", \"TMP\": 11.2, \"DPT\": 6.9, \"RH\": 75, \"WS\": 9, \"WD\": 22, \"APCP\": 150.1, \"CLOUD\": 92, \"SLP\": 1005.5, \"PTYPE\": null, \"RQP\": 148.4, \"SQP\": 1.8, \"FQP\": 0, \"IQP\": 0, \"WS925\": 22, \"WD925\": 144, \"TMP850\": 6.7, \"WS850\": 37, \"WD850\": 154, \"WS700\": 77, \"WD700\": 159, \"PC1\": 0.0, \"Zero\": \"0\"}, {\"DATETIME\": \"2023-11-15T07:00:00\", \"DATE\": \"2023-11-15T00:00:00\", \"TIME\": \"7:00\", \"TMP\": 11.8, \"DPT\": 6.8, \"RH\": 71, \"WS\": 11, \"WD\": 63, \"APCP\": 150.3, \"CLOUD\": 92, \"SLP\": 1007.3, \"PTYPE\": \"RA\", \"RQP\": 148.5, \"SQP\": 1.8, \"FQP\": 0, \"IQP\": 0, \"WS925\": 40, \"WD925\": 125, \"TMP850\": 5.0, \"WS850\": 47, \"WD850\": 137, \"WS700\": 71, \"WD700\": 176, \"PC1\": 0.20000000000001705, \"Zero\": \"0\"}, {\"DATETIME\": \"2023-11-15T10:00:00\", \"DATE\": \"2023-11-15T00:00:00\", \"TIME\": \"10:00\", \"TMP\": 11.1, \"DPT\": 7.7, \"RH\": 80, \"WS\": 9, \"WD\": 56, \"APCP\": 150.5, \"CLOUD\": 92, \"SLP\": 1009.4, \"PTYPE\": \"RA\", \"RQP\": 148.7, \"SQP\": 1.8, \"FQP\": 0, \"IQP\": 0, \"WS925\": 35, \"WD925\": 115, \"TMP850\": 3.4, \"WS850\": 48, \"WD850\": 134, \"WS700\": 66, \"WD700\": 183, \"PC1\": 0.19999999999998863, \"Zero\": \"0\"}, {\"DATETIME\": \"2023-11-15T13:00:00\", \"DATE\": \"2023-11-15T00:00:00\", \"TIME\": \"13:00\", \"TMP\": 10.3, \"DPT\": 8.5, \"RH\": 89, \"WS\": 5, \"WD\": 56, \"APCP\": 151.8, \"CLOUD\": 92, \"SLP\": 1011.2, \"PTYPE\": \"RA\", \"RQP\": 150.0, \"SQP\": 1.8, \"FQP\": 0, \"IQP\": 0, \"WS925\": 29, \"WD925\": 135, \"TMP850\": 2.8, \"WS850\": 49, \"WD850\": 156, \"WS700\": 53, \"WD700\": 197, \"PC1\": 1.3000000000000114, \"Zero\": \"0\"}, {\"DATETIME\": \"2023-11-15T16:00:00\", \"DATE\": \"2023-11-15T00:00:00\", \"TIME\": \"16:00\", \"TMP\": 9.7, \"DPT\": 8.9, \"RH\": 95, \"WS\": 6, \"WD\": 19, \"APCP\": 155.1, \"CLOUD\": 92, \"SLP\": 1012.8, \"PTYPE\": \"RA\", \"RQP\": 153.3, \"SQP\": 1.8, \"FQP\": 0, \"IQP\": 0, \"WS925\": 16, \"WD925\": 120, \"TMP850\": 2.2, \"WS850\": 39, \"WD850\": 154, \"WS700\": 45, \"WD700\": 195, \"PC1\": 3.299999999999983, \"Zero\": \"0\"}, {\"DATETIME\": \"2023-11-15T19:00:00\", \"DATE\": \"2023-11-15T00:00:00\", \"TIME\": \"19:00\", \"TMP\": 9.7, \"DPT\": 8.5, \"RH\": 92, \"WS\": 8, \"WD\": 45, \"APCP\": 155.8, \"CLOUD\": 92, \"SLP\": 1014.2, \"PTYPE\": \"RA\", \"RQP\": 154.1, \"SQP\": 1.8, \"FQP\": 0, \"IQP\": 0, \"WS925\": 21, \"WD925\": 118, \"TMP850\": 2.8, \"WS850\": 29, \"WD850\": 141, \"WS700\": 40, \"WD700\": 191, \"PC1\": 0.700000000000017, \"Zero\": \"0\"}, {\"DATETIME\": \"2023-11-15T22:00:00\", \"DATE\": \"2023-11-15T00:00:00\", \"TIME\": \"22:00\", \"TMP\": 8.8, \"DPT\": 7.4, \"RH\": 91, \"WS\": 7, \"WD\": 23, \"APCP\": 155.8, \"CLOUD\": 0, \"SLP\": 1014.6, \"PTYPE\": null, \"RQP\": 154.1, \"SQP\": 1.8, \"FQP\": 0, \"IQP\": 0, \"WS925\": 14, \"WD925\": 99, \"TMP850\": 3.7, \"WS850\": 26, \"WD850\": 152, \"WS700\": 33, \"WD700\": 193, \"PC1\": 0.0, \"Zero\": \"0\"}, {\"DATETIME\": \"2023-11-16T01:00:00\", \"DATE\": \"2023-11-16T00:00:00\", \"TIME\": \"1:00\", \"TMP\": 8.2, \"DPT\": 6.2, \"RH\": 87, \"WS\": 7, \"WD\": 20, \"APCP\": 155.8, \"CLOUD\": 0, \"SLP\": 1014.7, \"PTYPE\": null, \"RQP\": 154.1, \"SQP\": 1.8, \"FQP\": 0, \"IQP\": 0, \"WS925\": 10, \"WD925\": 76, \"TMP850\": 4.3, \"WS850\": 18, \"WD850\": 144, \"WS700\": 30, \"WD700\": 192, \"PC1\": 0.0, \"Zero\": \"0\"}, {\"DATETIME\": \"2023-11-16T04:00:00\", \"DATE\": \"2023-11-16T00:00:00\", \"TIME\": \"4:00\", \"TMP\": 8.0, \"DPT\": 5.3, \"RH\": 83, \"WS\": 8, \"WD\": 22, \"APCP\": 155.8, \"CLOUD\": 12, \"SLP\": 1013.6, \"PTYPE\": null, \"RQP\": 154.1, \"SQP\": 1.8, \"FQP\": 0, \"IQP\": 0, \"WS925\": 13, \"WD925\": 61, \"TMP850\": 5.8, \"WS850\": 13, \"WD850\": 111, \"WS700\": 26, \"WD700\": 189, \"PC1\": 0.0, \"Zero\": \"0\"}]}}, {\"mode\": \"vega-lite\"});\n",
       "</script>"
      ],
      "text/plain": [
       "alt.VConcatChart(...)"
      ]
     },
     "execution_count": 11,
     "metadata": {},
     "output_type": "execute_result"
    }
   ],
   "source": [
    "meteogram = temp2 & cloud_pressure & precip_total & wind \n",
    "meteogram = meteogram.configure_axis(labelFontSize=11, titleFontSize=12)\n",
    "meteogram"
   ]
  },
  {
   "cell_type": "markdown",
   "id": "c34aa6ac-b327-4fa4-a099-bd5b3d240f2c",
   "metadata": {},
   "source": [
    "Below is an Atmospheric River (AR) forecast from the Center for Western Weather and Water Extremes (CW3E). This shows the possibility of a relatively weak AR on November 11. We will most likely see decent rainfall totals with this storm, but major impacts are unlikely. \n",
    "\n",
    "```{figure} img/ARScale_Fx.png\n",
    "---\n",
    "name: ARscale\n",
    "---\n",
    "AR Scale forecast, issued on Nov. 6. ([CW3E](https://cw3e.ucsd.edu/arscale/))\n",
    "```"
   ]
  },
  {
   "cell_type": "markdown",
   "id": "4dd55595-0b7f-4212-bef4-41c8ceb71361",
   "metadata": {},
   "source": [
    "## Temperature Outlooks\n",
    "\n",
    "The maps below show the probabilities of above, below, or near-normal temperatures for the next 8-14 days, 1-month, and 3-months. This gives us a rough indication of average temperatures over these periods. The higher the likelihood, the more confidence in the forecast. Currently it looks as though mid-October could be relatively cool and wet, but most longer range products continue to call for warmer and drier than normal conditions for the fall and early winter. \n",
    "\n",
    "### 8-14 day outlook \n",
    "**Issued on November 5.** There is no clear signal for the BC south coast in this product. \n",
    "\n",
    "```{figure} img/twoweek_temp.png\n",
    "---\n",
    "name: twoweek\n",
    "---\n",
    "8-14 day temperature outlook ([ECCC](https://weather.gc.ca/ensemble/naefs/semaine2_combinee_e.html))\n",
    "```\n",
    "### One month outlook \n",
    "**Issued on November 2.** The monthly temperature outlook shows higher odds of above normal temperatures for the coast of North America. \n",
    "\n",
    "```{figure} img/1month.gif\n",
    "---\n",
    "name: monthly\n",
    "---\n",
    "Monthly temperature outlook ([ECCC](https://weather.gc.ca/saisons/image_e.html?img=mfe1t_s))\n",
    "```\n",
    "### 1-3 month temperature  \n",
    "\n",
    "**Issued on October 31.** The 3-month temperature outlook continues to favour above normal temperatures for the BC south coast for the Nov-Dec-Jan period. There is a 70-80% probability of above normal temperatures for this period. There is virtually no skill in the long range precipitation outlook. \n",
    "\n",
    "```{figure} img/3month-temp-precip.png\n",
    "---\n",
    "name: three-monthly\n",
    "---\n",
    "Three month (S-O-N) temperature and precipitation outlooks ([ECCC](https://weather.gc.ca/saisons/prob_e.html))\n",
    "```\n",
    "## Summary\n",
    "Medium and long-range outlooks continue to point to a warmer than normal fall and start to the winter (on average). We could still see all types of weather during this period (Arctic outbreaks, mild/warm sunny spells, and strong storms), but at the end of the period the average temperature is more likely to be above normal. "
   ]
  },
  {
   "cell_type": "code",
   "execution_count": null,
   "id": "abebe6e1-536b-4072-a5d8-fc396ff6c5c2",
   "metadata": {},
   "outputs": [],
   "source": []
  }
 ],
 "metadata": {
  "kernelspec": {
   "display_name": "Python 3 (ipykernel)",
   "language": "python",
   "name": "python3"
  },
  "language_info": {
   "codemirror_mode": {
    "name": "ipython",
    "version": 3
   },
   "file_extension": ".py",
   "mimetype": "text/x-python",
   "name": "python",
   "nbconvert_exporter": "python",
   "pygments_lexer": "ipython3",
   "version": "3.9.12"
  }
 },
 "nbformat": 4,
 "nbformat_minor": 5
}