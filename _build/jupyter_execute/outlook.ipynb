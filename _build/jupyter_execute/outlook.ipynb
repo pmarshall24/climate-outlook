{
 "cells": [
  {
   "cell_type": "markdown",
   "id": "9dfe71d0-f34b-4d84-a549-b135e367d551",
   "metadata": {},
   "source": [
    "# Climate Outlook\n",
    "\n",
    "```{admonition} **Valid for:**\n",
    ":class: attention\n",
    "November-December 2023, January 2024\n",
    "```\n",
    "## Short Range Outlook\n",
    "\n",
    "Let's start off looking at what to expect for the next 10 days. The plots below show forecasted weather parameters for the Grouse Mountain area for October 3-12, 2023. Note, the model elevation at this grid point is only 267 m. This forecast uses the Canadian Global Deterministic Prediction System (GDPS). \n",
    "\n",
    "An atmospheric river (AR) is expected to hit the BC south coast beginning on November 3. This is forecasted to be a moderate AR (level 2). Rainfall should be heaviest on Nov. 4, but periods of rain continue until Nov. 6. Weather models show a cooler and drier pattern setting up to the second week of Nov. "
   ]
  },
  {
   "cell_type": "code",
   "execution_count": 1,
   "id": "b0de5b85-0708-4df5-8caa-0f4911d3fdcc",
   "metadata": {
    "tags": [
     "remove-cell"
    ]
   },
   "outputs": [],
   "source": [
    "#Import libraries\n",
    "import os\n",
    "import pandas as pd\n",
    "import subprocess\n",
    "import altair as alt\n",
    "import matplotlib.pyplot as plt\n",
    "import numpy as np\n",
    "import json"
   ]
  },
  {
   "cell_type": "code",
   "execution_count": 2,
   "id": "c9f20bf8-bebf-47a2-bdba-e4796331f8ba",
   "metadata": {
    "tags": [
     "remove-cell"
    ]
   },
   "outputs": [
    {
     "data": {
      "text/plain": [
       "'C:\\\\Users\\\\pmarshal\\\\Documents\\\\Climate-Outlook\\\\monthly-climate'"
      ]
     },
     "execution_count": 2,
     "metadata": {},
     "output_type": "execute_result"
    }
   ],
   "source": [
    "os.chdir('C://Users/pmarshal/Documents/Climate-Outlook/monthly-climate')\n",
    "os.getcwd()"
   ]
  },
  {
   "cell_type": "code",
   "execution_count": 3,
   "id": "817d1ffb-cf84-449b-a95f-17b8c6c3a5a0",
   "metadata": {
    "tags": [
     "remove-cell"
    ]
   },
   "outputs": [],
   "source": [
    "# Import dataset\n",
    "meteo = pd.read_csv('data/SpotWxForecast.csv', parse_dates=['DATETIME', 'DATE']) "
   ]
  },
  {
   "cell_type": "code",
   "execution_count": 4,
   "id": "b0eb9835-f752-4b19-9f00-6e860e854d5e",
   "metadata": {
    "tags": [
     "remove-cell"
    ]
   },
   "outputs": [],
   "source": [
    "meteo['PC1'] = meteo['APCP'].diff()\n",
    "meteo['PC1'].fillna(0, inplace=True)\n",
    "meteo = meteo.assign(Zero='0')"
   ]
  },
  {
   "cell_type": "code",
   "execution_count": 5,
   "id": "61ad59b4-d5b4-4d8a-94f6-4b822a49284e",
   "metadata": {
    "tags": [
     "remove-cell"
    ]
   },
   "outputs": [],
   "source": [
    "precip = alt.Chart(meteo).mark_bar(color='green', size=10).encode(\n",
    "    alt.X('DATETIME:T', title=None, axis=alt.Axis(labelAngle=0, format='%e %b')),\n",
    "    alt.Y('PC1:Q', title = '3-hr Precipitation (mm)'),\n",
    "    tooltip=[alt.Tooltip('DATE', title=\"Date\"), alt.Tooltip('TIME', title=\"Time\"), alt.Tooltip('PC1', title=\"3-Hour Precip\")]\n",
    ").properties(width=700, height=130, title='3hr-precip (green bars) and accumulated precip (blue line)')"
   ]
  },
  {
   "cell_type": "code",
   "execution_count": 6,
   "id": "74cc6b68-8cb3-4417-9284-b0fb9fe65b40",
   "metadata": {
    "tags": [
     "remove-cell"
    ]
   },
   "outputs": [],
   "source": [
    "precip_accum = alt.Chart(meteo).mark_line(color='blue', opacity=0.6).encode(\n",
    "    alt.X('DATETIME:T', title=None, axis=alt.Axis(labelAngle=0, format='%e %b')),\n",
    "    alt.Y('APCP:Q', title = 'Accumulated Precip (mm)'),\n",
    "    tooltip=[alt.Tooltip('DATE', title=\"Date\"), alt.Tooltip('TIME', title=\"Time\"), alt.Tooltip('APCP', title=\"Accumulated Precip\")]\n",
    ").properties(width=700, height=130)"
   ]
  },
  {
   "cell_type": "code",
   "execution_count": 7,
   "id": "2f90068f-48b6-44d5-9ff8-42d793558071",
   "metadata": {
    "tags": [
     "remove-cell"
    ]
   },
   "outputs": [],
   "source": [
    "precip_total = (precip + precip_accum).resolve_scale(\n",
    "    y = 'independent'\n",
    ")"
   ]
  },
  {
   "cell_type": "code",
   "execution_count": 8,
   "id": "4394846b-555c-4283-8fa2-f0617b2ad0f7",
   "metadata": {
    "tags": [
     "remove-cell"
    ]
   },
   "outputs": [],
   "source": [
    "title = alt.TitleParams(\n",
    "   text='Grouse Mountain (123.08W, 549.38N, Model elevation: 267m) CAN-GDPS',\n",
    "   subtitle=\"Air temp (red), dew point temp (blue), temp @1500m (red dashed), RH (green dashed)\",\n",
    "   anchor='middle',\n",
    "   fontSize=14,\n",
    "   fontWeight='bold')\n",
    "\n",
    "temp_line = alt.Chart(meteo, title=title).mark_line(color='red', strokeWidth=2).encode(\n",
    "    alt.X('DATETIME:T',  title=None, axis=alt.Axis(labelAngle=0, format='%e %b')),\n",
    "    alt.Y('TMP:Q', title='Temperature (C)'),\n",
    "    tooltip=[alt.Tooltip('DATE', title=\"Date\"), alt.Tooltip('TIME', title=\"Time\"), alt.Tooltip('TMP', title=\"Air Temp\")]\n",
    ").properties(width=700, height=130)\n",
    "\n",
    "dew = alt.Chart(meteo).mark_line(color='blue', strokeWidth=2).encode(\n",
    "    alt.X('DATETIME:T',  title=None, axis=alt.Axis(labelAngle=0, format='%e %b')),\n",
    "    alt.Y('DPT:Q', title='Temperature (C)')\n",
    ").properties(width=700, height=130)\n",
    "\n",
    "zero = alt.Chart(meteo).mark_line(color='gray', strokeWidth=1.5, opacity=0.8, strokeDash=[3,3]).encode(\n",
    "    alt.X('DATETIME:T',  title=None, axis=alt.Axis(labelAngle=0, format='%e %b')),\n",
    "    alt.Y('Zero:Q', title='Temperature (C)')\n",
    ").properties(width=700, height=130)\n",
    "\n",
    "rh = alt.Chart(meteo).mark_line(color='green', strokeWidth=1.5, opacity=0.7, strokeDash=[3,3]).encode(\n",
    "    alt.X('DATETIME:T',  title=None, axis=alt.Axis(labelAngle=0, format='%e %b')),\n",
    "    alt.Y('RH:Q', title='Relative Humidity (%)', scale=alt.Scale(zero=False))\n",
    ").properties(width=700, height=130)\n",
    "\n",
    "temp1500 = alt.Chart(meteo).mark_line(color='darkred', strokeWidth=1.5, opacity=0.7, strokeDash=[4,2]).encode(\n",
    "    alt.X('DATETIME:T',  title=None, axis=alt.Axis(labelAngle=0, format='%e %b')),\n",
    "    alt.Y('TMP850:Q', title='Temperature (C)'),\n",
    "    tooltip=[alt.Tooltip('DATE', title=\"Date\"), alt.Tooltip('TIME', title=\"Time\"), alt.Tooltip('TMP850', title=\"Air Temp\")]\n",
    ").properties(width=700, height=130)\n",
    "\n",
    "area = alt.Chart(meteo).mark_area(color='#F8D223', opacity=0.5).encode(\n",
    "    alt.X('DATETIME:T'),\n",
    "    alt.Y('TMP:Q'),\n",
    "    alt.Y2('DPT:Q')\n",
    ").properties(width=700, height=130)\n",
    "\n",
    "temp1 = temp_line + dew + temp1500 + area +zero\n",
    "\n",
    "temp2 = alt.layer(temp1, rh).resolve_scale(\n",
    "    y='independent'\n",
    ")"
   ]
  },
  {
   "cell_type": "code",
   "execution_count": 9,
   "id": "d7130cc8-5167-40f2-8c00-7020d39909c6",
   "metadata": {
    "tags": [
     "remove-cell"
    ]
   },
   "outputs": [],
   "source": [
    "pressure = alt.Chart(meteo).mark_line(color='red', strokeWidth=1.5, opacity=0.7).encode(\n",
    "    alt.X('DATETIME:T',  title=None, axis=alt.Axis(labelAngle=0, format='%e %b')),\n",
    "    alt.Y('SLP', title='MSLP (mbar)', scale= alt.Scale(zero=False))\n",
    ").properties(width=700, height=130, title='Cloud cover (blue/gray), sea level pressure (red)')\n",
    "\n",
    "cloud_line = alt.Chart(meteo).mark_line(color='blue', strokeWidth=1.5, opacity = 0.7).encode(\n",
    "    alt.X('DATETIME:T',  title=None, axis=alt.Axis(labelAngle=0, format='%e %b')),\n",
    "    alt.Y('CLOUD', title='Cloud Cover (%)')\n",
    ").properties(width=700, height=130)\n",
    "\n",
    "cloud_area = alt.Chart(meteo).mark_area(color='#B4A667', opacity=0.5).encode(\n",
    "    alt.X('DATETIME:T', axis=alt.Axis(labelAngle=0, format='%e %b')),\n",
    "    alt.Y('CLOUD:Q')\n",
    ").properties(width=700, height=130)\n",
    "\n",
    "cloud = cloud_area + cloud_line\n",
    "    \n",
    "cloud_pressure = alt.layer(cloud, pressure).resolve_scale(\n",
    "    y='independent'\n",
    ")\n"
   ]
  },
  {
   "cell_type": "code",
   "execution_count": 10,
   "id": "a943a6e1-b2b4-41c9-9307-49d4f805f9ff",
   "metadata": {
    "tags": [
     "remove-cell"
    ]
   },
   "outputs": [],
   "source": [
    "wind_750 = alt.Chart(meteo).mark_line(color='red', strokeWidth=1.5).encode(\n",
    "    alt.X('DATETIME:T',  title=None, axis=alt.Axis(labelAngle=90, format='%e %b')),\n",
    "    alt.Y('WS925', title='Wind speed (km/h)'),\n",
    "    tooltip=[alt.Tooltip('DATE', title=\"Date\"), alt.Tooltip('TIME', title=\"Time\"), alt.Tooltip('WS925', title=\"Wind Speed (km/h)\"), alt.Tooltip('WD925', title=\"Wind Dir (deg)\")]\n",
    ").properties(width=700, height=130, title='Wind speed at 750m (red) and 1500m (green)')\n",
    "\n",
    "wind_1500 = alt.Chart(meteo).mark_line(color='green', strokeWidth=1.5).encode(\n",
    "    alt.X('DATETIME:T',  title=None, axis=alt.Axis(labelAngle=90, format='%e %b')),\n",
    "    alt.Y('WS850', title='Wind speed (km/h)'),\n",
    "    tooltip=[alt.Tooltip('DATE', title=\"Date\"), alt.Tooltip('TIME', title=\"Time\"), alt.Tooltip('WS850', title=\"Wind Speed (km/h)\"), alt.Tooltip('WD850', title=\"Wind Dir (deg)\")]\n",
    ").properties(width=700, height=130)\n",
    "\n",
    "wind = wind_750 + wind_1500 \n"
   ]
  },
  {
   "cell_type": "code",
   "execution_count": 11,
   "id": "092f1af1-1abf-4120-84f8-43c9214eedc5",
   "metadata": {
    "tags": [
     "remove-input"
    ]
   },
   "outputs": [
    {
     "data": {
      "text/html": [
       "\n",
       "<div id=\"altair-viz-96eed492b40c47db91e4e33e0ef6d601\"></div>\n",
       "<script type=\"text/javascript\">\n",
       "  var VEGA_DEBUG = (typeof VEGA_DEBUG == \"undefined\") ? {} : VEGA_DEBUG;\n",
       "  (function(spec, embedOpt){\n",
       "    let outputDiv = document.currentScript.previousElementSibling;\n",
       "    if (outputDiv.id !== \"altair-viz-96eed492b40c47db91e4e33e0ef6d601\") {\n",
       "      outputDiv = document.getElementById(\"altair-viz-96eed492b40c47db91e4e33e0ef6d601\");\n",
       "    }\n",
       "    const paths = {\n",
       "      \"vega\": \"https://cdn.jsdelivr.net/npm//vega@5?noext\",\n",
       "      \"vega-lib\": \"https://cdn.jsdelivr.net/npm//vega-lib?noext\",\n",
       "      \"vega-lite\": \"https://cdn.jsdelivr.net/npm//vega-lite@4.17.0?noext\",\n",
       "      \"vega-embed\": \"https://cdn.jsdelivr.net/npm//vega-embed@6?noext\",\n",
       "    };\n",
       "\n",
       "    function maybeLoadScript(lib, version) {\n",
       "      var key = `${lib.replace(\"-\", \"\")}_version`;\n",
       "      return (VEGA_DEBUG[key] == version) ?\n",
       "        Promise.resolve(paths[lib]) :\n",
       "        new Promise(function(resolve, reject) {\n",
       "          var s = document.createElement('script');\n",
       "          document.getElementsByTagName(\"head\")[0].appendChild(s);\n",
       "          s.async = true;\n",
       "          s.onload = () => {\n",
       "            VEGA_DEBUG[key] = version;\n",
       "            return resolve(paths[lib]);\n",
       "          };\n",
       "          s.onerror = () => reject(`Error loading script: ${paths[lib]}`);\n",
       "          s.src = paths[lib];\n",
       "        });\n",
       "    }\n",
       "\n",
       "    function showError(err) {\n",
       "      outputDiv.innerHTML = `<div class=\"error\" style=\"color:red;\">${err}</div>`;\n",
       "      throw err;\n",
       "    }\n",
       "\n",
       "    function displayChart(vegaEmbed) {\n",
       "      vegaEmbed(outputDiv, spec, embedOpt)\n",
       "        .catch(err => showError(`Javascript Error: ${err.message}<br>This usually means there's a typo in your chart specification. See the javascript console for the full traceback.`));\n",
       "    }\n",
       "\n",
       "    if(typeof define === \"function\" && define.amd) {\n",
       "      requirejs.config({paths});\n",
       "      require([\"vega-embed\"], displayChart, err => showError(`Error loading script: ${err.message}`));\n",
       "    } else {\n",
       "      maybeLoadScript(\"vega\", \"5\")\n",
       "        .then(() => maybeLoadScript(\"vega-lite\", \"4.17.0\"))\n",
       "        .then(() => maybeLoadScript(\"vega-embed\", \"6\"))\n",
       "        .catch(showError)\n",
       "        .then(() => displayChart(vegaEmbed));\n",
       "    }\n",
       "  })({\"config\": {\"view\": {\"continuousWidth\": 400, \"continuousHeight\": 300}, \"axis\": {\"labelFontSize\": 11, \"titleFontSize\": 12}}, \"vconcat\": [{\"layer\": [{\"layer\": [{\"mark\": {\"type\": \"line\", \"color\": \"red\", \"strokeWidth\": 2}, \"encoding\": {\"tooltip\": [{\"field\": \"DATE\", \"title\": \"Date\", \"type\": \"temporal\"}, {\"field\": \"TIME\", \"title\": \"Time\", \"type\": \"nominal\"}, {\"field\": \"TMP\", \"title\": \"Air Temp\", \"type\": \"quantitative\"}], \"x\": {\"axis\": {\"format\": \"%e %b\", \"labelAngle\": 0}, \"field\": \"DATETIME\", \"title\": null, \"type\": \"temporal\"}, \"y\": {\"field\": \"TMP\", \"title\": \"Temperature (C)\", \"type\": \"quantitative\"}}, \"height\": 130, \"title\": {\"text\": \"Grouse Mountain (123.08W, 549.38N, Model elevation: 267m) CAN-GDPS\", \"anchor\": \"middle\", \"fontSize\": 14, \"fontWeight\": \"bold\", \"subtitle\": \"Air temp (red), dew point temp (blue), temp @1500m (red dashed), RH (green dashed)\"}, \"width\": 700}, {\"mark\": {\"type\": \"line\", \"color\": \"blue\", \"strokeWidth\": 2}, \"encoding\": {\"x\": {\"axis\": {\"format\": \"%e %b\", \"labelAngle\": 0}, \"field\": \"DATETIME\", \"title\": null, \"type\": \"temporal\"}, \"y\": {\"field\": \"DPT\", \"title\": \"Temperature (C)\", \"type\": \"quantitative\"}}, \"height\": 130, \"width\": 700}, {\"mark\": {\"type\": \"line\", \"color\": \"darkred\", \"opacity\": 0.7, \"strokeDash\": [4, 2], \"strokeWidth\": 1.5}, \"encoding\": {\"tooltip\": [{\"field\": \"DATE\", \"title\": \"Date\", \"type\": \"temporal\"}, {\"field\": \"TIME\", \"title\": \"Time\", \"type\": \"nominal\"}, {\"field\": \"TMP850\", \"title\": \"Air Temp\", \"type\": \"quantitative\"}], \"x\": {\"axis\": {\"format\": \"%e %b\", \"labelAngle\": 0}, \"field\": \"DATETIME\", \"title\": null, \"type\": \"temporal\"}, \"y\": {\"field\": \"TMP850\", \"title\": \"Temperature (C)\", \"type\": \"quantitative\"}}, \"height\": 130, \"width\": 700}, {\"mark\": {\"type\": \"area\", \"color\": \"#F8D223\", \"opacity\": 0.5}, \"encoding\": {\"x\": {\"field\": \"DATETIME\", \"type\": \"temporal\"}, \"y\": {\"field\": \"TMP\", \"type\": \"quantitative\"}, \"y2\": {\"field\": \"DPT\"}}, \"height\": 130, \"width\": 700}, {\"mark\": {\"type\": \"line\", \"color\": \"gray\", \"opacity\": 0.8, \"strokeDash\": [3, 3], \"strokeWidth\": 1.5}, \"encoding\": {\"x\": {\"axis\": {\"format\": \"%e %b\", \"labelAngle\": 0}, \"field\": \"DATETIME\", \"title\": null, \"type\": \"temporal\"}, \"y\": {\"field\": \"Zero\", \"title\": \"Temperature (C)\", \"type\": \"quantitative\"}}, \"height\": 130, \"width\": 700}]}, {\"mark\": {\"type\": \"line\", \"color\": \"green\", \"opacity\": 0.7, \"strokeDash\": [3, 3], \"strokeWidth\": 1.5}, \"encoding\": {\"x\": {\"axis\": {\"format\": \"%e %b\", \"labelAngle\": 0}, \"field\": \"DATETIME\", \"title\": null, \"type\": \"temporal\"}, \"y\": {\"field\": \"RH\", \"scale\": {\"zero\": false}, \"title\": \"Relative Humidity (%)\", \"type\": \"quantitative\"}}, \"height\": 130, \"width\": 700}], \"resolve\": {\"scale\": {\"y\": \"independent\"}}}, {\"layer\": [{\"layer\": [{\"mark\": {\"type\": \"area\", \"color\": \"#B4A667\", \"opacity\": 0.5}, \"encoding\": {\"x\": {\"axis\": {\"format\": \"%e %b\", \"labelAngle\": 0}, \"field\": \"DATETIME\", \"type\": \"temporal\"}, \"y\": {\"field\": \"CLOUD\", \"type\": \"quantitative\"}}, \"height\": 130, \"width\": 700}, {\"mark\": {\"type\": \"line\", \"color\": \"blue\", \"opacity\": 0.7, \"strokeWidth\": 1.5}, \"encoding\": {\"x\": {\"axis\": {\"format\": \"%e %b\", \"labelAngle\": 0}, \"field\": \"DATETIME\", \"title\": null, \"type\": \"temporal\"}, \"y\": {\"field\": \"CLOUD\", \"title\": \"Cloud Cover (%)\", \"type\": \"quantitative\"}}, \"height\": 130, \"width\": 700}]}, {\"mark\": {\"type\": \"line\", \"color\": \"red\", \"opacity\": 0.7, \"strokeWidth\": 1.5}, \"encoding\": {\"x\": {\"axis\": {\"format\": \"%e %b\", \"labelAngle\": 0}, \"field\": \"DATETIME\", \"title\": null, \"type\": \"temporal\"}, \"y\": {\"field\": \"SLP\", \"scale\": {\"zero\": false}, \"title\": \"MSLP (mbar)\", \"type\": \"quantitative\"}}, \"height\": 130, \"title\": \"Cloud cover (blue/gray), sea level pressure (red)\", \"width\": 700}], \"resolve\": {\"scale\": {\"y\": \"independent\"}}}, {\"layer\": [{\"mark\": {\"type\": \"bar\", \"color\": \"green\", \"size\": 10}, \"encoding\": {\"tooltip\": [{\"field\": \"DATE\", \"title\": \"Date\", \"type\": \"temporal\"}, {\"field\": \"TIME\", \"title\": \"Time\", \"type\": \"nominal\"}, {\"field\": \"PC1\", \"title\": \"3-Hour Precip\", \"type\": \"quantitative\"}], \"x\": {\"axis\": {\"format\": \"%e %b\", \"labelAngle\": 0}, \"field\": \"DATETIME\", \"title\": null, \"type\": \"temporal\"}, \"y\": {\"field\": \"PC1\", \"title\": \"3-hr Precipitation (mm)\", \"type\": \"quantitative\"}}, \"height\": 130, \"title\": \"3hr-precip (green bars) and accumulated precip (blue line)\", \"width\": 700}, {\"mark\": {\"type\": \"line\", \"color\": \"blue\", \"opacity\": 0.6}, \"encoding\": {\"tooltip\": [{\"field\": \"DATE\", \"title\": \"Date\", \"type\": \"temporal\"}, {\"field\": \"TIME\", \"title\": \"Time\", \"type\": \"nominal\"}, {\"field\": \"APCP\", \"title\": \"Accumulated Precip\", \"type\": \"quantitative\"}], \"x\": {\"axis\": {\"format\": \"%e %b\", \"labelAngle\": 0}, \"field\": \"DATETIME\", \"title\": null, \"type\": \"temporal\"}, \"y\": {\"field\": \"APCP\", \"title\": \"Accumulated Precip (mm)\", \"type\": \"quantitative\"}}, \"height\": 130, \"width\": 700}], \"resolve\": {\"scale\": {\"y\": \"independent\"}}}, {\"layer\": [{\"mark\": {\"type\": \"line\", \"color\": \"red\", \"strokeWidth\": 1.5}, \"encoding\": {\"tooltip\": [{\"field\": \"DATE\", \"title\": \"Date\", \"type\": \"temporal\"}, {\"field\": \"TIME\", \"title\": \"Time\", \"type\": \"nominal\"}, {\"field\": \"WS925\", \"title\": \"Wind Speed (km/h)\", \"type\": \"quantitative\"}, {\"field\": \"WD925\", \"title\": \"Wind Dir (deg)\", \"type\": \"quantitative\"}], \"x\": {\"axis\": {\"format\": \"%e %b\", \"labelAngle\": 90}, \"field\": \"DATETIME\", \"title\": null, \"type\": \"temporal\"}, \"y\": {\"field\": \"WS925\", \"title\": \"Wind speed (km/h)\", \"type\": \"quantitative\"}}, \"height\": 130, \"title\": \"Wind speed at 750m (red) and 1500m (green)\", \"width\": 700}, {\"mark\": {\"type\": \"line\", \"color\": \"green\", \"strokeWidth\": 1.5}, \"encoding\": {\"tooltip\": [{\"field\": \"DATE\", \"title\": \"Date\", \"type\": \"temporal\"}, {\"field\": \"TIME\", \"title\": \"Time\", \"type\": \"nominal\"}, {\"field\": \"WS850\", \"title\": \"Wind Speed (km/h)\", \"type\": \"quantitative\"}, {\"field\": \"WD850\", \"title\": \"Wind Dir (deg)\", \"type\": \"quantitative\"}], \"x\": {\"axis\": {\"format\": \"%e %b\", \"labelAngle\": 90}, \"field\": \"DATETIME\", \"title\": null, \"type\": \"temporal\"}, \"y\": {\"field\": \"WS850\", \"title\": \"Wind speed (km/h)\", \"type\": \"quantitative\"}}, \"height\": 130, \"width\": 700}]}], \"data\": {\"name\": \"data-b454d1693b96cf909160a4cb1db08729\"}, \"$schema\": \"https://vega.github.io/schema/vega-lite/v4.17.0.json\", \"datasets\": {\"data-b454d1693b96cf909160a4cb1db08729\": [{\"DATETIME\": \"2023-11-02T05:00:00\", \"DATE\": \"2023-11-02T00:00:00\", \"TIME\": \"5:00\", \"TMP\": 9.7, \"DPT\": 8.8, \"RH\": 94, \"WS\": 9, \"WD\": 33, \"APCP\": 0.0, \"CLOUD\": 96, \"SLP\": 1005.0, \"PTYPE\": null, \"RQP\": 0.0, \"SQP\": 0, \"FQP\": 0, \"IQP\": 0, \"WS925\": 26, \"WD925\": 113, \"TMP850\": 6.7, \"WS850\": 36, \"WD850\": 169, \"WS700\": 76, \"WD700\": 234, \"PC1\": 0.0, \"Zero\": \"0\"}, {\"DATETIME\": \"2023-11-02T08:00:00\", \"DATE\": \"2023-11-02T00:00:00\", \"TIME\": \"8:00\", \"TMP\": 10.1, \"DPT\": 9.2, \"RH\": 94, \"WS\": 8, \"WD\": 59, \"APCP\": 13.6, \"CLOUD\": 92, \"SLP\": 1005.5, \"PTYPE\": \"RA\", \"RQP\": 13.6, \"SQP\": 0, \"FQP\": 0, \"IQP\": 0, \"WS925\": 29, \"WD925\": 131, \"TMP850\": 7.1, \"WS850\": 29, \"WD850\": 177, \"WS700\": 60, \"WD700\": 232, \"PC1\": 13.6, \"Zero\": \"0\"}, {\"DATETIME\": \"2023-11-02T11:00:00\", \"DATE\": \"2023-11-02T00:00:00\", \"TIME\": \"11:00\", \"TMP\": 10.7, \"DPT\": 10.1, \"RH\": 96, \"WS\": 7, \"WD\": 84, \"APCP\": 19.8, \"CLOUD\": 92, \"SLP\": 1006.8, \"PTYPE\": \"RA\", \"RQP\": 19.8, \"SQP\": 0, \"FQP\": 0, \"IQP\": 0, \"WS925\": 32, \"WD925\": 146, \"TMP850\": 7.7, \"WS850\": 44, \"WD850\": 227, \"WS700\": 60, \"WD700\": 239, \"PC1\": 6.200000000000001, \"Zero\": \"0\"}, {\"DATETIME\": \"2023-11-02T14:00:00\", \"DATE\": \"2023-11-02T00:00:00\", \"TIME\": \"14:00\", \"TMP\": 11.1, \"DPT\": 10.8, \"RH\": 98, \"WS\": 7, \"WD\": 124, \"APCP\": 21.2, \"CLOUD\": 92, \"SLP\": 1009.4, \"PTYPE\": \"RA\", \"RQP\": 21.2, \"SQP\": 0, \"FQP\": 0, \"IQP\": 0, \"WS925\": 27, \"WD925\": 182, \"TMP850\": 5.7, \"WS850\": 30, \"WD850\": 253, \"WS700\": 70, \"WD700\": 255, \"PC1\": 1.3999999999999986, \"Zero\": \"0\"}, {\"DATETIME\": \"2023-11-02T17:00:00\", \"DATE\": \"2023-11-02T00:00:00\", \"TIME\": \"17:00\", \"TMP\": 11.7, \"DPT\": 11.1, \"RH\": 96, \"WS\": 7, \"WD\": 169, \"APCP\": 21.9, \"CLOUD\": 92, \"SLP\": 1012.1, \"PTYPE\": \"RA\", \"RQP\": 21.9, \"SQP\": 0, \"FQP\": 0, \"IQP\": 0, \"WS925\": 27, \"WD925\": 191, \"TMP850\": 4.4, \"WS850\": 20, \"WD850\": 243, \"WS700\": 64, \"WD700\": 257, \"PC1\": 0.6999999999999993, \"Zero\": \"0\"}, {\"DATETIME\": \"2023-11-02T20:00:00\", \"DATE\": \"2023-11-02T00:00:00\", \"TIME\": \"20:00\", \"TMP\": 10.4, \"DPT\": 9.8, \"RH\": 96, \"WS\": 5, \"WD\": 182, \"APCP\": 22.8, \"CLOUD\": 88, \"SLP\": 1015.2, \"PTYPE\": \"RA\", \"RQP\": 22.8, \"SQP\": 0, \"FQP\": 0, \"IQP\": 0, \"WS925\": 29, \"WD925\": 199, \"TMP850\": 4.0, \"WS850\": 24, \"WD850\": 235, \"WS700\": 47, \"WD700\": 270, \"PC1\": 0.9000000000000021, \"Zero\": \"0\"}, {\"DATETIME\": \"2023-11-02T23:00:00\", \"DATE\": \"2023-11-02T00:00:00\", \"TIME\": \"23:00\", \"TMP\": 10.2, \"DPT\": 9.7, \"RH\": 97, \"WS\": 4, \"WD\": 186, \"APCP\": 24.6, \"CLOUD\": 92, \"SLP\": 1017.2, \"PTYPE\": \"RA\", \"RQP\": 24.6, \"SQP\": 0, \"FQP\": 0, \"IQP\": 0, \"WS925\": 34, \"WD925\": 220, \"TMP850\": 3.7, \"WS850\": 35, \"WD850\": 245, \"WS700\": 38, \"WD700\": 271, \"PC1\": 1.8000000000000007, \"Zero\": \"0\"}, {\"DATETIME\": \"2023-11-03T02:00:00\", \"DATE\": \"2023-11-03T00:00:00\", \"TIME\": \"2:00\", \"TMP\": 9.8, \"DPT\": 8.8, \"RH\": 93, \"WS\": 4, \"WD\": 131, \"APCP\": 25.2, \"CLOUD\": 92, \"SLP\": 1019.0, \"PTYPE\": \"RA\", \"RQP\": 25.2, \"SQP\": 0, \"FQP\": 0, \"IQP\": 0, \"WS925\": 24, \"WD925\": 218, \"TMP850\": 2.5, \"WS850\": 21, \"WD850\": 257, \"WS700\": 41, \"WD700\": 267, \"PC1\": 0.5999999999999979, \"Zero\": \"0\"}, {\"DATETIME\": \"2023-11-03T05:00:00\", \"DATE\": \"2023-11-03T00:00:00\", \"TIME\": \"5:00\", \"TMP\": 9.0, \"DPT\": 8.4, \"RH\": 96, \"WS\": 6, \"WD\": 96, \"APCP\": 26.0, \"CLOUD\": 92, \"SLP\": 1020.2, \"PTYPE\": \"RA\", \"RQP\": 26.0, \"SQP\": 0, \"FQP\": 0, \"IQP\": 0, \"WS925\": 16, \"WD925\": 218, \"TMP850\": 2.1, \"WS850\": 17, \"WD850\": 267, \"WS700\": 37, \"WD700\": 271, \"PC1\": 0.8000000000000007, \"Zero\": \"0\"}, {\"DATETIME\": \"2023-11-03T08:00:00\", \"DATE\": \"2023-11-03T00:00:00\", \"TIME\": \"8:00\", \"TMP\": 8.5, \"DPT\": 7.9, \"RH\": 96, \"WS\": 6, \"WD\": 95, \"APCP\": 26.3, \"CLOUD\": 76, \"SLP\": 1021.3, \"PTYPE\": \"RA\", \"RQP\": 26.3, \"SQP\": 0, \"FQP\": 0, \"IQP\": 0, \"WS925\": 13, \"WD925\": 192, \"TMP850\": 1.5, \"WS850\": 10, \"WD850\": 287, \"WS700\": 31, \"WD700\": 271, \"PC1\": 0.3000000000000007, \"Zero\": \"0\"}, {\"DATETIME\": \"2023-11-03T11:00:00\", \"DATE\": \"2023-11-03T00:00:00\", \"TIME\": \"11:00\", \"TMP\": 9.4, \"DPT\": 8.5, \"RH\": 94, \"WS\": 6, \"WD\": 107, \"APCP\": 26.4, \"CLOUD\": 88, \"SLP\": 1021.4, \"PTYPE\": \"RA\", \"RQP\": 26.4, \"SQP\": 0, \"FQP\": 0, \"IQP\": 0, \"WS925\": 16, \"WD925\": 130, \"TMP850\": 2.0, \"WS850\": 5, \"WD850\": 126, \"WS700\": 26, \"WD700\": 266, \"PC1\": 0.09999999999999787, \"Zero\": \"0\"}, {\"DATETIME\": \"2023-11-03T14:00:00\", \"DATE\": \"2023-11-03T00:00:00\", \"TIME\": \"14:00\", \"TMP\": 10.6, \"DPT\": 8.8, \"RH\": 89, \"WS\": 4, \"WD\": 81, \"APCP\": 26.5, \"CLOUD\": 68, \"SLP\": 1019.8, \"PTYPE\": \"RA\", \"RQP\": 26.5, \"SQP\": 0, \"FQP\": 0, \"IQP\": 0, \"WS925\": 18, \"WD925\": 115, \"TMP850\": 2.7, \"WS850\": 18, \"WD850\": 138, \"WS700\": 18, \"WD700\": 232, \"PC1\": 0.10000000000000142, \"Zero\": \"0\"}, {\"DATETIME\": \"2023-11-03T17:00:00\", \"DATE\": \"2023-11-03T00:00:00\", \"TIME\": \"17:00\", \"TMP\": 10.5, \"DPT\": 8.7, \"RH\": 89, \"WS\": 4, \"WD\": 53, \"APCP\": 26.5, \"CLOUD\": 64, \"SLP\": 1016.6, \"PTYPE\": null, \"RQP\": 26.5, \"SQP\": 0, \"FQP\": 0, \"IQP\": 0, \"WS925\": 17, \"WD925\": 92, \"TMP850\": 4.4, \"WS850\": 26, \"WD850\": 139, \"WS700\": 32, \"WD700\": 201, \"PC1\": 0.0, \"Zero\": \"0\"}, {\"DATETIME\": \"2023-11-03T20:00:00\", \"DATE\": \"2023-11-03T00:00:00\", \"TIME\": \"20:00\", \"TMP\": 9.3, \"DPT\": 7.1, \"RH\": 86, \"WS\": 7, \"WD\": 39, \"APCP\": 26.5, \"CLOUD\": 92, \"SLP\": 1013.7, \"PTYPE\": null, \"RQP\": 26.5, \"SQP\": 0, \"FQP\": 0, \"IQP\": 0, \"WS925\": 26, \"WD925\": 110, \"TMP850\": 4.5, \"WS850\": 42, \"WD850\": 143, \"WS700\": 43, \"WD700\": 166, \"PC1\": 0.0, \"Zero\": \"0\"}, {\"DATETIME\": \"2023-11-03T23:00:00\", \"DATE\": \"2023-11-03T00:00:00\", \"TIME\": \"23:00\", \"TMP\": 9.4, \"DPT\": 8.5, \"RH\": 94, \"WS\": 7, \"WD\": 53, \"APCP\": 28.8, \"CLOUD\": 92, \"SLP\": 1009.7, \"PTYPE\": \"RA\", \"RQP\": 28.8, \"SQP\": 0, \"FQP\": 0, \"IQP\": 0, \"WS925\": 32, \"WD925\": 98, \"TMP850\": 3.7, \"WS850\": 55, \"WD850\": 119, \"WS700\": 87, \"WD700\": 202, \"PC1\": 2.3000000000000007, \"Zero\": \"0\"}, {\"DATETIME\": \"2023-11-04T02:00:00\", \"DATE\": \"2023-11-04T00:00:00\", \"TIME\": \"2:00\", \"TMP\": 9.7, \"DPT\": 9.1, \"RH\": 96, \"WS\": 7, \"WD\": 65, \"APCP\": 38.0, \"CLOUD\": 92, \"SLP\": 1007.2, \"PTYPE\": \"RA\", \"RQP\": 38.0, \"SQP\": 0, \"FQP\": 0, \"IQP\": 0, \"WS925\": 37, \"WD925\": 111, \"TMP850\": 6.1, \"WS850\": 74, \"WD850\": 158, \"WS700\": 84, \"WD700\": 224, \"PC1\": 9.2, \"Zero\": \"0\"}, {\"DATETIME\": \"2023-11-04T05:00:00\", \"DATE\": \"2023-11-04T00:00:00\", \"TIME\": \"5:00\", \"TMP\": 10.7, \"DPT\": 10.3, \"RH\": 97, \"WS\": 11, \"WD\": 105, \"APCP\": 61.9, \"CLOUD\": 92, \"SLP\": 1004.7, \"PTYPE\": \"RA\", \"RQP\": 61.9, \"SQP\": 0, \"FQP\": 0, \"IQP\": 0, \"WS925\": 46, \"WD925\": 136, \"TMP850\": 7.6, \"WS850\": 65, \"WD850\": 165, \"WS700\": 109, \"WD700\": 227, \"PC1\": 23.9, \"Zero\": \"0\"}, {\"DATETIME\": \"2023-11-04T08:00:00\", \"DATE\": \"2023-11-04T00:00:00\", \"TIME\": \"8:00\", \"TMP\": 11.5, \"DPT\": 11.2, \"RH\": 98, \"WS\": 10, \"WD\": 134, \"APCP\": 88.1, \"CLOUD\": 92, \"SLP\": 1004.4, \"PTYPE\": \"RA\", \"RQP\": 88.1, \"SQP\": 0, \"FQP\": 0, \"IQP\": 0, \"WS925\": 52, \"WD925\": 162, \"TMP850\": 7.5, \"WS850\": 54, \"WD850\": 185, \"WS700\": 81, \"WD700\": 219, \"PC1\": 26.199999999999996, \"Zero\": \"0\"}, {\"DATETIME\": \"2023-11-04T11:00:00\", \"DATE\": \"2023-11-04T00:00:00\", \"TIME\": \"11:00\", \"TMP\": 11.7, \"DPT\": 11.5, \"RH\": 99, \"WS\": 12, \"WD\": 162, \"APCP\": 94.7, \"CLOUD\": 92, \"SLP\": 1004.9, \"PTYPE\": \"RA\", \"RQP\": 94.7, \"SQP\": 0, \"FQP\": 0, \"IQP\": 0, \"WS925\": 41, \"WD925\": 172, \"TMP850\": 6.4, \"WS850\": 44, \"WD850\": 185, \"WS700\": 68, \"WD700\": 214, \"PC1\": 6.6000000000000085, \"Zero\": \"0\"}, {\"DATETIME\": \"2023-11-04T14:00:00\", \"DATE\": \"2023-11-04T00:00:00\", \"TIME\": \"14:00\", \"TMP\": 12.4, \"DPT\": 11.7, \"RH\": 95, \"WS\": 7, \"WD\": 123, \"APCP\": 97.6, \"CLOUD\": 36, \"SLP\": 1004.8, \"PTYPE\": \"RA\", \"RQP\": 97.6, \"SQP\": 0, \"FQP\": 0, \"IQP\": 0, \"WS925\": 30, \"WD925\": 181, \"TMP850\": 5.7, \"WS850\": 51, \"WD850\": 192, \"WS700\": 67, \"WD700\": 211, \"PC1\": 2.8999999999999915, \"Zero\": \"0\"}, {\"DATETIME\": \"2023-11-04T17:00:00\", \"DATE\": \"2023-11-04T00:00:00\", \"TIME\": \"17:00\", \"TMP\": 11.7, \"DPT\": 10.9, \"RH\": 95, \"WS\": 9, \"WD\": 170, \"APCP\": 100.9, \"CLOUD\": 56, \"SLP\": 1004.8, \"PTYPE\": \"RA\", \"RQP\": 100.9, \"SQP\": 0, \"FQP\": 0, \"IQP\": 0, \"WS925\": 39, \"WD925\": 194, \"TMP850\": 4.6, \"WS850\": 55, \"WD850\": 206, \"WS700\": 59, \"WD700\": 216, \"PC1\": 3.3000000000000114, \"Zero\": \"0\"}, {\"DATETIME\": \"2023-11-04T20:00:00\", \"DATE\": \"2023-11-04T00:00:00\", \"TIME\": \"20:00\", \"TMP\": 10.1, \"DPT\": 10.0, \"RH\": 99, \"WS\": 8, \"WD\": 166, \"APCP\": 107.2, \"CLOUD\": 76, \"SLP\": 1005.7, \"PTYPE\": \"RA\", \"RQP\": 107.2, \"SQP\": 0, \"FQP\": 0, \"IQP\": 0, \"WS925\": 38, \"WD925\": 193, \"TMP850\": 4.0, \"WS850\": 46, \"WD850\": 215, \"WS700\": 61, \"WD700\": 212, \"PC1\": 6.299999999999997, \"Zero\": \"0\"}, {\"DATETIME\": \"2023-11-04T23:00:00\", \"DATE\": \"2023-11-04T00:00:00\", \"TIME\": \"23:00\", \"TMP\": 9.5, \"DPT\": 9.0, \"RH\": 97, \"WS\": 8, \"WD\": 192, \"APCP\": 111.6, \"CLOUD\": 88, \"SLP\": 1007.4, \"PTYPE\": \"RA\", \"RQP\": 111.6, \"SQP\": 0, \"FQP\": 0, \"IQP\": 0, \"WS925\": 31, \"WD925\": 206, \"TMP850\": 2.6, \"WS850\": 37, \"WD850\": 214, \"WS700\": 60, \"WD700\": 221, \"PC1\": 4.3999999999999915, \"Zero\": \"0\"}, {\"DATETIME\": \"2023-11-05T02:00:00\", \"DATE\": \"2023-11-05T00:00:00\", \"TIME\": \"2:00\", \"TMP\": 8.7, \"DPT\": 8.1, \"RH\": 96, \"WS\": 5, \"WD\": 136, \"APCP\": 114.7, \"CLOUD\": 92, \"SLP\": 1009.3, \"PTYPE\": \"RA\", \"RQP\": 114.7, \"SQP\": 0, \"FQP\": 0, \"IQP\": 0, \"WS925\": 26, \"WD925\": 191, \"TMP850\": 1.5, \"WS850\": 29, \"WD850\": 212, \"WS700\": 56, \"WD700\": 232, \"PC1\": 3.1000000000000085, \"Zero\": \"0\"}, {\"DATETIME\": \"2023-11-05T05:00:00\", \"DATE\": \"2023-11-05T00:00:00\", \"TIME\": \"5:00\", \"TMP\": 8.4, \"DPT\": 8.3, \"RH\": 99, \"WS\": 6, \"WD\": 157, \"APCP\": 118.5, \"CLOUD\": 92, \"SLP\": 1009.8, \"PTYPE\": \"RA\", \"RQP\": 118.5, \"SQP\": 0, \"FQP\": 0, \"IQP\": 0, \"WS925\": 27, \"WD925\": 176, \"TMP850\": 1.6, \"WS850\": 39, \"WD850\": 190, \"WS700\": 47, \"WD700\": 228, \"PC1\": 3.799999999999997, \"Zero\": \"0\"}, {\"DATETIME\": \"2023-11-05T08:00:00\", \"DATE\": \"2023-11-05T00:00:00\", \"TIME\": \"8:00\", \"TMP\": 8.9, \"DPT\": 8.6, \"RH\": 98, \"WS\": 8, \"WD\": 123, \"APCP\": 122.5, \"CLOUD\": 92, \"SLP\": 1009.0, \"PTYPE\": \"RA\", \"RQP\": 122.5, \"SQP\": 0, \"FQP\": 0, \"IQP\": 0, \"WS925\": 35, \"WD925\": 154, \"TMP850\": 2.1, \"WS850\": 31, \"WD850\": 185, \"WS700\": 41, \"WD700\": 224, \"PC1\": 4.0, \"Zero\": \"0\"}, {\"DATETIME\": \"2023-11-05T11:00:00\", \"DATE\": \"2023-11-05T00:00:00\", \"TIME\": \"11:00\", \"TMP\": 9.0, \"DPT\": 8.5, \"RH\": 97, \"WS\": 9, \"WD\": 97, \"APCP\": 125.6, \"CLOUD\": 92, \"SLP\": 1007.3, \"PTYPE\": \"RA\", \"RQP\": 125.6, \"SQP\": 0, \"FQP\": 0, \"IQP\": 0, \"WS925\": 40, \"WD925\": 128, \"TMP850\": 2.4, \"WS850\": 48, \"WD850\": 147, \"WS700\": 50, \"WD700\": 197, \"PC1\": 3.0999999999999943, \"Zero\": \"0\"}, {\"DATETIME\": \"2023-11-05T14:00:00\", \"DATE\": \"2023-11-05T00:00:00\", \"TIME\": \"14:00\", \"TMP\": 9.5, \"DPT\": 8.7, \"RH\": 95, \"WS\": 10, \"WD\": 106, \"APCP\": 134.1, \"CLOUD\": 92, \"SLP\": 1004.9, \"PTYPE\": \"RA\", \"RQP\": 134.1, \"SQP\": 0, \"FQP\": 0, \"IQP\": 0, \"WS925\": 44, \"WD925\": 130, \"TMP850\": 2.7, \"WS850\": 75, \"WD850\": 157, \"WS700\": 71, \"WD700\": 214, \"PC1\": 8.5, \"Zero\": \"0\"}, {\"DATETIME\": \"2023-11-05T17:00:00\", \"DATE\": \"2023-11-05T00:00:00\", \"TIME\": \"17:00\", \"TMP\": 9.0, \"DPT\": 8.7, \"RH\": 98, \"WS\": 11, \"WD\": 154, \"APCP\": 140.9, \"CLOUD\": 92, \"SLP\": 1005.8, \"PTYPE\": \"RA\", \"RQP\": 140.9, \"SQP\": 0, \"FQP\": 0, \"IQP\": 0, \"WS925\": 35, \"WD925\": 171, \"TMP850\": 2.4, \"WS850\": 43, \"WD850\": 185, \"WS700\": 45, \"WD700\": 211, \"PC1\": 6.800000000000011, \"Zero\": \"0\"}, {\"DATETIME\": \"2023-11-05T20:00:00\", \"DATE\": \"2023-11-05T00:00:00\", \"TIME\": \"20:00\", \"TMP\": 8.5, \"DPT\": 8.4, \"RH\": 99, \"WS\": 7, \"WD\": 136, \"APCP\": 146.3, \"CLOUD\": 92, \"SLP\": 1005.8, \"PTYPE\": \"RA\", \"RQP\": 146.3, \"SQP\": 0, \"FQP\": 0, \"IQP\": 0, \"WS925\": 26, \"WD925\": 153, \"TMP850\": 2.0, \"WS850\": 29, \"WD850\": 165, \"WS700\": 48, \"WD700\": 205, \"PC1\": 5.400000000000006, \"Zero\": \"0\"}, {\"DATETIME\": \"2023-11-05T23:00:00\", \"DATE\": \"2023-11-05T00:00:00\", \"TIME\": \"23:00\", \"TMP\": 8.5, \"DPT\": 8.3, \"RH\": 99, \"WS\": 7, \"WD\": 167, \"APCP\": 157.8, \"CLOUD\": 92, \"SLP\": 1004.9, \"PTYPE\": \"RA\", \"RQP\": 157.8, \"SQP\": 0, \"FQP\": 0, \"IQP\": 0, \"WS925\": 25, \"WD925\": 175, \"TMP850\": 2.3, \"WS850\": 32, \"WD850\": 168, \"WS700\": 34, \"WD700\": 210, \"PC1\": 11.5, \"Zero\": \"0\"}, {\"DATETIME\": \"2023-11-06T02:00:00\", \"DATE\": \"2023-11-06T00:00:00\", \"TIME\": \"2:00\", \"TMP\": 8.4, \"DPT\": 8.0, \"RH\": 97, \"WS\": 5, \"WD\": 127, \"APCP\": 165.7, \"CLOUD\": 92, \"SLP\": 1004.2, \"PTYPE\": \"RA\", \"RQP\": 165.7, \"SQP\": 0, \"FQP\": 0, \"IQP\": 0, \"WS925\": 24, \"WD925\": 162, \"TMP850\": 2.2, \"WS850\": 21, \"WD850\": 192, \"WS700\": 30, \"WD700\": 202, \"PC1\": 7.899999999999977, \"Zero\": \"0\"}, {\"DATETIME\": \"2023-11-06T05:00:00\", \"DATE\": \"2023-11-06T00:00:00\", \"TIME\": \"5:00\", \"TMP\": 8.3, \"DPT\": 7.8, \"RH\": 97, \"WS\": 4, \"WD\": 95, \"APCP\": 168.4, \"CLOUD\": 92, \"SLP\": 1003.5, \"PTYPE\": \"RA\", \"RQP\": 168.4, \"SQP\": 0, \"FQP\": 0, \"IQP\": 0, \"WS925\": 13, \"WD925\": 141, \"TMP850\": 1.9, \"WS850\": 10, \"WD850\": 145, \"WS700\": 18, \"WD700\": 195, \"PC1\": 2.700000000000017, \"Zero\": \"0\"}, {\"DATETIME\": \"2023-11-06T08:00:00\", \"DATE\": \"2023-11-06T00:00:00\", \"TIME\": \"8:00\", \"TMP\": 8.2, \"DPT\": 7.9, \"RH\": 98, \"WS\": 2, \"WD\": 103, \"APCP\": 171.0, \"CLOUD\": 92, \"SLP\": 1003.3, \"PTYPE\": \"RA\", \"RQP\": 171.0, \"SQP\": 0, \"FQP\": 0, \"IQP\": 0, \"WS925\": 10, \"WD925\": 129, \"TMP850\": 1.6, \"WS850\": 12, \"WD850\": 166, \"WS700\": 9, \"WD700\": 213, \"PC1\": 2.5999999999999943, \"Zero\": \"0\"}, {\"DATETIME\": \"2023-11-06T11:00:00\", \"DATE\": \"2023-11-06T00:00:00\", \"TIME\": \"11:00\", \"TMP\": 8.3, \"DPT\": 7.8, \"RH\": 97, \"WS\": 5, \"WD\": 145, \"APCP\": 177.4, \"CLOUD\": 92, \"SLP\": 1004.7, \"PTYPE\": \"RA\", \"RQP\": 177.4, \"SQP\": 0, \"FQP\": 0, \"IQP\": 0, \"WS925\": 13, \"WD925\": 149, \"TMP850\": 0.9, \"WS850\": 8, \"WD850\": 231, \"WS700\": 16, \"WD700\": 240, \"PC1\": 6.400000000000006, \"Zero\": \"0\"}, {\"DATETIME\": \"2023-11-06T14:00:00\", \"DATE\": \"2023-11-06T00:00:00\", \"TIME\": \"14:00\", \"TMP\": 8.2, \"DPT\": 7.6, \"RH\": 96, \"WS\": 4, \"WD\": 119, \"APCP\": 179.1, \"CLOUD\": 88, \"SLP\": 1006.4, \"PTYPE\": \"RA\", \"RQP\": 179.1, \"SQP\": 0, \"FQP\": 0, \"IQP\": 0, \"WS925\": 10, \"WD925\": 180, \"TMP850\": 1.2, \"WS850\": 13, \"WD850\": 273, \"WS700\": 30, \"WD700\": 243, \"PC1\": 1.6999999999999886, \"Zero\": \"0\"}, {\"DATETIME\": \"2023-11-06T17:00:00\", \"DATE\": \"2023-11-06T00:00:00\", \"TIME\": \"17:00\", \"TMP\": 8.5, \"DPT\": 7.8, \"RH\": 95, \"WS\": 6, \"WD\": 96, \"APCP\": 179.4, \"CLOUD\": 92, \"SLP\": 1007.7, \"PTYPE\": \"RA\", \"RQP\": 179.4, \"SQP\": 0, \"FQP\": 0, \"IQP\": 0, \"WS925\": 15, \"WD925\": 137, \"TMP850\": 1.2, \"WS850\": 17, \"WD850\": 189, \"WS700\": 29, \"WD700\": 224, \"PC1\": 0.30000000000001137, \"Zero\": \"0\"}, {\"DATETIME\": \"2023-11-06T20:00:00\", \"DATE\": \"2023-11-06T00:00:00\", \"TIME\": \"20:00\", \"TMP\": 8.0, \"DPT\": 7.7, \"RH\": 98, \"WS\": 7, \"WD\": 185, \"APCP\": 188.5, \"CLOUD\": 88, \"SLP\": 1008.7, \"PTYPE\": \"RA\", \"RQP\": 188.5, \"SQP\": 0, \"FQP\": 0, \"IQP\": 0, \"WS925\": 27, \"WD925\": 197, \"TMP850\": 1.0, \"WS850\": 33, \"WD850\": 207, \"WS700\": 31, \"WD700\": 219, \"PC1\": 9.099999999999994, \"Zero\": \"0\"}, {\"DATETIME\": \"2023-11-06T23:00:00\", \"DATE\": \"2023-11-06T00:00:00\", \"TIME\": \"23:00\", \"TMP\": 7.9, \"DPT\": 7.5, \"RH\": 97, \"WS\": 7, \"WD\": 163, \"APCP\": 192.9, \"CLOUD\": 92, \"SLP\": 1010.5, \"PTYPE\": \"RA\", \"RQP\": 192.9, \"SQP\": 0, \"FQP\": 0, \"IQP\": 0, \"WS925\": 24, \"WD925\": 188, \"TMP850\": 0.4, \"WS850\": 18, \"WD850\": 226, \"WS700\": 21, \"WD700\": 233, \"PC1\": 4.400000000000006, \"Zero\": \"0\"}, {\"DATETIME\": \"2023-11-07T02:00:00\", \"DATE\": \"2023-11-07T00:00:00\", \"TIME\": \"2:00\", \"TMP\": 7.9, \"DPT\": 7.6, \"RH\": 98, \"WS\": 5, \"WD\": 141, \"APCP\": 194.9, \"CLOUD\": 92, \"SLP\": 1011.8, \"PTYPE\": \"RA\", \"RQP\": 194.9, \"SQP\": 0, \"FQP\": 0, \"IQP\": 0, \"WS925\": 18, \"WD925\": 184, \"TMP850\": 0.5, \"WS850\": 14, \"WD850\": 223, \"WS700\": 20, \"WD700\": 229, \"PC1\": 2.0, \"Zero\": \"0\"}, {\"DATETIME\": \"2023-11-07T05:00:00\", \"DATE\": \"2023-11-07T00:00:00\", \"TIME\": \"5:00\", \"TMP\": 8.0, \"DPT\": 7.6, \"RH\": 97, \"WS\": 5, \"WD\": 120, \"APCP\": 195.5, \"CLOUD\": 88, \"SLP\": 1012.9, \"PTYPE\": \"RA\", \"RQP\": 195.5, \"SQP\": 0, \"FQP\": 0, \"IQP\": 0, \"WS925\": 14, \"WD925\": 173, \"TMP850\": 0.7, \"WS850\": 5, \"WD850\": 236, \"WS700\": 17, \"WD700\": 242, \"PC1\": 0.5999999999999943, \"Zero\": \"0\"}, {\"DATETIME\": \"2023-11-07T08:00:00\", \"DATE\": \"2023-11-07T00:00:00\", \"TIME\": \"8:00\", \"TMP\": 8.1, \"DPT\": 7.8, \"RH\": 98, \"WS\": 4, \"WD\": 141, \"APCP\": 196.3, \"CLOUD\": 76, \"SLP\": 1014.6, \"PTYPE\": \"RA\", \"RQP\": 196.3, \"SQP\": 0, \"FQP\": 0, \"IQP\": 0, \"WS925\": 13, \"WD925\": 165, \"TMP850\": 0.5, \"WS850\": 8, \"WD850\": 135, \"WS700\": 13, \"WD700\": 268, \"PC1\": 0.8000000000000114, \"Zero\": \"0\"}, {\"DATETIME\": \"2023-11-07T11:00:00\", \"DATE\": \"2023-11-07T00:00:00\", \"TIME\": \"11:00\", \"TMP\": 8.7, \"DPT\": 8.1, \"RH\": 96, \"WS\": 4, \"WD\": 107, \"APCP\": 196.9, \"CLOUD\": 76, \"SLP\": 1016.7, \"PTYPE\": \"RA\", \"RQP\": 196.9, \"SQP\": 0, \"FQP\": 0, \"IQP\": 0, \"WS925\": 9, \"WD925\": 124, \"TMP850\": 0.6, \"WS850\": 11, \"WD850\": 143, \"WS700\": 3, \"WD700\": 234, \"PC1\": 0.5999999999999943, \"Zero\": \"0\"}, {\"DATETIME\": \"2023-11-07T14:00:00\", \"DATE\": \"2023-11-07T00:00:00\", \"TIME\": \"14:00\", \"TMP\": 9.3, \"DPT\": 8.4, \"RH\": 94, \"WS\": 6, \"WD\": 145, \"APCP\": 197.2, \"CLOUD\": 88, \"SLP\": 1018.1, \"PTYPE\": \"RA\", \"RQP\": 197.2, \"SQP\": 0, \"FQP\": 0, \"IQP\": 0, \"WS925\": 11, \"WD925\": 140, \"TMP850\": 0.6, \"WS850\": 5, \"WD850\": 166, \"WS700\": 11, \"WD700\": 263, \"PC1\": 0.29999999999998295, \"Zero\": \"0\"}, {\"DATETIME\": \"2023-11-07T17:00:00\", \"DATE\": \"2023-11-07T00:00:00\", \"TIME\": \"17:00\", \"TMP\": 8.6, \"DPT\": 7.8, \"RH\": 95, \"WS\": 5, \"WD\": 135, \"APCP\": 197.6, \"CLOUD\": 76, \"SLP\": 1019.7, \"PTYPE\": \"RA\", \"RQP\": 197.6, \"SQP\": 0, \"FQP\": 0, \"IQP\": 0, \"WS925\": 14, \"WD925\": 151, \"TMP850\": 0.5, \"WS850\": 4, \"WD850\": 155, \"WS700\": 12, \"WD700\": 279, \"PC1\": 0.4000000000000057, \"Zero\": \"0\"}, {\"DATETIME\": \"2023-11-07T20:00:00\", \"DATE\": \"2023-11-07T00:00:00\", \"TIME\": \"20:00\", \"TMP\": 8.1, \"DPT\": 6.9, \"RH\": 92, \"WS\": 5, \"WD\": 79, \"APCP\": 197.6, \"CLOUD\": 88, \"SLP\": 1021.3, \"PTYPE\": null, \"RQP\": 197.6, \"SQP\": 0, \"FQP\": 0, \"IQP\": 0, \"WS925\": 10, \"WD925\": 146, \"TMP850\": -0.3, \"WS850\": 8, \"WD850\": 175, \"WS700\": 9, \"WD700\": 271, \"PC1\": 0.0, \"Zero\": \"0\"}, {\"DATETIME\": \"2023-11-07T23:00:00\", \"DATE\": \"2023-11-07T00:00:00\", \"TIME\": \"23:00\", \"TMP\": 7.5, \"DPT\": 6.3, \"RH\": 92, \"WS\": 5, \"WD\": 69, \"APCP\": 197.6, \"CLOUD\": 20, \"SLP\": 1022.6, \"PTYPE\": null, \"RQP\": 197.6, \"SQP\": 0, \"FQP\": 0, \"IQP\": 0, \"WS925\": 11, \"WD925\": 144, \"TMP850\": -1.0, \"WS850\": 8, \"WD850\": 198, \"WS700\": 10, \"WD700\": 254, \"PC1\": 0.0, \"Zero\": \"0\"}, {\"DATETIME\": \"2023-11-08T02:00:00\", \"DATE\": \"2023-11-08T00:00:00\", \"TIME\": \"2:00\", \"TMP\": 6.8, \"DPT\": 5.8, \"RH\": 93, \"WS\": 5, \"WD\": 69, \"APCP\": 197.6, \"CLOUD\": 20, \"SLP\": 1023.7, \"PTYPE\": null, \"RQP\": 197.6, \"SQP\": 0, \"FQP\": 0, \"IQP\": 0, \"WS925\": 10, \"WD925\": 137, \"TMP850\": -1.0, \"WS850\": 9, \"WD850\": 221, \"WS700\": 11, \"WD700\": 244, \"PC1\": 0.0, \"Zero\": \"0\"}, {\"DATETIME\": \"2023-11-08T05:00:00\", \"DATE\": \"2023-11-08T00:00:00\", \"TIME\": \"5:00\", \"TMP\": 6.3, \"DPT\": 5.0, \"RH\": 91, \"WS\": 5, \"WD\": 47, \"APCP\": 197.6, \"CLOUD\": 24, \"SLP\": 1024.6, \"PTYPE\": null, \"RQP\": 197.6, \"SQP\": 0, \"FQP\": 0, \"IQP\": 0, \"WS925\": 8, \"WD925\": 135, \"TMP850\": -1.3, \"WS850\": 11, \"WD850\": 224, \"WS700\": 13, \"WD700\": 225, \"PC1\": 0.0, \"Zero\": \"0\"}, {\"DATETIME\": \"2023-11-08T08:00:00\", \"DATE\": \"2023-11-08T00:00:00\", \"TIME\": \"8:00\", \"TMP\": 6.2, \"DPT\": 4.4, \"RH\": 88, \"WS\": 4, \"WD\": 43, \"APCP\": 197.6, \"CLOUD\": 68, \"SLP\": 1025.6, \"PTYPE\": null, \"RQP\": 197.6, \"SQP\": 0, \"FQP\": 0, \"IQP\": 0, \"WS925\": 8, \"WD925\": 105, \"TMP850\": -1.5, \"WS850\": 12, \"WD850\": 219, \"WS700\": 16, \"WD700\": 215, \"PC1\": 0.0, \"Zero\": \"0\"}, {\"DATETIME\": \"2023-11-08T11:00:00\", \"DATE\": \"2023-11-08T00:00:00\", \"TIME\": \"11:00\", \"TMP\": 7.6, \"DPT\": 4.8, \"RH\": 82, \"WS\": 2, \"WD\": 68, \"APCP\": 197.6, \"CLOUD\": 44, \"SLP\": 1026.4, \"PTYPE\": null, \"RQP\": 197.6, \"SQP\": 0, \"FQP\": 0, \"IQP\": 0, \"WS925\": 9, \"WD925\": 78, \"TMP850\": -1.3, \"WS850\": 9, \"WD850\": 212, \"WS700\": 20, \"WD700\": 204, \"PC1\": 0.0, \"Zero\": \"0\"}, {\"DATETIME\": \"2023-11-08T14:00:00\", \"DATE\": \"2023-11-08T00:00:00\", \"TIME\": \"14:00\", \"TMP\": 9.4, \"DPT\": 5.5, \"RH\": 77, \"WS\": 2, \"WD\": 192, \"APCP\": 197.6, \"CLOUD\": 0, \"SLP\": 1025.7, \"PTYPE\": null, \"RQP\": 197.6, \"SQP\": 0, \"FQP\": 0, \"IQP\": 0, \"WS925\": 7, \"WD925\": 55, \"TMP850\": 0.5, \"WS850\": 9, \"WD850\": 175, \"WS700\": 25, \"WD700\": 195, \"PC1\": 0.0, \"Zero\": \"0\"}, {\"DATETIME\": \"2023-11-08T17:00:00\", \"DATE\": \"2023-11-08T00:00:00\", \"TIME\": \"17:00\", \"TMP\": 8.5, \"DPT\": 6.8, \"RH\": 89, \"WS\": 2, \"WD\": 202, \"APCP\": 197.6, \"CLOUD\": 0, \"SLP\": 1024.6, \"PTYPE\": null, \"RQP\": 197.6, \"SQP\": 0, \"FQP\": 0, \"IQP\": 0, \"WS925\": 12, \"WD925\": 72, \"TMP850\": 1.0, \"WS850\": 15, \"WD850\": 144, \"WS700\": 28, \"WD700\": 188, \"PC1\": 0.0, \"Zero\": \"0\"}, {\"DATETIME\": \"2023-11-08T20:00:00\", \"DATE\": \"2023-11-08T00:00:00\", \"TIME\": \"20:00\", \"TMP\": 6.2, \"DPT\": 4.7, \"RH\": 90, \"WS\": 5, \"WD\": 37, \"APCP\": 197.6, \"CLOUD\": 0, \"SLP\": 1023.9, \"PTYPE\": null, \"RQP\": 197.6, \"SQP\": 0, \"FQP\": 0, \"IQP\": 0, \"WS925\": 16, \"WD925\": 98, \"TMP850\": 1.3, \"WS850\": 26, \"WD850\": 145, \"WS700\": 32, \"WD700\": 184, \"PC1\": 0.0, \"Zero\": \"0\"}, {\"DATETIME\": \"2023-11-08T23:00:00\", \"DATE\": \"2023-11-08T00:00:00\", \"TIME\": \"23:00\", \"TMP\": 5.6, \"DPT\": 2.6, \"RH\": 81, \"WS\": 7, \"WD\": 29, \"APCP\": 197.6, \"CLOUD\": 8, \"SLP\": 1023.3, \"PTYPE\": null, \"RQP\": 197.6, \"SQP\": 0, \"FQP\": 0, \"IQP\": 0, \"WS925\": 17, \"WD925\": 119, \"TMP850\": 1.1, \"WS850\": 30, \"WD850\": 156, \"WS700\": 37, \"WD700\": 184, \"PC1\": 0.0, \"Zero\": \"0\"}, {\"DATETIME\": \"2023-11-09T02:00:00\", \"DATE\": \"2023-11-09T00:00:00\", \"TIME\": \"2:00\", \"TMP\": 5.4, \"DPT\": 1.9, \"RH\": 78, \"WS\": 6, \"WD\": 41, \"APCP\": 197.6, \"CLOUD\": 12, \"SLP\": 1023.0, \"PTYPE\": null, \"RQP\": 197.6, \"SQP\": 0, \"FQP\": 0, \"IQP\": 0, \"WS925\": 15, \"WD925\": 125, \"TMP850\": 0.6, \"WS850\": 26, \"WD850\": 150, \"WS700\": 39, \"WD700\": 186, \"PC1\": 0.0, \"Zero\": \"0\"}, {\"DATETIME\": \"2023-11-09T05:00:00\", \"DATE\": \"2023-11-09T00:00:00\", \"TIME\": \"5:00\", \"TMP\": 5.3, \"DPT\": 2.0, \"RH\": 79, \"WS\": 7, \"WD\": 31, \"APCP\": 197.6, \"CLOUD\": 8, \"SLP\": 1021.6, \"PTYPE\": null, \"RQP\": 197.6, \"SQP\": 0, \"FQP\": 0, \"IQP\": 0, \"WS925\": 14, \"WD925\": 113, \"TMP850\": 0.8, \"WS850\": 29, \"WD850\": 146, \"WS700\": 37, \"WD700\": 193, \"PC1\": 0.0, \"Zero\": \"0\"}, {\"DATETIME\": \"2023-11-09T08:00:00\", \"DATE\": \"2023-11-09T00:00:00\", \"TIME\": \"8:00\", \"TMP\": 5.1, \"DPT\": 1.8, \"RH\": 79, \"WS\": 7, \"WD\": 30, \"APCP\": 197.6, \"CLOUD\": 0, \"SLP\": 1020.9, \"PTYPE\": null, \"RQP\": 197.6, \"SQP\": 0, \"FQP\": 0, \"IQP\": 0, \"WS925\": 14, \"WD925\": 120, \"TMP850\": 0.7, \"WS850\": 27, \"WD850\": 145, \"WS700\": 35, \"WD700\": 188, \"PC1\": 0.0, \"Zero\": \"0\"}, {\"DATETIME\": \"2023-11-09T11:00:00\", \"DATE\": \"2023-11-09T00:00:00\", \"TIME\": \"11:00\", \"TMP\": 7.4, \"DPT\": 3.6, \"RH\": 77, \"WS\": 3, \"WD\": 47, \"APCP\": 197.6, \"CLOUD\": 24, \"SLP\": 1020.0, \"PTYPE\": null, \"RQP\": 197.6, \"SQP\": 0, \"FQP\": 0, \"IQP\": 0, \"WS925\": 16, \"WD925\": 112, \"TMP850\": 1.1, \"WS850\": 30, \"WD850\": 143, \"WS700\": 35, \"WD700\": 185, \"PC1\": 0.0, \"Zero\": \"0\"}, {\"DATETIME\": \"2023-11-09T14:00:00\", \"DATE\": \"2023-11-09T00:00:00\", \"TIME\": \"14:00\", \"TMP\": 9.9, \"DPT\": 6.2, \"RH\": 78, \"WS\": 0, \"WD\": 204, \"APCP\": 197.6, \"CLOUD\": 20, \"SLP\": 1018.1, \"PTYPE\": null, \"RQP\": 197.6, \"SQP\": 0, \"FQP\": 0, \"IQP\": 0, \"WS925\": 14, \"WD925\": 110, \"TMP850\": 1.3, \"WS850\": 27, \"WD850\": 139, \"WS700\": 35, \"WD700\": 184, \"PC1\": 0.0, \"Zero\": \"0\"}, {\"DATETIME\": \"2023-11-09T17:00:00\", \"DATE\": \"2023-11-09T00:00:00\", \"TIME\": \"17:00\", \"TMP\": 9.3, \"DPT\": 7.3, \"RH\": 87, \"WS\": 2, \"WD\": 32, \"APCP\": 197.6, \"CLOUD\": 0, \"SLP\": 1016.1, \"PTYPE\": null, \"RQP\": 197.6, \"SQP\": 0, \"FQP\": 0, \"IQP\": 0, \"WS925\": 15, \"WD925\": 99, \"TMP850\": 2.0, \"WS850\": 26, \"WD850\": 135, \"WS700\": 33, \"WD700\": 187, \"PC1\": 0.0, \"Zero\": \"0\"}, {\"DATETIME\": \"2023-11-09T20:00:00\", \"DATE\": \"2023-11-09T00:00:00\", \"TIME\": \"20:00\", \"TMP\": 6.8, \"DPT\": 3.9, \"RH\": 82, \"WS\": 6, \"WD\": 24, \"APCP\": 197.6, \"CLOUD\": 0, \"SLP\": 1015.4, \"PTYPE\": null, \"RQP\": 197.6, \"SQP\": 0, \"FQP\": 0, \"IQP\": 0, \"WS925\": 12, \"WD925\": 99, \"TMP850\": 2.6, \"WS850\": 23, \"WD850\": 140, \"WS700\": 30, \"WD700\": 191, \"PC1\": 0.0, \"Zero\": \"0\"}, {\"DATETIME\": \"2023-11-09T23:00:00\", \"DATE\": \"2023-11-09T00:00:00\", \"TIME\": \"23:00\", \"TMP\": 5.9, \"DPT\": 2.0, \"RH\": 76, \"WS\": 6, \"WD\": 30, \"APCP\": 197.6, \"CLOUD\": 0, \"SLP\": 1015.0, \"PTYPE\": null, \"RQP\": 197.6, \"SQP\": 0, \"FQP\": 0, \"IQP\": 0, \"WS925\": 10, \"WD925\": 100, \"TMP850\": 2.6, \"WS850\": 16, \"WD850\": 136, \"WS700\": 29, \"WD700\": 190, \"PC1\": 0.0, \"Zero\": \"0\"}, {\"DATETIME\": \"2023-11-10T02:00:00\", \"DATE\": \"2023-11-10T00:00:00\", \"TIME\": \"2:00\", \"TMP\": 5.5, \"DPT\": 1.0, \"RH\": 73, \"WS\": 6, \"WD\": 22, \"APCP\": 197.6, \"CLOUD\": 12, \"SLP\": 1014.6, \"PTYPE\": null, \"RQP\": 197.6, \"SQP\": 0, \"FQP\": 0, \"IQP\": 0, \"WS925\": 8, \"WD925\": 110, \"TMP850\": 2.1, \"WS850\": 16, \"WD850\": 147, \"WS700\": 24, \"WD700\": 197, \"PC1\": 0.0, \"Zero\": \"0\"}, {\"DATETIME\": \"2023-11-10T05:00:00\", \"DATE\": \"2023-11-10T00:00:00\", \"TIME\": \"5:00\", \"TMP\": 5.5, \"DPT\": 1.0, \"RH\": 73, \"WS\": 5, \"WD\": 21, \"APCP\": 197.6, \"CLOUD\": 20, \"SLP\": 1014.0, \"PTYPE\": null, \"RQP\": 197.6, \"SQP\": 0, \"FQP\": 0, \"IQP\": 0, \"WS925\": 7, \"WD925\": 26, \"TMP850\": 2.0, \"WS850\": 11, \"WD850\": 143, \"WS700\": 18, \"WD700\": 221, \"PC1\": 0.0, \"Zero\": \"0\"}, {\"DATETIME\": \"2023-11-10T08:00:00\", \"DATE\": \"2023-11-10T00:00:00\", \"TIME\": \"8:00\", \"TMP\": 4.8, \"DPT\": 0.9, \"RH\": 76, \"WS\": 4, \"WD\": 7, \"APCP\": 197.6, \"CLOUD\": 0, \"SLP\": 1014.5, \"PTYPE\": null, \"RQP\": 197.6, \"SQP\": 0, \"FQP\": 0, \"IQP\": 0, \"WS925\": 6, \"WD925\": 349, \"TMP850\": 2.2, \"WS850\": 4, \"WD850\": 134, \"WS700\": 16, \"WD700\": 271, \"PC1\": 0.0, \"Zero\": \"0\"}, {\"DATETIME\": \"2023-11-10T11:00:00\", \"DATE\": \"2023-11-10T00:00:00\", \"TIME\": \"11:00\", \"TMP\": 6.9, \"DPT\": 2.4, \"RH\": 73, \"WS\": 0, \"WD\": 261, \"APCP\": 197.6, \"CLOUD\": 0, \"SLP\": 1015.0, \"PTYPE\": null, \"RQP\": 197.6, \"SQP\": 0, \"FQP\": 0, \"IQP\": 0, \"WS925\": 6, \"WD925\": 346, \"TMP850\": 2.5, \"WS850\": 5, \"WD850\": 201, \"WS700\": 19, \"WD700\": 319, \"PC1\": 0.0, \"Zero\": \"0\"}, {\"DATETIME\": \"2023-11-10T14:00:00\", \"DATE\": \"2023-11-10T00:00:00\", \"TIME\": \"14:00\", \"TMP\": 8.4, \"DPT\": 4.2, \"RH\": 75, \"WS\": 4, \"WD\": 245, \"APCP\": 197.6, \"CLOUD\": 0, \"SLP\": 1014.8, \"PTYPE\": null, \"RQP\": 197.6, \"SQP\": 0, \"FQP\": 0, \"IQP\": 0, \"WS925\": 9, \"WD925\": 340, \"TMP850\": 2.6, \"WS850\": 9, \"WD850\": 271, \"WS700\": 17, \"WD700\": 323, \"PC1\": 0.0, \"Zero\": \"0\"}, {\"DATETIME\": \"2023-11-10T17:00:00\", \"DATE\": \"2023-11-10T00:00:00\", \"TIME\": \"17:00\", \"TMP\": 7.4, \"DPT\": 5.6, \"RH\": 88, \"WS\": 2, \"WD\": 228, \"APCP\": 197.6, \"CLOUD\": 0, \"SLP\": 1015.2, \"PTYPE\": null, \"RQP\": 197.6, \"SQP\": 0, \"FQP\": 0, \"IQP\": 0, \"WS925\": 4, \"WD925\": 323, \"TMP850\": 3.3, \"WS850\": 14, \"WD850\": 302, \"WS700\": 16, \"WD700\": 296, \"PC1\": 0.0, \"Zero\": \"0\"}, {\"DATETIME\": \"2023-11-10T20:00:00\", \"DATE\": \"2023-11-10T00:00:00\", \"TIME\": \"20:00\", \"TMP\": 5.6, \"DPT\": 4.6, \"RH\": 93, \"WS\": 6, \"WD\": 32, \"APCP\": 197.6, \"CLOUD\": 0, \"SLP\": 1016.3, \"PTYPE\": null, \"RQP\": 197.6, \"SQP\": 0, \"FQP\": 0, \"IQP\": 0, \"WS925\": 1, \"WD925\": 232, \"TMP850\": 3.4, \"WS850\": 11, \"WD850\": 294, \"WS700\": 25, \"WD700\": 284, \"PC1\": 0.0, \"Zero\": \"0\"}, {\"DATETIME\": \"2023-11-10T23:00:00\", \"DATE\": \"2023-11-10T00:00:00\", \"TIME\": \"23:00\", \"TMP\": 5.6, \"DPT\": 3.7, \"RH\": 88, \"WS\": 6, \"WD\": 35, \"APCP\": 197.6, \"CLOUD\": 0, \"SLP\": 1016.9, \"PTYPE\": null, \"RQP\": 197.6, \"SQP\": 0, \"FQP\": 0, \"IQP\": 0, \"WS925\": 2, \"WD925\": 160, \"TMP850\": 3.5, \"WS850\": 12, \"WD850\": 263, \"WS700\": 31, \"WD700\": 274, \"PC1\": 0.0, \"Zero\": \"0\"}, {\"DATETIME\": \"2023-11-11T02:00:00\", \"DATE\": \"2023-11-11T00:00:00\", \"TIME\": \"2:00\", \"TMP\": 5.3, \"DPT\": 2.7, \"RH\": 83, \"WS\": 5, \"WD\": 38, \"APCP\": 197.6, \"CLOUD\": 8, \"SLP\": 1017.5, \"PTYPE\": null, \"RQP\": 197.6, \"SQP\": 0, \"FQP\": 0, \"IQP\": 0, \"WS925\": 1, \"WD925\": 159, \"TMP850\": 3.4, \"WS850\": 16, \"WD850\": 245, \"WS700\": 36, \"WD700\": 258, \"PC1\": 0.0, \"Zero\": \"0\"}, {\"DATETIME\": \"2023-11-11T05:00:00\", \"DATE\": \"2023-11-11T00:00:00\", \"TIME\": \"5:00\", \"TMP\": 4.9, \"DPT\": 2.3, \"RH\": 83, \"WS\": 4, \"WD\": 43, \"APCP\": 197.6, \"CLOUD\": 56, \"SLP\": 1017.7, \"PTYPE\": null, \"RQP\": 197.6, \"SQP\": 0, \"FQP\": 0, \"IQP\": 0, \"WS925\": 5, \"WD925\": 142, \"TMP850\": 3.1, \"WS850\": 16, \"WD850\": 244, \"WS700\": 41, \"WD700\": 256, \"PC1\": 0.0, \"Zero\": \"0\"}, {\"DATETIME\": \"2023-11-11T08:00:00\", \"DATE\": \"2023-11-11T00:00:00\", \"TIME\": \"8:00\", \"TMP\": 4.7, \"DPT\": 2.1, \"RH\": 83, \"WS\": 5, \"WD\": 60, \"APCP\": 197.6, \"CLOUD\": 24, \"SLP\": 1017.3, \"PTYPE\": null, \"RQP\": 197.6, \"SQP\": 0, \"FQP\": 0, \"IQP\": 0, \"WS925\": 13, \"WD925\": 130, \"TMP850\": 3.0, \"WS850\": 13, \"WD850\": 217, \"WS700\": 47, \"WD700\": 256, \"PC1\": 0.0, \"Zero\": \"0\"}, {\"DATETIME\": \"2023-11-11T11:00:00\", \"DATE\": \"2023-11-11T00:00:00\", \"TIME\": \"11:00\", \"TMP\": 6.8, \"DPT\": 3.2, \"RH\": 78, \"WS\": 3, \"WD\": 78, \"APCP\": 197.6, \"CLOUD\": 36, \"SLP\": 1018.3, \"PTYPE\": null, \"RQP\": 197.6, \"SQP\": 0, \"FQP\": 0, \"IQP\": 0, \"WS925\": 12, \"WD925\": 133, \"TMP850\": 2.7, \"WS850\": 20, \"WD850\": 217, \"WS700\": 51, \"WD700\": 252, \"PC1\": 0.0, \"Zero\": \"0\"}, {\"DATETIME\": \"2023-11-11T14:00:00\", \"DATE\": \"2023-11-11T00:00:00\", \"TIME\": \"14:00\", \"TMP\": 8.5, \"DPT\": 4.4, \"RH\": 75, \"WS\": 4, \"WD\": 146, \"APCP\": 197.6, \"CLOUD\": 0, \"SLP\": 1017.6, \"PTYPE\": null, \"RQP\": 197.6, \"SQP\": 0, \"FQP\": 0, \"IQP\": 0, \"WS925\": 13, \"WD925\": 135, \"TMP850\": 2.3, \"WS850\": 23, \"WD850\": 221, \"WS700\": 62, \"WD700\": 251, \"PC1\": 0.0, \"Zero\": \"0\"}, {\"DATETIME\": \"2023-11-11T17:00:00\", \"DATE\": \"2023-11-11T00:00:00\", \"TIME\": \"17:00\", \"TMP\": 7.5, \"DPT\": 5.3, \"RH\": 86, \"WS\": 3, \"WD\": 130, \"APCP\": 197.6, \"CLOUD\": 0, \"SLP\": 1017.2, \"PTYPE\": null, \"RQP\": 197.6, \"SQP\": 0, \"FQP\": 0, \"IQP\": 0, \"WS925\": 11, \"WD925\": 136, \"TMP850\": 1.6, \"WS850\": 22, \"WD850\": 234, \"WS700\": 62, \"WD700\": 252, \"PC1\": 0.0, \"Zero\": \"0\"}, {\"DATETIME\": \"2023-11-11T20:00:00\", \"DATE\": \"2023-11-11T00:00:00\", \"TIME\": \"20:00\", \"TMP\": 6.6, \"DPT\": 4.1, \"RH\": 84, \"WS\": 5, \"WD\": 50, \"APCP\": 197.6, \"CLOUD\": 92, \"SLP\": 1017.8, \"PTYPE\": null, \"RQP\": 197.6, \"SQP\": 0, \"FQP\": 0, \"IQP\": 0, \"WS925\": 11, \"WD925\": 144, \"TMP850\": 1.3, \"WS850\": 19, \"WD850\": 225, \"WS700\": 54, \"WD700\": 260, \"PC1\": 0.0, \"Zero\": \"0\"}, {\"DATETIME\": \"2023-11-11T23:00:00\", \"DATE\": \"2023-11-11T00:00:00\", \"TIME\": \"23:00\", \"TMP\": 6.6, \"DPT\": 3.5, \"RH\": 81, \"WS\": 5, \"WD\": 46, \"APCP\": 197.7, \"CLOUD\": 92, \"SLP\": 1018.0, \"PTYPE\": \"RA\", \"RQP\": 197.7, \"SQP\": 0, \"FQP\": 0, \"IQP\": 0, \"WS925\": 13, \"WD925\": 137, \"TMP850\": 1.4, \"WS850\": 17, \"WD850\": 200, \"WS700\": 52, \"WD700\": 252, \"PC1\": 0.09999999999999432, \"Zero\": \"0\"}, {\"DATETIME\": \"2023-11-12T02:00:00\", \"DATE\": \"2023-11-12T00:00:00\", \"TIME\": \"2:00\", \"TMP\": 6.8, \"DPT\": 4.1, \"RH\": 83, \"WS\": 4, \"WD\": 36, \"APCP\": 197.7, \"CLOUD\": 92, \"SLP\": 1018.4, \"PTYPE\": null, \"RQP\": 197.7, \"SQP\": 0, \"FQP\": 0, \"IQP\": 0, \"WS925\": 11, \"WD925\": 118, \"TMP850\": 1.3, \"WS850\": 19, \"WD850\": 194, \"WS700\": 48, \"WD700\": 245, \"PC1\": 0.0, \"Zero\": \"0\"}, {\"DATETIME\": \"2023-11-12T05:00:00\", \"DATE\": \"2023-11-12T00:00:00\", \"TIME\": \"5:00\", \"TMP\": 7.0, \"DPT\": 4.7, \"RH\": 85, \"WS\": 3, \"WD\": 50, \"APCP\": 197.7, \"CLOUD\": 92, \"SLP\": 1018.3, \"PTYPE\": null, \"RQP\": 197.7, \"SQP\": 0, \"FQP\": 0, \"IQP\": 0, \"WS925\": 11, \"WD925\": 107, \"TMP850\": 2.1, \"WS850\": 17, \"WD850\": 205, \"WS700\": 58, \"WD700\": 250, \"PC1\": 0.0, \"Zero\": \"0\"}]}}, {\"mode\": \"vega-lite\"});\n",
       "</script>"
      ],
      "text/plain": [
       "alt.VConcatChart(...)"
      ]
     },
     "execution_count": 11,
     "metadata": {},
     "output_type": "execute_result"
    }
   ],
   "source": [
    "meteogram = temp2 & cloud_pressure & precip_total & wind \n",
    "meteogram = meteogram.configure_axis(labelFontSize=11, titleFontSize=12)\n",
    "meteogram"
   ]
  },
  {
   "cell_type": "markdown",
   "id": "1d4df8f8-9adf-4db3-8634-09ea19756f47",
   "metadata": {},
   "source": [
    "Below is an Atmospheric River forecast from the Center for Western Weather and Water Extremes (CW3E). This shows the strength of the forecasted storm for Nov 3-6 (AR 2) using the European weather model (ECMWF). This storm comes hot on the heels of an AR 1 on November 2. \n",
    "\n",
    "```{figure} img/ARScale_Fx.png\n",
    "---\n",
    "name: ARscale\n",
    "---\n",
    "AR Scale forecast, issued on Nov. 2. ([CW3E](https://cw3e.ucsd.edu/arscale/))\n",
    "```"
   ]
  },
  {
   "cell_type": "markdown",
   "id": "b4f5af11-c9bd-4299-93ad-4b7963386cff",
   "metadata": {},
   "source": [
    "## Temperature Outlooks\n",
    "\n",
    "The maps below show the probabilities of above, below, or near-normal temperatures for the next 8-14 days, 1-month, and 3-months. This gives us a rough indication of average temperatures over these periods. The higher the likelihood, the more confidence in the forecast. Currently it looks as though mid-October could be relatively cool and wet, but most longer range products continue to call for warmer and drier than normal conditions for the fall and early winter. \n",
    "\n",
    "### 8-14 day outlook \n",
    "**Issued on November 2.** There is no clear signal in this product. \n",
    "\n",
    "```{figure} img/twoweek_temp.png\n",
    "---\n",
    "name: twoweek\n",
    "---\n",
    "8-14 day temperature outlook ([ECCC](https://weather.gc.ca/ensemble/naefs/semaine2_combinee_e.html))\n",
    "```\n",
    "### One month outlook \n",
    "**Issued on November 2.** The monthly temperature outlook shows higher odds of above normal temperatures for the coast of North America. \n",
    "\n",
    "```{figure} img/1month.gif\n",
    "---\n",
    "name: monthly\n",
    "---\n",
    "Monthly temperature outlook ([ECCC](https://weather.gc.ca/saisons/image_e.html?img=mfe1t_s))\n",
    "```\n",
    "### 1-3 month temperature  \n",
    "\n",
    "**Issued on October 31.** The 3-month temperature outlook continues to favour above normal temperatures for the BC south coast for the Nov-Dec-Jan period. There is a 70-80% probability of above normal temperatures for this period. There is virtually no skill in the long range precipitation outlook. \n",
    "\n",
    "```{figure} img/3month-temp-precip.png\n",
    "---\n",
    "name: three-monthly\n",
    "---\n",
    "Three month (S-O-N) temperature and precipitation outlooks ([ECCC](https://weather.gc.ca/saisons/prob_e.html))\n",
    "```\n",
    "## Summary\n",
    "Medium and long-range outlooks continue to point to a warmer than normal fall and start to the winter (on average). We could still see all types of weather during this period (Arctic outbreaks, mild/warm sunny spells, and strong storms), but at the end of the period the average temperature is more likely to be above normal. "
   ]
  },
  {
   "cell_type": "code",
   "execution_count": null,
   "id": "abebe6e1-536b-4072-a5d8-fc396ff6c5c2",
   "metadata": {},
   "outputs": [],
   "source": []
  }
 ],
 "metadata": {
  "kernelspec": {
   "display_name": "Python 3 (ipykernel)",
   "language": "python",
   "name": "python3"
  },
  "language_info": {
   "codemirror_mode": {
    "name": "ipython",
    "version": 3
   },
   "file_extension": ".py",
   "mimetype": "text/x-python",
   "name": "python",
   "nbconvert_exporter": "python",
   "pygments_lexer": "ipython3",
   "version": "3.9.12"
  }
 },
 "nbformat": 4,
 "nbformat_minor": 5
}