{
 "cells": [
  {
   "cell_type": "markdown",
   "id": "cef1b565-0b77-4d85-938d-32fd7809a538",
   "metadata": {},
   "source": [
    "# Forest Health"
   ]
  },
  {
   "cell_type": "markdown",
   "id": "82bce9f2-b525-4295-988c-376487af72e1",
   "metadata": {},
   "source": [
    "Watershed and Environment staff monitor the forest health in the water supply areas. This includes tracking the presence and abundance of pests, pathogens, abiotic stressors, and invasive species. Climate change and seasonal drought are also impacting forest health, and these impacts will likely become more pronounced in the future. Monitoring methods include aerial overview flights, satellite mapping, and ground-based monitoring (trapping, field observations and surveys). \n",
    "\n",
    "Below you will find more information about the 2020-2022 Western Hemlock Looper outbreak, and the current impacts from drought. "
   ]
  },
  {
   "cell_type": "markdown",
   "id": "9d3fc3bb-3992-4cd8-9165-ac7a0c6aecea",
   "metadata": {},
   "source": [
    "## Western Hemlock Looper Outbreak\n",
    "\n",
    "The western hemlock looper is a native defoliator of western hemlock, western red cedar, and Douglas-fir. This moth periodically reaches outbreak levels, causing severe damage to forests in both Interior and Coastal British Columbia. These outbreaks typically last for one to three years, but recent research indicates outbreaks may worsen with climate change. \n",
    "\n",
    "```{figure} img/looper_moth.png\n",
    "---\n",
    "name: looper\n",
    "---\n",
    "Western Hemlock Looper. Photo credit: Dave Holden, CFIA\n",
    "```\n",
    "\n",
    "A significant looper outbreak was first noted in 2019. Conifer trees on the North Shore and parts of the Coquitlam Watershed rapidly started to turn red. The west side of Capilano Lake and Lynn Headwaters Regional Park were hit the hardest. The outbreak showed signs of slowing at the end of 2022, but the damage to the forest was quite extensive at this point. This summer, dead and dying trees are clearly visible in many parts of the North Shore, including the water supply areas. \n",
    "\n",
    "Dead trees can lead to increased risk of erosion and forest fire, but they can also be an important disturbance agent in forests with infrequent wildfires. Western Hemlock Looper outbreaks are a natural occurrence and although the impacts to the forest appear alarming, the result may actually lead to greater resilience of the forest to future disturbances. \n",
    "\n",
    "```{figure} img/looper_forest.jpg\n",
    "---\n",
    "name: looper-forest\n",
    "---\n",
    "Western Hemlock Looper outbreak in the Capilano Watershed. May, 1, 2023 (Photo: P. Marshall)\n",
    "```"
   ]
  },
  {
   "cell_type": "markdown",
   "id": "12b8142f-e0ac-4659-a356-edf2882ee83f",
   "metadata": {},
   "source": [
    "## Drought Stress\n",
    "\n",
    "Our forests have clearly been stressed by recurring drought conditions over the past several years. This became a topic of discussion four or five years ago, but the impacts of drought have been even more pronounced over the past two summers. Western red cedar, an iconic local species, have been particularly affected. Many red cedars are dead or suffering. Typically the trees turn orange or red from the top to bottom, or there may be extensive \"flagging\". Some trees will recover during the wet season, but many will not. Successive years of drought may also weaken the trees and their limbs, making them more susceptible to sudden failure, or other pests and pathogens. \n",
    "\n",
    "Western red cedar dieback is almost certainly a result of climate change. As our climate continues to warm, we will most likely see the range of the western red cedar shrink and shift. This is an important consideration when selecting types of tree species for planting in the future.\n"
   ]
  },
  {
   "cell_type": "markdown",
   "id": "3cd913e4-c1af-4946-8102-2b7cd8cc61a1",
   "metadata": {},
   "source": [
    "### Satellite Analysis\n",
    "\n",
    "The satellite images below show the Capilano Watershed. The image on the left is a true colour image taken on August 13, 2023. A couple things jump out in this image. First, the hemlock looper outbreak around the Capilano Reservoir is very clear. We can also see that the reservoir levels are relatively low for this time of year. Palisade and Burwell Lakes (mid, right side of image) were opened early this summer and have drawn down a few metres. \n",
    "\n",
    "The middle image shows the Normalized Difference Vegetation Index (NDVI). This is a common metric used to to quantify the health and density of vegetation using optical imagery. It's calculated from two specific spectral bands: the near-infrared and red bands. NDVI values fall between 1.0 and -1.0. A water body will have NDVI values of -1.0. Healthy green vegetation has higher NDVI values (0.6 to 1.0). Values of 0.1-0.35 indicate diseased or dead vegetation, and values of 0.35-0.6 show moderately healthy vegetation. In the image below we can see dead or diseased vegetation on the west side of the Capilano Reservoir. Healthier green vegetation is most evident in the valley bottoms and old cutblocks. Lower NDVI values at ridge top show barren rock.\n",
    "\n",
    "The image on the right was created by differencing the Aug 2019 NDVI and the Aug 2023 NDVI images. This is a technique used to detect change over time. Positive values indicate that vegetation has become less green, or less healthy. Clearly we've seen some dramatic changes since 2019! Most areas within Capilano have become less green, with the greatest change seen on the west side of the reservoir and in many of the drainages. Again, alpine areas show very little change, which is to be expected. \n",
    "\n",
    "```{figure} img/ndvi_analysis.png\n",
    "---\n",
    "name: ndvi\n",
    "---\n",
    "Satellite imagery of the Capilano Watershed. Sentinel 2 L2A. \n",
    "```"
   ]
  },
  {
   "cell_type": "markdown",
   "id": "e98452eb-c3f6-4e85-8cc7-17a7feef9aa1",
   "metadata": {},
   "source": [
    "The plots below show the change in NDVI values over time for early-to-mid August. One plot shows the average NDVI values in the Capilano Watershed, and the second shows the change at specific points. These points are highlighted by the coloured dots in the satellite image above. All points have changed dramatically in the past couple years, but again, the greatest change is within the severely affected hemlock looper area. Overall forest health has deteriorated during the past two dry summers. "
   ]
  },
  {
   "cell_type": "code",
   "execution_count": 1,
   "id": "e8149977-2b36-41d0-9dff-e3495159fb93",
   "metadata": {
    "tags": [
     "remove-cell"
    ]
   },
   "outputs": [],
   "source": [
    "import os\n",
    "import pandas as pd\n",
    "import subprocess\n",
    "import altair as alt\n",
    "import matplotlib.pyplot as plt\n",
    "import numpy as np"
   ]
  },
  {
   "cell_type": "code",
   "execution_count": 2,
   "id": "89c776a0-dd76-4839-a419-cb4a3bef6b3b",
   "metadata": {
    "tags": [
     "remove-cell"
    ]
   },
   "outputs": [],
   "source": [
    "ndvi_point = pd.read_csv('data/ndvi_point.csv', parse_dates= ['date']) \n",
    "ndvi_point['year'] = pd.DatetimeIndex(ndvi_point['date']).year\n",
    "ndvi_zonal = pd.read_csv('data/ndvi_zonal.csv', parse_dates= ['year']) \n",
    "ndvi_zonal['year'] = pd.DatetimeIndex(ndvi_zonal['year']).year"
   ]
  },
  {
   "cell_type": "code",
   "execution_count": 3,
   "id": "3fd57612-c05b-4dcb-8088-8782c107326e",
   "metadata": {
    "tags": [
     "remove-cell"
    ]
   },
   "outputs": [],
   "source": [
    "title = alt.TitleParams(\n",
    "   text='Capilano Watershed',\n",
    "   subtitle=\"NDVI Values - Points\",\n",
    "   anchor='middle',\n",
    "   fontSize=14,\n",
    "   fontWeight='bold')\n",
    "\n",
    "ndvi_line = alt.Chart(ndvi_point, title=title).mark_line().encode(\n",
    "    alt.X('year:N', title=None),\n",
    "    alt.Y('value:Q', title='NDVI (1.0 to -1.0)'),\n",
    "    alt.Color('point:N', title=\"Point\")\n",
    ").properties(width=300, height=200)\n"
   ]
  },
  {
   "cell_type": "code",
   "execution_count": 4,
   "id": "f7766550-a1ab-456f-b456-841d43242388",
   "metadata": {
    "tags": [
     "remove-cell"
    ]
   },
   "outputs": [],
   "source": [
    "ndvi_point = alt.Chart(ndvi_point, title=title).mark_circle().encode(\n",
    "    alt.X('year:N', title=None),\n",
    "    alt.Y('value:Q', title='NDVI (1.0 to -1.0)'),\n",
    "    alt.Color('point:N', title=\"Point\")\n",
    ").properties(width=300, height=200)\n"
   ]
  },
  {
   "cell_type": "code",
   "execution_count": 5,
   "id": "5ff11fd1-c1a3-43b7-8122-5566b24c9a9c",
   "metadata": {
    "tags": [
     "remove-cell"
    ]
   },
   "outputs": [],
   "source": [
    "ndvi_plot = ndvi_line + ndvi_point"
   ]
  },
  {
   "cell_type": "code",
   "execution_count": 6,
   "id": "baac61d7-b087-45ca-846c-bcbe5a9b4803",
   "metadata": {
    "tags": [
     "remove-cell"
    ]
   },
   "outputs": [],
   "source": [
    "title = alt.TitleParams(\n",
    "   text='Capilano Watershed',\n",
    "   subtitle=\"Watershed Average NDVI Values\",\n",
    "   anchor='middle',\n",
    "   fontSize=14,\n",
    "   fontWeight='bold')\n",
    "\n",
    "ndvi_change = alt.Chart(ndvi_zonal, title=title).mark_line().encode(\n",
    "    alt.X('year:N', title=None),\n",
    "    alt.Y('value:Q', title='NDVI (1.0 to -1.0)'),\n",
    "    tooltip=[alt.Tooltip('year', title=\"Year\"), alt.Tooltip('value', title=\"NDVI Value\")]\n",
    ").properties(width=300, height=200)\n"
   ]
  },
  {
   "cell_type": "code",
   "execution_count": 7,
   "id": "5a091bd3-f09b-4562-80cf-66bab52a5cdc",
   "metadata": {
    "tags": [
     "remove-cell"
    ]
   },
   "outputs": [],
   "source": [
    "ndvi_points = alt.Chart(ndvi_zonal, title=title).mark_circle().encode(\n",
    "    alt.X('year:N', title=None),\n",
    "    alt.Y('value:Q', title='NDVI (1.0 to -1.0)'),\n",
    "    tooltip=[alt.Tooltip('year', title=\"Year\"), alt.Tooltip('value', title=\"NDVI Value\")]\n",
    ").properties(width=300, height=200)\n"
   ]
  },
  {
   "cell_type": "code",
   "execution_count": 8,
   "id": "07b6f58f-7143-4c59-a97d-242cd4bdaaf3",
   "metadata": {
    "tags": [
     "remove-cell"
    ]
   },
   "outputs": [],
   "source": [
    "ndvi_change_plot = ndvi_change + ndvi_points"
   ]
  },
  {
   "cell_type": "code",
   "execution_count": 9,
   "id": "85687193-d919-4e2a-acc9-26a1465d8f47",
   "metadata": {
    "tags": [
     "remove-input"
    ]
   },
   "outputs": [
    {
     "data": {
      "text/html": [
       "\n",
       "<div id=\"altair-viz-dd735b57729747f3836abd48e05b5f65\"></div>\n",
       "<script type=\"text/javascript\">\n",
       "  var VEGA_DEBUG = (typeof VEGA_DEBUG == \"undefined\") ? {} : VEGA_DEBUG;\n",
       "  (function(spec, embedOpt){\n",
       "    let outputDiv = document.currentScript.previousElementSibling;\n",
       "    if (outputDiv.id !== \"altair-viz-dd735b57729747f3836abd48e05b5f65\") {\n",
       "      outputDiv = document.getElementById(\"altair-viz-dd735b57729747f3836abd48e05b5f65\");\n",
       "    }\n",
       "    const paths = {\n",
       "      \"vega\": \"https://cdn.jsdelivr.net/npm//vega@5?noext\",\n",
       "      \"vega-lib\": \"https://cdn.jsdelivr.net/npm//vega-lib?noext\",\n",
       "      \"vega-lite\": \"https://cdn.jsdelivr.net/npm//vega-lite@4.17.0?noext\",\n",
       "      \"vega-embed\": \"https://cdn.jsdelivr.net/npm//vega-embed@6?noext\",\n",
       "    };\n",
       "\n",
       "    function maybeLoadScript(lib, version) {\n",
       "      var key = `${lib.replace(\"-\", \"\")}_version`;\n",
       "      return (VEGA_DEBUG[key] == version) ?\n",
       "        Promise.resolve(paths[lib]) :\n",
       "        new Promise(function(resolve, reject) {\n",
       "          var s = document.createElement('script');\n",
       "          document.getElementsByTagName(\"head\")[0].appendChild(s);\n",
       "          s.async = true;\n",
       "          s.onload = () => {\n",
       "            VEGA_DEBUG[key] = version;\n",
       "            return resolve(paths[lib]);\n",
       "          };\n",
       "          s.onerror = () => reject(`Error loading script: ${paths[lib]}`);\n",
       "          s.src = paths[lib];\n",
       "        });\n",
       "    }\n",
       "\n",
       "    function showError(err) {\n",
       "      outputDiv.innerHTML = `<div class=\"error\" style=\"color:red;\">${err}</div>`;\n",
       "      throw err;\n",
       "    }\n",
       "\n",
       "    function displayChart(vegaEmbed) {\n",
       "      vegaEmbed(outputDiv, spec, embedOpt)\n",
       "        .catch(err => showError(`Javascript Error: ${err.message}<br>This usually means there's a typo in your chart specification. See the javascript console for the full traceback.`));\n",
       "    }\n",
       "\n",
       "    if(typeof define === \"function\" && define.amd) {\n",
       "      requirejs.config({paths});\n",
       "      require([\"vega-embed\"], displayChart, err => showError(`Error loading script: ${err.message}`));\n",
       "    } else {\n",
       "      maybeLoadScript(\"vega\", \"5\")\n",
       "        .then(() => maybeLoadScript(\"vega-lite\", \"4.17.0\"))\n",
       "        .then(() => maybeLoadScript(\"vega-embed\", \"6\"))\n",
       "        .catch(showError)\n",
       "        .then(() => displayChart(vegaEmbed));\n",
       "    }\n",
       "  })({\"config\": {\"view\": {\"continuousWidth\": 400, \"continuousHeight\": 300}}, \"hconcat\": [{\"layer\": [{\"mark\": \"line\", \"encoding\": {\"tooltip\": [{\"field\": \"year\", \"title\": \"Year\", \"type\": \"quantitative\"}, {\"field\": \"value\", \"title\": \"NDVI Value\", \"type\": \"quantitative\"}], \"x\": {\"field\": \"year\", \"title\": null, \"type\": \"nominal\"}, \"y\": {\"field\": \"value\", \"title\": \"NDVI (1.0 to -1.0)\", \"type\": \"quantitative\"}}, \"height\": 200, \"title\": {\"text\": \"Capilano Watershed\", \"anchor\": \"middle\", \"fontSize\": 14, \"fontWeight\": \"bold\", \"subtitle\": \"Watershed Average NDVI Values\"}, \"width\": 300}, {\"mark\": \"circle\", \"encoding\": {\"tooltip\": [{\"field\": \"year\", \"title\": \"Year\", \"type\": \"quantitative\"}, {\"field\": \"value\", \"title\": \"NDVI Value\", \"type\": \"quantitative\"}], \"x\": {\"field\": \"year\", \"title\": null, \"type\": \"nominal\"}, \"y\": {\"field\": \"value\", \"title\": \"NDVI (1.0 to -1.0)\", \"type\": \"quantitative\"}}, \"height\": 200, \"title\": {\"text\": \"Capilano Watershed\", \"anchor\": \"middle\", \"fontSize\": 14, \"fontWeight\": \"bold\", \"subtitle\": \"Watershed Average NDVI Values\"}, \"width\": 300}], \"data\": {\"name\": \"data-309b660b0f4b8359f49919fa757468a5\"}}, {\"layer\": [{\"mark\": \"line\", \"encoding\": {\"color\": {\"field\": \"point\", \"title\": \"Point\", \"type\": \"nominal\"}, \"x\": {\"field\": \"year\", \"title\": null, \"type\": \"nominal\"}, \"y\": {\"field\": \"value\", \"title\": \"NDVI (1.0 to -1.0)\", \"type\": \"quantitative\"}}, \"height\": 200, \"title\": {\"text\": \"Capilano Watershed\", \"anchor\": \"middle\", \"fontSize\": 14, \"fontWeight\": \"bold\", \"subtitle\": \"NDVI Values - Points\"}, \"width\": 300}, {\"mark\": \"circle\", \"encoding\": {\"color\": {\"field\": \"point\", \"title\": \"Point\", \"type\": \"nominal\"}, \"x\": {\"field\": \"year\", \"title\": null, \"type\": \"nominal\"}, \"y\": {\"field\": \"value\", \"title\": \"NDVI (1.0 to -1.0)\", \"type\": \"quantitative\"}}, \"height\": 200, \"title\": {\"text\": \"Capilano Watershed\", \"anchor\": \"middle\", \"fontSize\": 14, \"fontWeight\": \"bold\", \"subtitle\": \"NDVI Values - Points\"}, \"width\": 300}], \"data\": {\"name\": \"data-54b45caf02e9f3bbe054972064813307\"}}], \"$schema\": \"https://vega.github.io/schema/vega-lite/v4.17.0.json\", \"datasets\": {\"data-309b660b0f4b8359f49919fa757468a5\": [{\"year\": 2018, \"value\": 0.83}, {\"year\": 2019, \"value\": 0.796}, {\"year\": 2020, \"value\": 0.804}, {\"year\": 2021, \"value\": 0.799}, {\"year\": 2022, \"value\": 0.514}, {\"year\": 2023, \"value\": 0.456}], \"data-54b45caf02e9f3bbe054972064813307\": [{\"date\": \"2018-08-15T00:00:00\", \"value\": 0.852, \"point\": \"Point1\", \"year\": 2018}, {\"date\": \"2019-08-15T00:00:00\", \"value\": 0.849, \"point\": \"Point1\", \"year\": 2019}, {\"date\": \"2020-07-30T00:00:00\", \"value\": 0.723, \"point\": \"Point1\", \"year\": 2020}, {\"date\": \"2021-07-29T00:00:00\", \"value\": 0.477, \"point\": \"Point1\", \"year\": 2021}, {\"date\": \"2022-08-16T00:00:00\", \"value\": 0.475, \"point\": \"Point1\", \"year\": 2022}, {\"date\": \"2023-08-13T00:00:00\", \"value\": 0.296, \"point\": \"Point1\", \"year\": 2023}, {\"date\": \"2018-08-15T00:00:00\", \"value\": 0.899, \"point\": \"Point2\", \"year\": 2018}, {\"date\": \"2019-08-15T00:00:00\", \"value\": 0.865, \"point\": \"Point2\", \"year\": 2019}, {\"date\": \"2020-07-30T00:00:00\", \"value\": 0.801, \"point\": \"Point2\", \"year\": 2020}, {\"date\": \"2021-07-29T00:00:00\", \"value\": 0.457, \"point\": \"Point2\", \"year\": 2021}, {\"date\": \"2022-08-16T00:00:00\", \"value\": 0.427, \"point\": \"Point2\", \"year\": 2022}, {\"date\": \"2023-08-13T00:00:00\", \"value\": 0.441, \"point\": \"Point2\", \"year\": 2023}, {\"date\": \"2018-08-15T00:00:00\", \"value\": 0.875, \"point\": \"Point3\", \"year\": 2018}, {\"date\": \"2019-08-15T00:00:00\", \"value\": 0.882, \"point\": \"Point3\", \"year\": 2019}, {\"date\": \"2020-07-30T00:00:00\", \"value\": 0.862, \"point\": \"Point3\", \"year\": 2020}, {\"date\": \"2021-07-29T00:00:00\", \"value\": 0.91, \"point\": \"Point3\", \"year\": 2021}, {\"date\": \"2022-08-16T00:00:00\", \"value\": 0.567, \"point\": \"Point3\", \"year\": 2022}, {\"date\": \"2023-08-13T00:00:00\", \"value\": 0.56, \"point\": \"Point3\", \"year\": 2023}]}}, {\"mode\": \"vega-lite\"});\n",
       "</script>"
      ],
      "text/plain": [
       "alt.HConcatChart(...)"
      ]
     },
     "execution_count": 9,
     "metadata": {},
     "output_type": "execute_result"
    }
   ],
   "source": [
    "combined = ndvi_change_plot | ndvi_plot\n",
    "combined"
   ]
  },
  {
   "cell_type": "code",
   "execution_count": null,
   "id": "f2883d87-c071-49e6-8f9d-dd34e53ca1a1",
   "metadata": {},
   "outputs": [],
   "source": []
  },
  {
   "cell_type": "code",
   "execution_count": null,
   "id": "4f1d90b0-e20d-4d45-97ce-d2a30e38a377",
   "metadata": {},
   "outputs": [],
   "source": []
  }
 ],
 "metadata": {
  "kernelspec": {
   "display_name": "Python 3 (ipykernel)",
   "language": "python",
   "name": "python3"
  },
  "language_info": {
   "codemirror_mode": {
    "name": "ipython",
    "version": 3
   },
   "file_extension": ".py",
   "mimetype": "text/x-python",
   "name": "python",
   "nbconvert_exporter": "python",
   "pygments_lexer": "ipython3",
   "version": "3.9.12"
  }
 },
 "nbformat": 4,
 "nbformat_minor": 5
}