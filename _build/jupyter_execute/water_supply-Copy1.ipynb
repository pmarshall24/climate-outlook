{
 "cells": [
  {
   "cell_type": "markdown",
   "id": "0a832ca4-0e81-48b5-a364-961cd19b5abd",
   "metadata": {},
   "source": [
    "# Snowpack Conditions\n",
    "\n",
    "This section describes the seasonal snowpack conditions in the watersheds. It will be updated throughout the winter season. "
   ]
  },
  {
   "cell_type": "code",
   "execution_count": 1,
   "id": "deb43cf5-90b5-43ce-af35-738567d89edc",
   "metadata": {
    "tags": [
     "remove-cell"
    ]
   },
   "outputs": [],
   "source": [
    "# Import libraries\n",
    "import pandas as pd\n",
    "import os\n",
    "import numpy as np\n",
    "import matplotlib.pyplot as plt\n",
    "import altair as alt\n",
    "import altair_saver "
   ]
  },
  {
   "cell_type": "code",
   "execution_count": 2,
   "id": "ec9f8e90-e048-404d-90ee-7aa45cabb75c",
   "metadata": {
    "tags": [
     "remove-cell"
    ]
   },
   "outputs": [
    {
     "data": {
      "text/plain": [
       "'C:\\\\Users\\\\pmarshal\\\\Documents\\\\Climate-Outlook\\\\monthly-climate'"
      ]
     },
     "execution_count": 2,
     "metadata": {},
     "output_type": "execute_result"
    }
   ],
   "source": [
    "\n",
    "os.chdir('C://Users/pmarshal/Documents/Climate-Outlook/monthly-climate')\n",
    "os.getcwd()"
   ]
  },
  {
   "cell_type": "markdown",
   "id": "739b0957-24bd-49b5-9cdc-1ef7d24f5322",
   "metadata": {},
   "source": [
    "## 2023-2024 Snow Summary\n",
    "\n",
    "Higher terrain in the watersheds were blanketed in early season snow on October 25-26 as a low pressure system off the Pacific clashed with a surge of Arctic air from the north. The front side (near the ski areas) received 30-40 cm of snow, with less snow further north. Most of this snow had melted by the end of October. "
   ]
  },
  {
   "cell_type": "markdown",
   "id": "c671e6f6-3973-4543-9112-7d0f0e7f753d",
   "metadata": {},
   "source": [
    "```{figure} img/Orchid_lake_Snow.jpg\n",
    "---\n",
    "name: orchid_snow\n",
    "---\n",
    "Fresh snow at Orchid Lake (1200m) on October 25\n",
    "```"
   ]
  },
  {
   "cell_type": "code",
   "execution_count": 3,
   "id": "d2929903-3458-4050-81f4-90703986bf69",
   "metadata": {
    "tags": [
     "remove-cell"
    ]
   },
   "outputs": [],
   "source": [
    "snow = pd.read_csv('data/snowpack.csv', parse_dates=['date']) \n",
    "snow['year'] = pd.DatetimeIndex(snow['date']).year"
   ]
  },
  {
   "cell_type": "code",
   "execution_count": 4,
   "id": "e76aa266-f5c5-45be-899b-efc4e2689b00",
   "metadata": {
    "tags": [
     "remove-input"
    ]
   },
   "outputs": [
    {
     "data": {
      "text/html": [
       "\n",
       "<div id=\"altair-viz-c776a414e8574d6683eb7e5ce504c583\"></div>\n",
       "<script type=\"text/javascript\">\n",
       "  var VEGA_DEBUG = (typeof VEGA_DEBUG == \"undefined\") ? {} : VEGA_DEBUG;\n",
       "  (function(spec, embedOpt){\n",
       "    let outputDiv = document.currentScript.previousElementSibling;\n",
       "    if (outputDiv.id !== \"altair-viz-c776a414e8574d6683eb7e5ce504c583\") {\n",
       "      outputDiv = document.getElementById(\"altair-viz-c776a414e8574d6683eb7e5ce504c583\");\n",
       "    }\n",
       "    const paths = {\n",
       "      \"vega\": \"https://cdn.jsdelivr.net/npm//vega@5?noext\",\n",
       "      \"vega-lib\": \"https://cdn.jsdelivr.net/npm//vega-lib?noext\",\n",
       "      \"vega-lite\": \"https://cdn.jsdelivr.net/npm//vega-lite@4.17.0?noext\",\n",
       "      \"vega-embed\": \"https://cdn.jsdelivr.net/npm//vega-embed@6?noext\",\n",
       "    };\n",
       "\n",
       "    function maybeLoadScript(lib, version) {\n",
       "      var key = `${lib.replace(\"-\", \"\")}_version`;\n",
       "      return (VEGA_DEBUG[key] == version) ?\n",
       "        Promise.resolve(paths[lib]) :\n",
       "        new Promise(function(resolve, reject) {\n",
       "          var s = document.createElement('script');\n",
       "          document.getElementsByTagName(\"head\")[0].appendChild(s);\n",
       "          s.async = true;\n",
       "          s.onload = () => {\n",
       "            VEGA_DEBUG[key] = version;\n",
       "            return resolve(paths[lib]);\n",
       "          };\n",
       "          s.onerror = () => reject(`Error loading script: ${paths[lib]}`);\n",
       "          s.src = paths[lib];\n",
       "        });\n",
       "    }\n",
       "\n",
       "    function showError(err) {\n",
       "      outputDiv.innerHTML = `<div class=\"error\" style=\"color:red;\">${err}</div>`;\n",
       "      throw err;\n",
       "    }\n",
       "\n",
       "    function displayChart(vegaEmbed) {\n",
       "      vegaEmbed(outputDiv, spec, embedOpt)\n",
       "        .catch(err => showError(`Javascript Error: ${err.message}<br>This usually means there's a typo in your chart specification. See the javascript console for the full traceback.`));\n",
       "    }\n",
       "\n",
       "    if(typeof define === \"function\" && define.amd) {\n",
       "      requirejs.config({paths});\n",
       "      require([\"vega-embed\"], displayChart, err => showError(`Error loading script: ${err.message}`));\n",
       "    } else {\n",
       "      maybeLoadScript(\"vega\", \"5\")\n",
       "        .then(() => maybeLoadScript(\"vega-lite\", \"4.17.0\"))\n",
       "        .then(() => maybeLoadScript(\"vega-embed\", \"6\"))\n",
       "        .catch(showError)\n",
       "        .then(() => displayChart(vegaEmbed));\n",
       "    }\n",
       "  })({\"config\": {\"view\": {\"continuousWidth\": 400, \"continuousHeight\": 300}}, \"data\": {\"name\": \"data-4f7efad1a3e188356dbd2b9bb8ecfcfa\"}, \"mark\": \"line\", \"encoding\": {\"color\": {\"field\": \"year\", \"title\": \"Year\", \"type\": \"ordinal\"}, \"x\": {\"field\": \"date\", \"timeUnit\": \"monthdate\", \"title\": null, \"type\": \"temporal\"}, \"y\": {\"field\": \"percent_norm\", \"title\": \"Percent of Normal\", \"type\": \"quantitative\"}}, \"title\": \"Snowpack - Percent of Normal in 2022 and 2023\", \"width\": 600, \"$schema\": \"https://vega.github.io/schema/vega-lite/v4.17.0.json\", \"datasets\": {\"data-4f7efad1a3e188356dbd2b9bb8ecfcfa\": [{\"date\": \"2022-01-01T00:00:00\", \"percent_norm\": 111, \"year\": 2022}, {\"date\": \"2022-01-15T00:00:00\", \"percent_norm\": 114, \"year\": 2022}, {\"date\": \"2022-02-01T00:00:00\", \"percent_norm\": 117, \"year\": 2022}, {\"date\": \"2022-02-15T00:00:00\", \"percent_norm\": 112, \"year\": 2022}, {\"date\": \"2022-03-01T00:00:00\", \"percent_norm\": 107, \"year\": 2022}, {\"date\": \"2022-03-15T00:00:00\", \"percent_norm\": 105, \"year\": 2022}, {\"date\": \"2022-04-01T00:00:00\", \"percent_norm\": 102, \"year\": 2022}, {\"date\": \"2022-04-15T00:00:00\", \"percent_norm\": 110, \"year\": 2022}, {\"date\": \"2022-05-01T00:00:00\", \"percent_norm\": 120, \"year\": 2022}, {\"date\": \"2022-05-15T00:00:00\", \"percent_norm\": 136, \"year\": 2022}, {\"date\": \"2022-06-01T00:00:00\", \"percent_norm\": 163, \"year\": 2022}, {\"date\": \"2022-06-15T00:00:00\", \"percent_norm\": 183, \"year\": 2022}, {\"date\": \"2023-01-01T00:00:00\", \"percent_norm\": 70, \"year\": 2023}, {\"date\": \"2023-01-15T00:00:00\", \"percent_norm\": 72, \"year\": 2023}, {\"date\": \"2023-02-01T00:00:00\", \"percent_norm\": 73, \"year\": 2023}, {\"date\": \"2023-02-15T00:00:00\", \"percent_norm\": 73, \"year\": 2023}, {\"date\": \"2023-03-01T00:00:00\", \"percent_norm\": 73, \"year\": 2023}, {\"date\": \"2023-03-15T00:00:00\", \"percent_norm\": 77, \"year\": 2023}, {\"date\": \"2023-04-01T00:00:00\", \"percent_norm\": 80, \"year\": 2023}, {\"date\": \"2023-04-15T00:00:00\", \"percent_norm\": 95, \"year\": 2023}, {\"date\": \"2023-05-01T00:00:00\", \"percent_norm\": 99, \"year\": 2023}, {\"date\": \"2023-05-15T00:00:00\", \"percent_norm\": 84, \"year\": 2023}, {\"date\": \"2023-06-01T00:00:00\", \"percent_norm\": 62, \"year\": 2023}, {\"date\": \"2023-06-15T00:00:00\", \"percent_norm\": 30, \"year\": 2023}]}}, {\"mode\": \"vega-lite\"});\n",
       "</script>"
      ],
      "text/plain": [
       "alt.Chart(...)"
      ]
     },
     "execution_count": 4,
     "metadata": {},
     "output_type": "execute_result"
    }
   ],
   "source": [
    "snowpack = alt.Chart(snow).mark_line().encode(\n",
    "    alt.X('monthdate(date):T', title=None),\n",
    "    alt.Y('percent_norm:Q', title='Percent of Normal'),\n",
    "    alt.Color('year:O', title='Year')\n",
    ").properties(title='Snowpack - Percent of Normal in 2022 and 2023', width=600)\n",
    "snowpack"
   ]
  },
  {
   "cell_type": "markdown",
   "id": "6d8f53e9-16a0-4eb9-b851-21cda17e5380",
   "metadata": {},
   "source": [
    "Below is a short clip showing the snowpack rapidly melting this past spring. It shows a daily image from the Orchid Lake weather station (Seymour Watershed) from April 24 until June 29. The snow depth was 430 cm on April 24, and had completely disappeared by the end of June.  \n",
    "\n",
    "\n",
    "```{figure} img/orchid_lake.gif\n",
    ":name: orchid\n",
    "\n",
    "Disappearing Snow (Orchid Lake satellite camera)\n",
    "```\n"
   ]
  }
 ],
 "metadata": {
  "kernelspec": {
   "display_name": "Python 3 (ipykernel)",
   "language": "python",
   "name": "python3"
  },
  "language_info": {
   "codemirror_mode": {
    "name": "ipython",
    "version": 3
   },
   "file_extension": ".py",
   "mimetype": "text/x-python",
   "name": "python",
   "nbconvert_exporter": "python",
   "pygments_lexer": "ipython3",
   "version": "3.9.12"
  }
 },
 "nbformat": 4,
 "nbformat_minor": 5
}