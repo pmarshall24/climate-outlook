{
 "cells": [
  {
   "cell_type": "code",
   "execution_count": 1,
   "id": "8b4da46c-735a-4af8-bdf6-4f28fcba0ea0",
   "metadata": {},
   "outputs": [],
   "source": [
    "# Import libraries\n",
    "import pandas as pd\n",
    "import os\n",
    "import numpy as np\n",
    "import matplotlib.pyplot as plt\n",
    "import altair as alt"
   ]
  },
  {
   "cell_type": "code",
   "execution_count": 2,
   "id": "f66208d9-d4a3-4b86-893a-3436e6629716",
   "metadata": {},
   "outputs": [
    {
     "data": {
      "text/plain": [
       "'C:\\\\Users\\\\pmarshal\\\\Documents\\\\ET_model'"
      ]
     },
     "execution_count": 2,
     "metadata": {},
     "output_type": "execute_result"
    }
   ],
   "source": [
    "os.chdir('C://Users/pmarshal/Documents/ET_model')\n",
    "os.getcwd()"
   ]
  },
  {
   "cell_type": "code",
   "execution_count": 3,
   "id": "9e844297-0aca-431e-a219-c4a12afa3c35",
   "metadata": {},
   "outputs": [
    {
     "name": "stdout",
     "output_type": "stream",
     "text": [
      "<class 'pandas.core.frame.DataFrame'>\n",
      "DatetimeIndex: 158736 entries, 2002-09-11 00:00:00 to 2020-10-19 23:00:00\n",
      "Data columns (total 1 columns):\n",
      " #   Column  Non-Null Count   Dtype  \n",
      "---  ------  --------------   -----  \n",
      " 0   pc      157121 non-null  float64\n",
      "dtypes: float64(1)\n",
      "memory usage: 2.4 MB\n"
     ]
    }
   ],
   "source": [
    "# Import dataset\n",
    "qd_ta = pd.read_csv('cap_QD1_temp.csv', parse_dates=['datetime']) \n",
    "qd_ta.set_index('datetime', inplace=True)\n",
    "qd_pc = pd.read_csv('cap_QD1_pc.csv', parse_dates=['datetime'])\n",
    "qd_pc.set_index('datetime', inplace=True)\n",
    "qd_pc.info()"
   ]
  },
  {
   "cell_type": "code",
   "execution_count": 4,
   "id": "6ccd02f8-ea5d-424d-9b5f-873cd686df86",
   "metadata": {},
   "outputs": [
    {
     "name": "stdout",
     "output_type": "stream",
     "text": [
      "<class 'pandas.core.frame.DataFrame'>\n",
      "DatetimeIndex: 157762 entries, 2002-09-11 01:00:00 to 2020-10-19 23:00:00\n",
      "Data columns (total 1 columns):\n",
      " #   Column  Non-Null Count   Dtype  \n",
      "---  ------  --------------   -----  \n",
      " 0   temp    157762 non-null  float64\n",
      "dtypes: float64(1)\n",
      "memory usage: 2.4 MB\n"
     ]
    }
   ],
   "source": [
    "qd_ta.info()"
   ]
  },
  {
   "cell_type": "code",
   "execution_count": 5,
   "id": "b7dd4032-ec27-4896-b885-ab81cc0bf5f7",
   "metadata": {},
   "outputs": [
    {
     "name": "stdout",
     "output_type": "stream",
     "text": [
      "<class 'pandas.core.frame.DataFrame'>\n",
      "DatetimeIndex: 157255 entries, 2002-09-11 01:00:00 to 2020-10-19 23:00:00\n",
      "Data columns (total 1 columns):\n",
      " #   Column  Non-Null Count   Dtype  \n",
      "---  ------  --------------   -----  \n",
      " 0   wspd    157255 non-null  float64\n",
      "dtypes: float64(1)\n",
      "memory usage: 2.4 MB\n"
     ]
    }
   ],
   "source": [
    "# Import dataset\n",
    "qd_rh = pd.read_csv('cap_QD1_rh.csv', parse_dates=['datetime']) \n",
    "qd_rh.set_index('datetime', inplace=True)\n",
    "qd_us = pd.read_csv('cap_QD1_us.csv', parse_dates=['datetime'])\n",
    "qd_us.set_index('datetime', inplace=True)\n",
    "qd_us.info()"
   ]
  },
  {
   "cell_type": "code",
   "execution_count": 6,
   "id": "292b83de-cdbc-434f-8f63-e0a2ac4f8857",
   "metadata": {},
   "outputs": [
    {
     "name": "stdout",
     "output_type": "stream",
     "text": [
      "<class 'pandas.core.frame.DataFrame'>\n",
      "DatetimeIndex: 157255 entries, 2002-09-11 01:00:00 to 2020-10-19 23:00:00\n",
      "Data columns (total 1 columns):\n",
      " #   Column  Non-Null Count   Dtype  \n",
      "---  ------  --------------   -----  \n",
      " 0   rh      155574 non-null  float64\n",
      "dtypes: float64(1)\n",
      "memory usage: 2.4 MB\n"
     ]
    }
   ],
   "source": [
    "qd_rh.info()"
   ]
  },
  {
   "cell_type": "code",
   "execution_count": 11,
   "id": "e7a23c5f-110b-4423-9b1f-04ddd8e333b3",
   "metadata": {},
   "outputs": [
    {
     "name": "stdout",
     "output_type": "stream",
     "text": [
      "<class 'pandas.core.frame.DataFrame'>\n",
      "DatetimeIndex: 27191 entries, 2020-10-20 00:00:00 to 2023-12-01 22:00:00\n",
      "Data columns (total 1 columns):\n",
      " #   Column  Non-Null Count  Dtype  \n",
      "---  ------  --------------  -----  \n",
      " 0   ET      27191 non-null  float64\n",
      "dtypes: float64(1)\n",
      "memory usage: 424.9 KB\n"
     ]
    }
   ],
   "source": [
    "qd_et.fillna(0, inplace=True)\n",
    "qd_et.info()"
   ]
  },
  {
   "cell_type": "code",
   "execution_count": 13,
   "id": "1b4f2449-486b-410f-991b-15ba3984316f",
   "metadata": {},
   "outputs": [
    {
     "name": "stdout",
     "output_type": "stream",
     "text": [
      "<class 'pandas.core.frame.DataFrame'>\n",
      "DatetimeIndex: 27141 entries, 2020-10-20 00:00:00 to 2023-12-01 23:00:00\n",
      "Data columns (total 1 columns):\n",
      " #   Column  Non-Null Count  Dtype  \n",
      "---  ------  --------------  -----  \n",
      " 0   temp    27141 non-null  float64\n",
      "dtypes: float64(1)\n",
      "memory usage: 424.1 KB\n"
     ]
    }
   ],
   "source": [
    "qd_ta.interpolate(method='linear', inplace=True, limit=12, limit_direction='both')\n",
    "qd_ta.info()"
   ]
  },
  {
   "cell_type": "code",
   "execution_count": 8,
   "id": "f3772bf7-e44a-4f49-9fd6-828cd04c49c1",
   "metadata": {},
   "outputs": [
    {
     "name": "stdout",
     "output_type": "stream",
     "text": [
      "<class 'pandas.core.frame.DataFrame'>\n",
      "DatetimeIndex: 158993 entries, 2002-09-11 00:00:00 to 2020-10-19 23:00:00\n",
      "Data columns (total 4 columns):\n",
      " #   Column  Non-Null Count   Dtype  \n",
      "---  ------  --------------   -----  \n",
      " 0   temp    158014 non-null  float64\n",
      " 1   pc      157375 non-null  float64\n",
      " 2   rh      155828 non-null  float64\n",
      " 3   wspd    157509 non-null  float64\n",
      "dtypes: float64(4)\n",
      "memory usage: 6.1 MB\n"
     ]
    }
   ],
   "source": [
    "# Example merging two dataframes (replace with your dataframes)\n",
    "qd_ta_pc = qd_ta.merge(qd_pc, how='outer', left_index=True, right_index=True)\n",
    "qd_ta_pc_rh = qd_ta_pc.merge(qd_rh, how='outer', left_index=True, right_index=True)\n",
    "df_combined = qd_ta_pc_rh.merge(qd_us, how='outer', left_index=True, right_index=True)\n",
    "df_combined.info()"
   ]
  },
  {
   "cell_type": "code",
   "execution_count": 9,
   "id": "f68ed0dc-249e-4a1d-ac8b-c05cf4bfc18f",
   "metadata": {},
   "outputs": [
    {
     "data": {
      "text/html": [
       "<div>\n",
       "<style scoped>\n",
       "    .dataframe tbody tr th:only-of-type {\n",
       "        vertical-align: middle;\n",
       "    }\n",
       "\n",
       "    .dataframe tbody tr th {\n",
       "        vertical-align: top;\n",
       "    }\n",
       "\n",
       "    .dataframe thead th {\n",
       "        text-align: right;\n",
       "    }\n",
       "</style>\n",
       "<table border=\"1\" class=\"dataframe\">\n",
       "  <thead>\n",
       "    <tr style=\"text-align: right;\">\n",
       "      <th></th>\n",
       "      <th>datetime</th>\n",
       "      <th>temp</th>\n",
       "      <th>pc</th>\n",
       "      <th>rh</th>\n",
       "      <th>wspd</th>\n",
       "    </tr>\n",
       "  </thead>\n",
       "  <tbody>\n",
       "    <tr>\n",
       "      <th>0</th>\n",
       "      <td>2002-09-11 00:00:00</td>\n",
       "      <td>NaN</td>\n",
       "      <td>0.0</td>\n",
       "      <td>NaN</td>\n",
       "      <td>NaN</td>\n",
       "    </tr>\n",
       "    <tr>\n",
       "      <th>1</th>\n",
       "      <td>2002-09-11 01:00:00</td>\n",
       "      <td>13.4</td>\n",
       "      <td>0.0</td>\n",
       "      <td>91.0</td>\n",
       "      <td>3.1</td>\n",
       "    </tr>\n",
       "    <tr>\n",
       "      <th>2</th>\n",
       "      <td>2002-09-11 02:00:00</td>\n",
       "      <td>13.3</td>\n",
       "      <td>0.0</td>\n",
       "      <td>90.0</td>\n",
       "      <td>2.6</td>\n",
       "    </tr>\n",
       "    <tr>\n",
       "      <th>3</th>\n",
       "      <td>2002-09-11 03:00:00</td>\n",
       "      <td>13.2</td>\n",
       "      <td>0.0</td>\n",
       "      <td>91.0</td>\n",
       "      <td>3.1</td>\n",
       "    </tr>\n",
       "    <tr>\n",
       "      <th>4</th>\n",
       "      <td>2002-09-11 04:00:00</td>\n",
       "      <td>13.0</td>\n",
       "      <td>0.0</td>\n",
       "      <td>91.0</td>\n",
       "      <td>2.8</td>\n",
       "    </tr>\n",
       "  </tbody>\n",
       "</table>\n",
       "</div>"
      ],
      "text/plain": [
       "             datetime  temp   pc    rh  wspd\n",
       "0 2002-09-11 00:00:00   NaN  0.0   NaN   NaN\n",
       "1 2002-09-11 01:00:00  13.4  0.0  91.0   3.1\n",
       "2 2002-09-11 02:00:00  13.3  0.0  90.0   2.6\n",
       "3 2002-09-11 03:00:00  13.2  0.0  91.0   3.1\n",
       "4 2002-09-11 04:00:00  13.0  0.0  91.0   2.8"
      ]
     },
     "execution_count": 9,
     "metadata": {},
     "output_type": "execute_result"
    }
   ],
   "source": [
    "df_combined.reset_index(inplace=True)\n",
    "df_combined.head()"
   ]
  },
  {
   "cell_type": "code",
   "execution_count": 10,
   "id": "5a8f3659-500a-4691-b21e-502ee143bbe3",
   "metadata": {},
   "outputs": [],
   "source": [
    "df_combined.to_csv('qd1_combined.csv', index=False)"
   ]
  },
  {
   "cell_type": "code",
   "execution_count": null,
   "id": "4f4fedbb-33e5-45b7-b320-6d4d39e796bb",
   "metadata": {},
   "outputs": [],
   "source": []
  }
 ],
 "metadata": {
  "kernelspec": {
   "display_name": "Python 3 (ipykernel)",
   "language": "python",
   "name": "python3"
  },
  "language_info": {
   "codemirror_mode": {
    "name": "ipython",
    "version": 3
   },
   "file_extension": ".py",
   "mimetype": "text/x-python",
   "name": "python",
   "nbconvert_exporter": "python",
   "pygments_lexer": "ipython3",
   "version": "3.9.12"
  }
 },
 "nbformat": 4,
 "nbformat_minor": 5
}
