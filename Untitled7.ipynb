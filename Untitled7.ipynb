{
 "cells": [
  {
   "cell_type": "code",
   "execution_count": 4,
   "id": "5db0f352-3de4-46b6-9b15-79a5fec8debb",
   "metadata": {},
   "outputs": [],
   "source": [
    "import os\n",
    "import sys\n",
    "import shutil\n",
    "import logging\n",
    "import statistics\n",
    "import tempfile\n",
    "from datetime import datetime, timedelta\n",
    "import rasterio\n",
    "import rasterio.plot\n",
    "import rasterio.merge\n",
    "import matplotlib.pyplot as plt\n",
    "from matplotlib import ticker\n",
    "from matplotlib.dates import DateFormatter\n",
    "from matplotlib.collections import PatchCollection\n",
    "from pyproj import Proj"
   ]
  },
  {
   "cell_type": "code",
   "execution_count": null,
   "id": "a4daacf3-415d-486e-a3d2-f1e4d8c2c39c",
   "metadata": {},
   "outputs": [],
   "source": [
    "# generate watershed map\n",
    "catchments = ['capilano', 'seymour']\n",
    "parameters = ['swe']\n",
    "for parameter in parameters:\n",
    "    outputfile = os.path.join(outputfolder, f'map_{parameter}.png')\n",
    "    rep.watershed_map(api, catchments, parameter, outputfile, width=7, height=7)\n",
    "    rep.insert_image(outputfile, table=0, row=0, col=0, width=5, height=5)"
   ]
  },
  {
   "cell_type": "code",
   "execution_count": null,
   "id": "f8562294-1c79-439f-8a35-6cb90020d6d0",
   "metadata": {},
   "outputs": [],
   "source": [
    "catchment  = 'capilano'\n",
    "parameters = ['swe', 'hs']\n",
    "for i, parameter in enumerate(parameters):\n",
    "    outputfile = os.path.join(outputfolder, f'{catchment}_{parameter}.png')\n",
    "    rep.catchment_graph(api, catchment, parameter, outputfile, width=7, height=3.5)\n",
    "    rep.insert_image(outputfile, table=0, row=i, col=1, width=4.7, height=2.7)"
   ]
  }
 ],
 "metadata": {
  "kernelspec": {
   "display_name": "Python 3 (ipykernel)",
   "language": "python",
   "name": "python3"
  },
  "language_info": {
   "codemirror_mode": {
    "name": "ipython",
    "version": 3
   },
   "file_extension": ".py",
   "mimetype": "text/x-python",
   "name": "python",
   "nbconvert_exporter": "python",
   "pygments_lexer": "ipython3",
   "version": "3.9.12"
  }
 },
 "nbformat": 4,
 "nbformat_minor": 5
}
