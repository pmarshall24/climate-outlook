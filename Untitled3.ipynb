{
 "cells": [
  {
   "cell_type": "code",
   "execution_count": 1,
   "id": "b167a2ac-4520-45d7-ac9f-9c9be38ad008",
   "metadata": {},
   "outputs": [],
   "source": [
    "import os\n",
    "from datetime import datetime, timedelta\n",
    "import shutil"
   ]
  },
  {
   "cell_type": "code",
   "execution_count": 4,
   "id": "22ceda1f-d972-4712-a639-4c69cd532896",
   "metadata": {},
   "outputs": [
    {
     "data": {
      "text/plain": [
       "'C:\\\\Users\\\\pmarshal\\\\Pictures\\\\102RECNX'"
      ]
     },
     "execution_count": 4,
     "metadata": {},
     "output_type": "execute_result"
    }
   ],
   "source": [
    "os.chdir('C://Users/pmarshal/Pictures/102RECNX')\n",
    "os.getcwd()"
   ]
  },
  {
   "cell_type": "code",
   "execution_count": 53,
   "id": "a48b057d-6322-4839-95de-2a9ef3f30fa5",
   "metadata": {},
   "outputs": [],
   "source": [
    "# Function to check if time is overnight\n",
    "def is_overnight(timestamp):\n",
    "    # Convert timestamp to datetime object\n",
    "    dt = datetime.fromtimestamp(timestamp)\n",
    "    # Check if time is between 10 PM and 6 AM\n",
    "    return dt.hour < 8 or dt.hour >= 16"
   ]
  },
  {
   "cell_type": "code",
   "execution_count": 54,
   "id": "4a38611a-8680-4f9e-adea-deeadd78f638",
   "metadata": {},
   "outputs": [],
   "source": [
    "directory = 'C://Users/pmarshal/Pictures/102RECNX'"
   ]
  },
  {
   "cell_type": "code",
   "execution_count": 55,
   "id": "56f938e0-5d3b-45d0-813b-c012997d3e26",
   "metadata": {},
   "outputs": [],
   "source": [
    "# List files in the directory\n",
    "files = os.listdir(directory)\n"
   ]
  },
  {
   "cell_type": "code",
   "execution_count": 56,
   "id": "b1a13b53-1563-4aeb-9fcb-0b0222a38d54",
   "metadata": {},
   "outputs": [],
   "source": [
    "# Filter out photos taken overnight\n",
    "filtered_files = [file for file in files if not is_overnight(os.path.getmtime(os.path.join(directory, file)))]\n"
   ]
  },
  {
   "cell_type": "code",
   "execution_count": 57,
   "id": "001b5fd8-fbc0-4fbe-a128-74f4a5375301",
   "metadata": {},
   "outputs": [],
   "source": [
    "# Directory containing the original photos\n",
    "original_directory = 'C://Users/pmarshal/Pictures/102RECNX'\n",
    "# Directory for the filtered photos\n",
    "filtered_directory = 'C://Users/pmarshal/Pictures/Filtered_Pics2'"
   ]
  },
  {
   "cell_type": "code",
   "execution_count": 58,
   "id": "909fe970-8bb3-4063-82d7-f59a6d67fe56",
   "metadata": {},
   "outputs": [],
   "source": [
    "# Copy filtered files to the new directory\n",
    "for file in filtered_files:\n",
    "    original_path = os.path.join(original_directory, file)\n",
    "    filtered_path = os.path.join(filtered_directory, file)\n",
    "    shutil.copyfile(original_path, filtered_path)"
   ]
  },
  {
   "cell_type": "code",
   "execution_count": 59,
   "id": "7eadf170-1923-4c36-9e22-63bba486c14c",
   "metadata": {},
   "outputs": [],
   "source": [
    "# Function to rename files in a folder\n",
    "def rename_files(folder_path, prefix):\n",
    "    # List all files in the folder\n",
    "    files = os.listdir(folder_path)\n",
    "    # Sort files by their names\n",
    "    files.sort()\n",
    "    # Counter for renaming\n",
    "    i = 1\n",
    "    # Rename each file\n",
    "    for file_name in files:\n",
    "        # Create new file name\n",
    "        new_name = f\"{prefix}{i:05d}.jpg\"  # Assuming files are JPG format, adjust if necessary\n",
    "        # Rename the file\n",
    "        os.rename(os.path.join(folder_path, file_name), os.path.join(folder_path, new_name))\n",
    "        # Increment counter\n",
    "        i += 1"
   ]
  },
  {
   "cell_type": "code",
   "execution_count": 26,
   "id": "94baa632-7fea-47f5-8ce8-709098ad5c1e",
   "metadata": {},
   "outputs": [
    {
     "name": "stdout",
     "output_type": "stream",
     "text": [
      "Files renamed and merged successfully.\n"
     ]
    }
   ],
   "source": [
    "# Paths to the two folders\n",
    "folder1_path = 'C://Users/pmarshal/Pictures/Filtered_Pics'\n",
    "folder2_path = 'C://Users/pmarshal/Pictures/Filtered_Pics2'\n",
    "\n",
    "# Prefixes for the files in each folder\n",
    "prefix1 = 'RCNX'\n",
    "prefix2 = 'RCNX'\n",
    "\n",
    "# Rename files in the first folder\n",
    "rename_files(folder1_path, prefix1)\n",
    "\n",
    "# Rename files in the second folder\n",
    "rename_files(folder2_path, prefix2)\n",
    "\n",
    "# Move files from folder2 to folder1\n",
    "for file_name in os.listdir(folder2_path):\n",
    "    os.rename(os.path.join(folder2_path, file_name), os.path.join(folder1_path, file_name))\n",
    "\n",
    "print(\"Files renamed and merged successfully.\")"
   ]
  },
  {
   "cell_type": "code",
   "execution_count": 27,
   "id": "84013c40-9ee7-484d-b0e0-a0a0e47a512a",
   "metadata": {},
   "outputs": [
    {
     "name": "stdout",
     "output_type": "stream",
     "text": [
      "Files moved and merged successfully.\n"
     ]
    }
   ],
   "source": [
    "# Get the number of files in the first folder to start renaming from\n",
    "starting_index = len(os.listdir(folder1_path))\n",
    "\n",
    "# Move files from folder2 to folder1\n",
    "for index, file_name in enumerate(os.listdir(folder2_path), start=starting_index + 1):\n",
    "    new_name = f\"RCNX{index:05d}.jpg\"\n",
    "    os.rename(os.path.join(folder2_path, file_name), os.path.join(folder1_path, new_name))\n",
    "\n",
    "print(\"Files moved and merged successfully.\")"
   ]
  },
  {
   "cell_type": "code",
   "execution_count": 63,
   "id": "e15ed774-06b2-4620-aa10-43dee5a375a9",
   "metadata": {},
   "outputs": [
    {
     "data": {
      "text/plain": [
       "'C:\\\\Users\\\\pmarshal\\\\Pictures'"
      ]
     },
     "execution_count": 63,
     "metadata": {},
     "output_type": "execute_result"
    }
   ],
   "source": [
    "os.chdir('C://Users/pmarshal/Pictures')\n",
    "os.getcwd()"
   ]
  },
  {
   "cell_type": "code",
   "execution_count": 3,
   "id": "08c21eea-32d9-4df1-9b14-09412a05ec27",
   "metadata": {},
   "outputs": [],
   "source": [
    "folder_path = 'C://Users/pmarshal/Pictures/Filtered_Pics2'\n",
    "\n",
    "# Function to move or copy photos\n",
    "def move_hourly_photos(folder_path):\n",
    "    destination_folder = 'C://Users/pmarshal/Pictures/seymour_river2'  # Update with the actual path to the destination folder\n",
    "    if not os.path.exists(destination_folder):\n",
    "        os.makedirs(destination_folder)\n",
    "\n",
    "    for filename in os.listdir(folder_path):\n",
    "        if filename.endswith(\".jpg\"):  # Adjust file extension as needed\n",
    "            file_path = os.path.join(folder_path, filename)\n",
    "            timestamp = datetime.fromtimestamp(os.path.getmtime(file_path))\n",
    "            if timestamp.minute == 0:\n",
    "                destination_path = os.path.join(destination_folder, filename)\n",
    "                shutil.copyfile(file_path, destination_path)  # Change to shutil.move for moving instead of copying\n",
    "            elif timestamp.minute == 30:\n",
    "                os.remove(file_path)\n",
    "\n",
    "# Call the function\n",
    "move_hourly_photos(folder_path)"
   ]
  },
  {
   "cell_type": "code",
   "execution_count": 32,
   "id": "2e7ce10e-0fc7-4111-abde-7fcc6d2b78c7",
   "metadata": {},
   "outputs": [
    {
     "name": "stdout",
     "output_type": "stream",
     "text": [
      "Collecting exifreadNote: you may need to restart the kernel to use updated packages.\n"
     ]
    },
    {
     "name": "stderr",
     "output_type": "stream",
     "text": [
      "WARNING: Ignoring invalid distribution -andas (c:\\users\\pmarshal\\anaconda3\\lib\\site-packages)\n",
      "WARNING: Ignoring invalid distribution -andas (c:\\users\\pmarshal\\anaconda3\\lib\\site-packages)\n",
      "WARNING: Ignoring invalid distribution -andas (c:\\users\\pmarshal\\anaconda3\\lib\\site-packages)\n",
      "WARNING: Ignoring invalid distribution -andas (c:\\users\\pmarshal\\anaconda3\\lib\\site-packages)\n",
      "WARNING: Ignoring invalid distribution -andas (c:\\users\\pmarshal\\anaconda3\\lib\\site-packages)\n",
      "WARNING: Ignoring invalid distribution -andas (c:\\users\\pmarshal\\anaconda3\\lib\\site-packages)\n",
      "WARNING: Ignoring invalid distribution -andas (c:\\users\\pmarshal\\anaconda3\\lib\\site-packages)\n"
     ]
    },
    {
     "name": "stdout",
     "output_type": "stream",
     "text": [
      "\n",
      "  Downloading ExifRead-3.0.0-py3-none-any.whl (40 kB)\n",
      "Installing collected packages: exifread\n",
      "Successfully installed exifread-3.0.0\n"
     ]
    }
   ],
   "source": [
    "pip install exifread"
   ]
  },
  {
   "cell_type": "code",
   "execution_count": 4,
   "id": "9af24b35-c46e-4be1-86d3-4c4d557429e8",
   "metadata": {},
   "outputs": [],
   "source": [
    "import os\n",
    "import shutil\n",
    "import exifread\n",
    "from datetime import datetime\n",
    "\n",
    "# Path to the 'seymour_river' folder\n",
    "seymour_river_folder = 'C://Users/pmarshal/Pictures/seymour_river2'\n",
    "\n",
    "# Function to move or copy photos\n",
    "def move_hourly_photos(folder_path):\n",
    "    if not os.path.exists(seymour_river_folder):\n",
    "        os.makedirs(seymour_river_folder)\n",
    "\n",
    "    files_to_delete = []\n",
    "\n",
    "    for filename in os.listdir(folder_path):\n",
    "        if filename.endswith(\".jpg\"):  # Adjust file extension as needed\n",
    "            file_path = os.path.join(folder_path, filename)\n",
    "            with open(file_path, 'rb') as f:\n",
    "                tags = exifread.process_file(f, stop_tag='DateTimeOriginal')\n",
    "                if 'EXIF DateTimeOriginal' in tags:\n",
    "                    timestamp = datetime.strptime(str(tags['EXIF DateTimeOriginal']), '%Y:%m:%d %H:%M:%S')\n",
    "                    if timestamp.minute == 0:\n",
    "                        destination_path = os.path.join(seymour_river_folder, filename)\n",
    "                        shutil.copyfile(file_path, destination_path)  # Change to shutil.move for moving instead of copying\n",
    "                    elif timestamp.minute == 30:\n",
    "                        files_to_delete.append(file_path)\n",
    "\n",
    "    # Delete files after iterating through all files\n",
    "    for file_to_delete in files_to_delete:\n",
    "        os.remove(file_to_delete)\n",
    "\n",
    "    # Sort and rename files in the 'seymour_river' folder\n",
    "    sorted_files = sorted(os.listdir(seymour_river_folder), key=lambda x: os.path.getctime(os.path.join(seymour_river_folder, x)))\n",
    "    for index, filename in enumerate(sorted_files, start=1):\n",
    "        os.rename(os.path.join(seymour_river_folder, filename), os.path.join(seymour_river_folder, f\"RCNX{index:05}.jpg\"))\n",
    "\n",
    "# Call the function\n",
    "move_hourly_photos(folder_path)\n",
    "\n"
   ]
  },
  {
   "cell_type": "code",
   "execution_count": 5,
   "id": "4357b77b-d623-4c0b-b960-0786ccf854fe",
   "metadata": {},
   "outputs": [],
   "source": [
    "import os\n",
    "import shutil\n",
    "import exifread\n",
    "from datetime import datetime\n",
    "\n",
    "# Path to your folder of photos\n",
    "folder_path = 'C://Users/pmarshal/Pictures/Filtered_Pics2'\n",
    "\n",
    "# Function to move or copy photos\n",
    "def move_hourly_photos(folder_path):\n",
    "    destination_folder = 'C://Users/pmarshal/Pictures/seymour_river2'  # Update with the actual path to the destination folder\n",
    "    if not os.path.exists(destination_folder):\n",
    "        os.makedirs(destination_folder)\n",
    "\n",
    "    files_to_delete = []\n",
    "\n",
    "    for filename in os.listdir(folder_path):\n",
    "        if filename.endswith(\".jpg\"):  # Adjust file extension as needed\n",
    "            file_path = os.path.join(folder_path, filename)\n",
    "            with open(file_path, 'rb') as f:\n",
    "                tags = exifread.process_file(f, stop_tag='DateTimeOriginal')\n",
    "                if 'EXIF DateTimeOriginal' in tags:\n",
    "                    timestamp = datetime.strptime(str(tags['EXIF DateTimeOriginal']), '%Y:%m:%d %H:%M:%S')\n",
    "                    if timestamp.minute == 0:\n",
    "                        destination_path = os.path.join(destination_folder, filename)\n",
    "                        shutil.copyfile(file_path, destination_path)  # Change to shutil.move for moving instead of copying\n",
    "                    elif timestamp.minute == 30:\n",
    "                        files_to_delete.append(file_path)\n",
    "\n",
    "    # Delete files after iterating through all files\n",
    "    for file_to_delete in files_to_delete:\n",
    "        os.remove(file_to_delete)\n",
    "\n",
    "# Call the function\n",
    "move_hourly_photos(folder_path)\n"
   ]
  },
  {
   "cell_type": "code",
   "execution_count": 69,
   "id": "4b3d3b9c-107a-44ea-8a24-4e546d14b382",
   "metadata": {},
   "outputs": [],
   "source": [
    "# Path to the 'seymour_river' folder\n",
    "seymour_river_folder = 'C://Users/pmarshal/Pictures/seymour_river2'\n",
    "\n",
    "# Function to sort and print filenames with creation date and time\n",
    "def sort_and_print_files(folder_path):\n",
    "    sorted_files = sorted(os.listdir(folder_path), key=lambda x: os.path.getctime(os.path.join(folder_path, x)))\n",
    "    for filename in sorted_files:\n",
    "        file_path = os.path.join(folder_path, filename)\n",
    "        creation_time = os.path.getctime(file_path)\n",
    "        print(f\"Filename: {filename}, Creation Time: {creation_time}\")\n",
    "\n",
    "# Call the function\n",
    "sort_and_print_files(seymour_river_folder)"
   ]
  },
  {
   "cell_type": "code",
   "execution_count": 41,
   "id": "ce3f8df5-f117-4b63-b650-48ec25e6d12a",
   "metadata": {},
   "outputs": [
    {
     "name": "stdout",
     "output_type": "stream",
     "text": [
      "Renamed RCNX00001.jpg to RCNX00001.jpg\n",
      "Renamed RCNX00002.jpg to RCNX00002.jpg\n",
      "Renamed RCNX00003.jpg to RCNX00003.jpg\n",
      "Renamed RCNX00004.jpg to RCNX00004.jpg\n"
     ]
    },
    {
     "ename": "FileExistsError",
     "evalue": "[WinError 183] Cannot create a file when that file already exists: 'C://Users/pmarshal/Pictures/seymour_river\\\\RCNX00006.jpg' -> 'C://Users/pmarshal/Pictures/seymour_river\\\\RCNX00005.jpg'",
     "output_type": "error",
     "traceback": [
      "\u001b[1;31m---------------------------------------------------------------------------\u001b[0m",
      "\u001b[1;31mFileExistsError\u001b[0m                           Traceback (most recent call last)",
      "Input \u001b[1;32mIn [41]\u001b[0m, in \u001b[0;36m<cell line: 12>\u001b[1;34m()\u001b[0m\n\u001b[0;32m      9\u001b[0m         \u001b[38;5;28mprint\u001b[39m(\u001b[38;5;124mf\u001b[39m\u001b[38;5;124m\"\u001b[39m\u001b[38;5;124mRenamed \u001b[39m\u001b[38;5;132;01m{\u001b[39;00mfilename\u001b[38;5;132;01m}\u001b[39;00m\u001b[38;5;124m to \u001b[39m\u001b[38;5;132;01m{\u001b[39;00mnew_filename\u001b[38;5;132;01m}\u001b[39;00m\u001b[38;5;124m\"\u001b[39m)\n\u001b[0;32m     11\u001b[0m \u001b[38;5;66;03m# Call the function\u001b[39;00m\n\u001b[1;32m---> 12\u001b[0m \u001b[43mrename_files_sequentially\u001b[49m\u001b[43m(\u001b[49m\u001b[43mseymour_river_folder\u001b[49m\u001b[43m)\u001b[49m\n",
      "Input \u001b[1;32mIn [41]\u001b[0m, in \u001b[0;36mrename_files_sequentially\u001b[1;34m(folder_path)\u001b[0m\n\u001b[0;32m      6\u001b[0m new_filename \u001b[38;5;241m=\u001b[39m \u001b[38;5;124mf\u001b[39m\u001b[38;5;124m\"\u001b[39m\u001b[38;5;124mRCNX\u001b[39m\u001b[38;5;132;01m{\u001b[39;00mindex\u001b[38;5;132;01m:\u001b[39;00m\u001b[38;5;124m05\u001b[39m\u001b[38;5;132;01m}\u001b[39;00m\u001b[38;5;124m.jpg\u001b[39m\u001b[38;5;124m\"\u001b[39m\n\u001b[0;32m      7\u001b[0m new_path \u001b[38;5;241m=\u001b[39m os\u001b[38;5;241m.\u001b[39mpath\u001b[38;5;241m.\u001b[39mjoin(folder_path, new_filename)\n\u001b[1;32m----> 8\u001b[0m \u001b[43mos\u001b[49m\u001b[38;5;241;43m.\u001b[39;49m\u001b[43mrename\u001b[49m\u001b[43m(\u001b[49m\u001b[43moriginal_path\u001b[49m\u001b[43m,\u001b[49m\u001b[43m \u001b[49m\u001b[43mnew_path\u001b[49m\u001b[43m)\u001b[49m\n\u001b[0;32m      9\u001b[0m \u001b[38;5;28mprint\u001b[39m(\u001b[38;5;124mf\u001b[39m\u001b[38;5;124m\"\u001b[39m\u001b[38;5;124mRenamed \u001b[39m\u001b[38;5;132;01m{\u001b[39;00mfilename\u001b[38;5;132;01m}\u001b[39;00m\u001b[38;5;124m to \u001b[39m\u001b[38;5;132;01m{\u001b[39;00mnew_filename\u001b[38;5;132;01m}\u001b[39;00m\u001b[38;5;124m\"\u001b[39m)\n",
      "\u001b[1;31mFileExistsError\u001b[0m: [WinError 183] Cannot create a file when that file already exists: 'C://Users/pmarshal/Pictures/seymour_river\\\\RCNX00006.jpg' -> 'C://Users/pmarshal/Pictures/seymour_river\\\\RCNX00005.jpg'"
     ]
    }
   ],
   "source": [
    "# Function to rename files sequentially\n",
    "def rename_files_sequentially(folder_path):\n",
    "    sorted_files = sorted(os.listdir(folder_path), key=lambda x: os.path.getctime(os.path.join(folder_path, x)))\n",
    "    for index, filename in enumerate(sorted_files, start=1):\n",
    "        original_path = os.path.join(folder_path, filename)\n",
    "        new_filename = f\"RCNX{index:05}.jpg\"\n",
    "        new_path = os.path.join(folder_path, new_filename)\n",
    "        os.rename(original_path, new_path)\n",
    "        print(f\"Renamed {filename} to {new_filename}\")\n",
    "\n",
    "# Call the function\n",
    "rename_files_sequentially(seymour_river_folder)"
   ]
  },
  {
   "cell_type": "code",
   "execution_count": 8,
   "id": "78b2ba16-9ec1-4cd6-8537-d57c21b33f3b",
   "metadata": {},
   "outputs": [],
   "source": [
    "from moviepy.editor import ImageSequenceClip\n",
    "clip2 = ImageSequenceClip('C://Users/pmarshal/Pictures/seymour_river2', fps=20)"
   ]
  },
  {
   "cell_type": "code",
   "execution_count": 9,
   "id": "453790d0-95a8-4e86-ab8e-07b1fc82ba46",
   "metadata": {},
   "outputs": [
    {
     "data": {
      "text/plain": [
       "<moviepy.video.io.ImageSequenceClip.ImageSequenceClip at 0x19a24d05b80>"
      ]
     },
     "execution_count": 9,
     "metadata": {},
     "output_type": "execute_result"
    }
   ],
   "source": [
    "clip2\n"
   ]
  },
  {
   "cell_type": "code",
   "execution_count": 10,
   "id": "936c7951-dcb5-4514-8a42-1c0fac1d9c97",
   "metadata": {},
   "outputs": [
    {
     "name": "stdout",
     "output_type": "stream",
     "text": [
      "Moviepy - Building video sey_river2.mp4.\n",
      "Moviepy - Writing video sey_river2.mp4\n",
      "\n"
     ]
    },
    {
     "name": "stderr",
     "output_type": "stream",
     "text": [
      "                                                                                                                       \r"
     ]
    },
    {
     "name": "stdout",
     "output_type": "stream",
     "text": [
      "Moviepy - Done !\n",
      "Moviepy - video ready sey_river2.mp4\n"
     ]
    }
   ],
   "source": [
    "clip2.write_videofile(\"sey_river2.mp4\")"
   ]
  },
  {
   "cell_type": "code",
   "execution_count": 11,
   "id": "0f330a92-0491-4865-ac62-9c5a36da5b30",
   "metadata": {},
   "outputs": [
    {
     "data": {
      "text/plain": [
       "'C:\\\\Users\\\\pmarshal\\\\Documents\\\\Climate-Outlook\\\\monthly-climate'"
      ]
     },
     "execution_count": 11,
     "metadata": {},
     "output_type": "execute_result"
    }
   ],
   "source": [
    "os.getcwd()"
   ]
  },
  {
   "cell_type": "code",
   "execution_count": 6,
   "id": "8295b371-1c3b-44ad-b425-ea82e37004cf",
   "metadata": {},
   "outputs": [],
   "source": [
    "import os\n",
    "import shutil\n",
    "import exifread\n",
    "from datetime import datetime\n",
    "\n",
    "# Path to your folder of photos\n",
    "folder_path = 'C://Users/pmarshal/Pictures/Filtered_Pics2'\n",
    "\n",
    "# Function to move or copy photos\n",
    "def move_hourly_photos(folder_path):\n",
    "    destination_folder = 'C://Users/pmarshal/Pictures/seymour_river2'  # Update with the actual path to the destination folder\n",
    "    if not os.path.exists(destination_folder):\n",
    "        os.makedirs(destination_folder)\n",
    "\n",
    "    files_to_delete = []\n",
    "\n",
    "    for filename in os.listdir(folder_path):\n",
    "        if filename.endswith(\".jpg\"):  # Adjust file extension as needed\n",
    "            file_path = os.path.join(folder_path, filename)\n",
    "            with open(file_path, 'rb') as f:\n",
    "                tags = exifread.process_file(f, stop_tag='DateTimeOriginal')\n",
    "                if 'EXIF DateTimeOriginal' in tags:\n",
    "                    timestamp = datetime.strptime(str(tags['EXIF DateTimeOriginal']), '%Y:%m:%d %H:%M:%S')\n",
    "                    if timestamp.minute == 0:\n",
    "                        destination_path = os.path.join(destination_folder, filename)\n",
    "                        shutil.copyfile(file_path, destination_path)  # Change to shutil.move for moving instead of copying\n",
    "                    elif timestamp.minute == 30:\n",
    "                        files_to_delete.append(file_path)\n",
    "\n",
    "    # Delete files after iterating through all files\n",
    "    for file_to_delete in files_to_delete:\n",
    "        os.remove(file_to_delete)\n",
    "\n",
    "# Call the function\n",
    "move_hourly_photos(folder_path)\n"
   ]
  },
  {
   "cell_type": "code",
   "execution_count": 2,
   "id": "44991c83-3546-4e40-a521-29edce289bf3",
   "metadata": {},
   "outputs": [],
   "source": [
    "import os\n",
    "import shutil\n",
    "import exifread\n",
    "from datetime import datetime\n"
   ]
  },
  {
   "cell_type": "code",
   "execution_count": 7,
   "id": "88559ccf-54b9-4ded-b2ac-67b2f6433ee6",
   "metadata": {},
   "outputs": [
    {
     "ename": "PermissionError",
     "evalue": "[WinError 32] The process cannot access the file because it is being used by another process: 'C://Users/pmarshal/Pictures/seymour_river2\\\\RCNX00001.jpg'",
     "output_type": "error",
     "traceback": [
      "\u001b[1;31m---------------------------------------------------------------------------\u001b[0m",
      "\u001b[1;31mPermissionError\u001b[0m                           Traceback (most recent call last)",
      "Input \u001b[1;32mIn [7]\u001b[0m, in \u001b[0;36m<cell line: 20>\u001b[1;34m()\u001b[0m\n\u001b[0;32m     17\u001b[0m                         \u001b[38;5;28mprint\u001b[39m(\u001b[38;5;124mf\u001b[39m\u001b[38;5;124m\"\u001b[39m\u001b[38;5;124mDeleted \u001b[39m\u001b[38;5;132;01m{\u001b[39;00mfilename\u001b[38;5;132;01m}\u001b[39;00m\u001b[38;5;124m\"\u001b[39m)\n\u001b[0;32m     19\u001b[0m \u001b[38;5;66;03m# Call the function\u001b[39;00m\n\u001b[1;32m---> 20\u001b[0m \u001b[43mfilter_and_delete_photos\u001b[49m\u001b[43m(\u001b[49m\u001b[43mfolder_path\u001b[49m\u001b[43m)\u001b[49m\n",
      "Input \u001b[1;32mIn [7]\u001b[0m, in \u001b[0;36mfilter_and_delete_photos\u001b[1;34m(folder_path)\u001b[0m\n\u001b[0;32m     12\u001b[0m timestamp \u001b[38;5;241m=\u001b[39m datetime\u001b[38;5;241m.\u001b[39mstrptime(\u001b[38;5;28mstr\u001b[39m(tags[\u001b[38;5;124m'\u001b[39m\u001b[38;5;124mEXIF DateTimeOriginal\u001b[39m\u001b[38;5;124m'\u001b[39m]), \u001b[38;5;124m'\u001b[39m\u001b[38;5;124m%\u001b[39m\u001b[38;5;124mY:\u001b[39m\u001b[38;5;124m%\u001b[39m\u001b[38;5;124mm:\u001b[39m\u001b[38;5;132;01m%d\u001b[39;00m\u001b[38;5;124m \u001b[39m\u001b[38;5;124m%\u001b[39m\u001b[38;5;124mH:\u001b[39m\u001b[38;5;124m%\u001b[39m\u001b[38;5;124mM:\u001b[39m\u001b[38;5;124m%\u001b[39m\u001b[38;5;124mS\u001b[39m\u001b[38;5;124m'\u001b[39m)\n\u001b[0;32m     13\u001b[0m \u001b[38;5;28;01mif\u001b[39;00m timestamp\u001b[38;5;241m.\u001b[39mminute \u001b[38;5;241m!=\u001b[39m \u001b[38;5;241m0\u001b[39m:\n\u001b[1;32m---> 14\u001b[0m     \u001b[43mos\u001b[49m\u001b[38;5;241;43m.\u001b[39;49m\u001b[43mremove\u001b[49m\u001b[43m(\u001b[49m\u001b[43mfile_path\u001b[49m\u001b[43m)\u001b[49m\n\u001b[0;32m     15\u001b[0m \u001b[38;5;28;01melif\u001b[39;00m timestamp\u001b[38;5;241m.\u001b[39mminute \u001b[38;5;241m==\u001b[39m \u001b[38;5;241m30\u001b[39m:\n\u001b[0;32m     16\u001b[0m     files_to_delete\u001b[38;5;241m.\u001b[39mappend(file_path)\n",
      "\u001b[1;31mPermissionError\u001b[0m: [WinError 32] The process cannot access the file because it is being used by another process: 'C://Users/pmarshal/Pictures/seymour_river2\\\\RCNX00001.jpg'"
     ]
    }
   ],
   "source": [
    "# Path to the folder containing the images\n",
    "folder_path = 'C://Users/pmarshal/Pictures/seymour_river2'\n",
    "\n",
    "# Function to filter and delete photos\n",
    "def filter_and_delete_photos(folder_path):\n",
    "    for filename in os.listdir(folder_path):\n",
    "        if filename.endswith(\".jpg\"):  # Adjust file extension as needed\n",
    "            file_path = os.path.join(folder_path, filename)\n",
    "            with open(file_path, 'rb') as f:\n",
    "                tags = exifread.process_file(f, stop_tag='DateTimeOriginal')\n",
    "                if 'EXIF DateTimeOriginal' in tags:\n",
    "                    timestamp = datetime.strptime(str(tags['EXIF DateTimeOriginal']), '%Y:%m:%d %H:%M:%S')\n",
    "                    if timestamp.minute != 0:\n",
    "                        os.remove(file_path)\n",
    "                    elif timestamp.minute == 30:\n",
    "                        files_to_delete.append(file_path)\n",
    "                        print(f\"Deleted {filename}\")\n",
    "\n",
    "# Call the function\n",
    "filter_and_delete_photos(folder_path)"
   ]
  },
  {
   "cell_type": "code",
   "execution_count": 12,
   "id": "0dd3edab-81b6-4cdc-b2dd-e26f183d5100",
   "metadata": {},
   "outputs": [
    {
     "name": "stdout",
     "output_type": "stream",
     "text": [
      "Moviepy - Building video seymour_flows.mp4.\n",
      "Moviepy - Writing video seymour_flows.mp4\n",
      "\n"
     ]
    },
    {
     "name": "stderr",
     "output_type": "stream",
     "text": [
      "                                                                                                                       \r"
     ]
    },
    {
     "name": "stdout",
     "output_type": "stream",
     "text": [
      "Moviepy - Done !\n",
      "Moviepy - video ready seymour_flows.mp4\n"
     ]
    }
   ],
   "source": [
    "from moviepy.editor import VideoFileClip, concatenate_videoclips\n",
    "\n",
    "# Paths to the video clips\n",
    "clip1_path = 'C://Users/pmarshal/Pictures/sey_river.mp4'\n",
    "clip2_path = 'C://Users/pmarshal/Pictures/sey_river2.mp4'\n",
    "\n",
    "# Load the video clips\n",
    "clip1 = VideoFileClip(clip1_path)\n",
    "clip2 = VideoFileClip(clip2_path)\n",
    "\n",
    "# Concatenate the video clips\n",
    "final_clip = concatenate_videoclips([clip1, clip2])\n",
    "\n",
    "# Write the final video to a file\n",
    "final_clip.write_videofile('seymour_flows.mp4')"
   ]
  },
  {
   "cell_type": "code",
   "execution_count": null,
   "id": "6cb1b82b-2c34-48cd-96de-86390159df75",
   "metadata": {},
   "outputs": [],
   "source": []
  }
 ],
 "metadata": {
  "kernelspec": {
   "display_name": "Python 3 (ipykernel)",
   "language": "python",
   "name": "python3"
  },
  "language_info": {
   "codemirror_mode": {
    "name": "ipython",
    "version": 3
   },
   "file_extension": ".py",
   "mimetype": "text/x-python",
   "name": "python",
   "nbconvert_exporter": "python",
   "pygments_lexer": "ipython3",
   "version": "3.9.12"
  }
 },
 "nbformat": 4,
 "nbformat_minor": 5
}
