{
 "cells": [
  {
   "cell_type": "markdown",
   "id": "e1da4389-1a07-4da9-a994-36f19dd1e62c",
   "metadata": {},
   "source": [
    "# Climate Outlook\n",
    "\n",
    "```{admonition} **Valid for:**\n",
    ":class: attention\n",
    "October-November-December 2023\n",
    "```\n",
    "## Short Range Outlook\n",
    "\n",
    "Let's start off looking at what to expect for the next 10 days. The plots below show forecasted weather parameters for the Grouse Mountain area for October 3-12, 2023. Note, the model elevation at this grid point is only 267 m. This forecast uses the Canadian Global Deterministic Prediction System (GDPS). \n",
    "\n",
    "Conditions should be dry and relatively warm until Oct 9. At this point, the ridge of high pressure breaks down and a strong weather system moves in spreading moderate to heavy rain. Conditions will most likely be cool and unsettled for a few days after this storm. "
   ]
  },
  {
   "cell_type": "code",
   "execution_count": 186,
   "id": "b0de5b85-0708-4df5-8caa-0f4911d3fdcc",
   "metadata": {
    "tags": [
     "remove-cell"
    ]
   },
   "outputs": [],
   "source": [
    "#Import libraries\n",
    "import os\n",
    "import pandas as pd\n",
    "import subprocess\n",
    "import altair as alt\n",
    "import matplotlib.pyplot as plt\n",
    "import numpy as np\n",
    "import json"
   ]
  },
  {
   "cell_type": "code",
   "execution_count": 187,
   "id": "c9f20bf8-bebf-47a2-bdba-e4796331f8ba",
   "metadata": {
    "tags": [
     "remove-cell"
    ]
   },
   "outputs": [
    {
     "data": {
      "text/plain": [
       "'C:\\\\Users\\\\pmarshal\\\\Documents\\\\Climate-Outlook\\\\monthly-climate'"
      ]
     },
     "execution_count": 187,
     "metadata": {},
     "output_type": "execute_result"
    }
   ],
   "source": [
    "os.chdir('C://Users/pmarshal/Documents/Climate-Outlook/monthly-climate')\n",
    "os.getcwd()"
   ]
  },
  {
   "cell_type": "code",
   "execution_count": 188,
   "id": "817d1ffb-cf84-449b-a95f-17b8c6c3a5a0",
   "metadata": {
    "tags": [
     "remove-cell"
    ]
   },
   "outputs": [],
   "source": [
    "# Import dataset\n",
    "meteo = pd.read_csv('data/SpotWxForecast.csv', parse_dates=['DATETIME', 'DATE']) "
   ]
  },
  {
   "cell_type": "code",
   "execution_count": 189,
   "id": "b0eb9835-f752-4b19-9f00-6e860e854d5e",
   "metadata": {
    "tags": [
     "remove-cell"
    ]
   },
   "outputs": [],
   "source": [
    "meteo['PC1'] = meteo['APCP'].diff()\n",
    "meteo['PC1'].fillna(0, inplace=True)\n",
    "meteo = meteo.assign(Zero='0')"
   ]
  },
  {
   "cell_type": "code",
   "execution_count": 190,
   "id": "61ad59b4-d5b4-4d8a-94f6-4b822a49284e",
   "metadata": {
    "tags": [
     "remove-cell"
    ]
   },
   "outputs": [],
   "source": [
    "precip = alt.Chart(meteo).mark_bar(color='green', size=10).encode(\n",
    "    alt.X('DATETIME:T', title=None, axis=alt.Axis(labelAngle=0, format='%e %b')),\n",
    "    alt.Y('PC1:Q', title = '3-hr Precipitation (mm)'),\n",
    "    tooltip=[alt.Tooltip('DATE', title=\"Date\"), alt.Tooltip('TIME', title=\"Time\"), alt.Tooltip('PC1', title=\"3-Hour Precip\")]\n",
    ").properties(width=700, height=130, title='3hr-precip (green bars) and accumulated precip (blue line)')"
   ]
  },
  {
   "cell_type": "code",
   "execution_count": 191,
   "id": "74cc6b68-8cb3-4417-9284-b0fb9fe65b40",
   "metadata": {
    "tags": [
     "remove-cell"
    ]
   },
   "outputs": [],
   "source": [
    "precip_accum = alt.Chart(meteo).mark_line(color='blue', opacity=0.6).encode(\n",
    "    alt.X('DATETIME:T', title=None, axis=alt.Axis(labelAngle=0, format='%e %b')),\n",
    "    alt.Y('APCP:Q', title = 'Accumulated Precip (mm)'),\n",
    "    tooltip=[alt.Tooltip('DATE', title=\"Date\"), alt.Tooltip('TIME', title=\"Time\"), alt.Tooltip('APCP', title=\"Accumulated Precip\")]\n",
    ").properties(width=700, height=130)"
   ]
  },
  {
   "cell_type": "code",
   "execution_count": 192,
   "id": "2f90068f-48b6-44d5-9ff8-42d793558071",
   "metadata": {
    "tags": [
     "remove-cell"
    ]
   },
   "outputs": [],
   "source": [
    "precip_total = (precip + precip_accum).resolve_scale(\n",
    "    y = 'independent'\n",
    ")"
   ]
  },
  {
   "cell_type": "code",
   "execution_count": 193,
   "id": "4394846b-555c-4283-8fa2-f0617b2ad0f7",
   "metadata": {
    "tags": [
     "remove-cell"
    ]
   },
   "outputs": [],
   "source": [
    "title = alt.TitleParams(\n",
    "   text='Grouse Mountain (123.08W, 549.38N, Model elevation: 267m) CAN-GDPS',\n",
    "   subtitle=\"Air temp (red), dew point temp (blue), temp @1500m (red dashed), RH (green dashed)\",\n",
    "   anchor='middle',\n",
    "   fontSize=14,\n",
    "   fontWeight='bold')\n",
    "\n",
    "temp_line = alt.Chart(meteo, title=title).mark_line(color='red', strokeWidth=2).encode(\n",
    "    alt.X('DATETIME:T',  title=None, axis=alt.Axis(labelAngle=0, format='%e %b')),\n",
    "    alt.Y('TMP:Q', title='Temperature (C)'),\n",
    "    tooltip=[alt.Tooltip('DATE', title=\"Date\"), alt.Tooltip('TIME', title=\"Time\"), alt.Tooltip('TMP', title=\"Air Temp\")]\n",
    ").properties(width=700, height=130)\n",
    "\n",
    "dew = alt.Chart(meteo).mark_line(color='blue', strokeWidth=2).encode(\n",
    "    alt.X('DATETIME:T',  title=None, axis=alt.Axis(labelAngle=0, format='%e %b')),\n",
    "    alt.Y('DPT:Q', title='Temperature (C)')\n",
    ").properties(width=700, height=130)\n",
    "\n",
    "zero = alt.Chart(meteo).mark_line(color='gray', strokeWidth=1.5, opacity=0.8, strokeDash=[3,3]).encode(\n",
    "    alt.X('DATETIME:T',  title=None, axis=alt.Axis(labelAngle=0, format='%e %b')),\n",
    "    alt.Y('Zero:Q', title='Temperature (C)')\n",
    ").properties(width=700, height=130)\n",
    "\n",
    "rh = alt.Chart(meteo).mark_line(color='green', strokeWidth=1.5, opacity=0.7, strokeDash=[3,3]).encode(\n",
    "    alt.X('DATETIME:T',  title=None, axis=alt.Axis(labelAngle=0, format='%e %b')),\n",
    "    alt.Y('RH:Q', title='Relative Humidity (%)', scale=alt.Scale(zero=False))\n",
    ").properties(width=700, height=130)\n",
    "\n",
    "temp1500 = alt.Chart(meteo).mark_line(color='darkred', strokeWidth=1.5, opacity=0.7, strokeDash=[4,2]).encode(\n",
    "    alt.X('DATETIME:T',  title=None, axis=alt.Axis(labelAngle=0, format='%e %b')),\n",
    "    alt.Y('TMP850:Q', title='Temperature (C)'),\n",
    "    tooltip=[alt.Tooltip('DATE', title=\"Date\"), alt.Tooltip('TIME', title=\"Time\"), alt.Tooltip('TMP850', title=\"Air Temp\")]\n",
    ").properties(width=700, height=130)\n",
    "\n",
    "area = alt.Chart(meteo).mark_area(color='#F8D223', opacity=0.5).encode(\n",
    "    alt.X('DATETIME:T'),\n",
    "    alt.Y('TMP:Q'),\n",
    "    alt.Y2('DPT:Q')\n",
    ").properties(width=700, height=130)\n",
    "\n",
    "temp1 = temp_line + dew + temp1500 + area +zero\n",
    "\n",
    "temp2 = alt.layer(temp1, rh).resolve_scale(\n",
    "    y='independent'\n",
    ")"
   ]
  },
  {
   "cell_type": "code",
   "execution_count": 194,
   "id": "d7130cc8-5167-40f2-8c00-7020d39909c6",
   "metadata": {
    "tags": [
     "remove-cell"
    ]
   },
   "outputs": [],
   "source": [
    "pressure = alt.Chart(meteo).mark_line(color='red', strokeWidth=1.5, opacity=0.7).encode(\n",
    "    alt.X('DATETIME:T',  title=None, axis=alt.Axis(labelAngle=0, format='%e %b')),\n",
    "    alt.Y('SLP', title='MSLP (mbar)', scale= alt.Scale(zero=False))\n",
    ").properties(width=700, height=130, title='Cloud cover (blue/gray), sea level pressure (red)')\n",
    "\n",
    "cloud_line = alt.Chart(meteo).mark_line(color='blue', strokeWidth=1.5, opacity = 0.7).encode(\n",
    "    alt.X('DATETIME:T',  title=None, axis=alt.Axis(labelAngle=0, format='%e %b')),\n",
    "    alt.Y('CLOUD', title='Cloud Cover (%)')\n",
    ").properties(width=700, height=130)\n",
    "\n",
    "cloud_area = alt.Chart(meteo).mark_area(color='#B4A667', opacity=0.5).encode(\n",
    "    alt.X('DATETIME:T', axis=alt.Axis(labelAngle=0, format='%e %b')),\n",
    "    alt.Y('CLOUD:Q')\n",
    ").properties(width=700, height=130)\n",
    "\n",
    "cloud = cloud_area + cloud_line\n",
    "    \n",
    "cloud_pressure = alt.layer(cloud, pressure).resolve_scale(\n",
    "    y='independent'\n",
    ")\n"
   ]
  },
  {
   "cell_type": "code",
   "execution_count": 195,
   "id": "a943a6e1-b2b4-41c9-9307-49d4f805f9ff",
   "metadata": {
    "tags": [
     "remove-cell"
    ]
   },
   "outputs": [],
   "source": [
    "wind_750 = alt.Chart(meteo).mark_line(color='red', strokeWidth=1.5).encode(\n",
    "    alt.X('DATETIME:T',  title=None, axis=alt.Axis(labelAngle=90, format='%e %b')),\n",
    "    alt.Y('WS925', title='Wind speed (km/h)'),\n",
    "    tooltip=[alt.Tooltip('DATE', title=\"Date\"), alt.Tooltip('TIME', title=\"Time\"), alt.Tooltip('WS925', title=\"Wind Speed (km/h)\"), alt.Tooltip('WD925', title=\"Wind Dir (deg)\")]\n",
    ").properties(width=700, height=130, title='Wind speed at 750m (red) and 1500m (green)')\n",
    "\n",
    "wind_1500 = alt.Chart(meteo).mark_line(color='green', strokeWidth=1.5).encode(\n",
    "    alt.X('DATETIME:T',  title=None, axis=alt.Axis(labelAngle=90, format='%e %b')),\n",
    "    alt.Y('WS850', title='Wind speed (km/h)'),\n",
    "    tooltip=[alt.Tooltip('DATE', title=\"Date\"), alt.Tooltip('TIME', title=\"Time\"), alt.Tooltip('WS850', title=\"Wind Speed (km/h)\"), alt.Tooltip('WD850', title=\"Wind Dir (deg)\")]\n",
    ").properties(width=700, height=130)\n",
    "\n",
    "wind = wind_750 + wind_1500 \n"
   ]
  },
  {
   "cell_type": "code",
   "execution_count": 196,
   "id": "092f1af1-1abf-4120-84f8-43c9214eedc5",
   "metadata": {
    "tags": [
     "remove-input"
    ]
   },
   "outputs": [
    {
     "data": {
      "text/html": [
       "\n",
       "<div id=\"altair-viz-aec757adacf945dba40245c5880acfe3\"></div>\n",
       "<script type=\"text/javascript\">\n",
       "  var VEGA_DEBUG = (typeof VEGA_DEBUG == \"undefined\") ? {} : VEGA_DEBUG;\n",
       "  (function(spec, embedOpt){\n",
       "    let outputDiv = document.currentScript.previousElementSibling;\n",
       "    if (outputDiv.id !== \"altair-viz-aec757adacf945dba40245c5880acfe3\") {\n",
       "      outputDiv = document.getElementById(\"altair-viz-aec757adacf945dba40245c5880acfe3\");\n",
       "    }\n",
       "    const paths = {\n",
       "      \"vega\": \"https://cdn.jsdelivr.net/npm//vega@5?noext\",\n",
       "      \"vega-lib\": \"https://cdn.jsdelivr.net/npm//vega-lib?noext\",\n",
       "      \"vega-lite\": \"https://cdn.jsdelivr.net/npm//vega-lite@4.17.0?noext\",\n",
       "      \"vega-embed\": \"https://cdn.jsdelivr.net/npm//vega-embed@6?noext\",\n",
       "    };\n",
       "\n",
       "    function maybeLoadScript(lib, version) {\n",
       "      var key = `${lib.replace(\"-\", \"\")}_version`;\n",
       "      return (VEGA_DEBUG[key] == version) ?\n",
       "        Promise.resolve(paths[lib]) :\n",
       "        new Promise(function(resolve, reject) {\n",
       "          var s = document.createElement('script');\n",
       "          document.getElementsByTagName(\"head\")[0].appendChild(s);\n",
       "          s.async = true;\n",
       "          s.onload = () => {\n",
       "            VEGA_DEBUG[key] = version;\n",
       "            return resolve(paths[lib]);\n",
       "          };\n",
       "          s.onerror = () => reject(`Error loading script: ${paths[lib]}`);\n",
       "          s.src = paths[lib];\n",
       "        });\n",
       "    }\n",
       "\n",
       "    function showError(err) {\n",
       "      outputDiv.innerHTML = `<div class=\"error\" style=\"color:red;\">${err}</div>`;\n",
       "      throw err;\n",
       "    }\n",
       "\n",
       "    function displayChart(vegaEmbed) {\n",
       "      vegaEmbed(outputDiv, spec, embedOpt)\n",
       "        .catch(err => showError(`Javascript Error: ${err.message}<br>This usually means there's a typo in your chart specification. See the javascript console for the full traceback.`));\n",
       "    }\n",
       "\n",
       "    if(typeof define === \"function\" && define.amd) {\n",
       "      requirejs.config({paths});\n",
       "      require([\"vega-embed\"], displayChart, err => showError(`Error loading script: ${err.message}`));\n",
       "    } else {\n",
       "      maybeLoadScript(\"vega\", \"5\")\n",
       "        .then(() => maybeLoadScript(\"vega-lite\", \"4.17.0\"))\n",
       "        .then(() => maybeLoadScript(\"vega-embed\", \"6\"))\n",
       "        .catch(showError)\n",
       "        .then(() => displayChart(vegaEmbed));\n",
       "    }\n",
       "  })({\"config\": {\"view\": {\"continuousWidth\": 400, \"continuousHeight\": 300}, \"axis\": {\"labelFontSize\": 11, \"titleFontSize\": 12}}, \"vconcat\": [{\"layer\": [{\"layer\": [{\"mark\": {\"type\": \"line\", \"color\": \"red\", \"strokeWidth\": 2}, \"encoding\": {\"tooltip\": [{\"field\": \"DATE\", \"title\": \"Date\", \"type\": \"temporal\"}, {\"field\": \"TIME\", \"title\": \"Time\", \"type\": \"nominal\"}, {\"field\": \"TMP\", \"title\": \"Air Temp\", \"type\": \"quantitative\"}], \"x\": {\"axis\": {\"format\": \"%e %b\", \"labelAngle\": 0}, \"field\": \"DATETIME\", \"title\": null, \"type\": \"temporal\"}, \"y\": {\"field\": \"TMP\", \"title\": \"Temperature (C)\", \"type\": \"quantitative\"}}, \"height\": 130, \"title\": {\"text\": \"Grouse Mountain (123.08W, 549.38N, Model elevation: 267m) CAN-GDPS\", \"anchor\": \"middle\", \"fontSize\": 14, \"fontWeight\": \"bold\", \"subtitle\": \"Air temp (red), dew point temp (blue), temp @1500m (red dashed), RH (green dashed)\"}, \"width\": 700}, {\"mark\": {\"type\": \"line\", \"color\": \"blue\", \"strokeWidth\": 2}, \"encoding\": {\"x\": {\"axis\": {\"format\": \"%e %b\", \"labelAngle\": 0}, \"field\": \"DATETIME\", \"title\": null, \"type\": \"temporal\"}, \"y\": {\"field\": \"DPT\", \"title\": \"Temperature (C)\", \"type\": \"quantitative\"}}, \"height\": 130, \"width\": 700}, {\"mark\": {\"type\": \"line\", \"color\": \"darkred\", \"opacity\": 0.7, \"strokeDash\": [4, 2], \"strokeWidth\": 1.5}, \"encoding\": {\"tooltip\": [{\"field\": \"DATE\", \"title\": \"Date\", \"type\": \"temporal\"}, {\"field\": \"TIME\", \"title\": \"Time\", \"type\": \"nominal\"}, {\"field\": \"TMP850\", \"title\": \"Air Temp\", \"type\": \"quantitative\"}], \"x\": {\"axis\": {\"format\": \"%e %b\", \"labelAngle\": 0}, \"field\": \"DATETIME\", \"title\": null, \"type\": \"temporal\"}, \"y\": {\"field\": \"TMP850\", \"title\": \"Temperature (C)\", \"type\": \"quantitative\"}}, \"height\": 130, \"width\": 700}, {\"mark\": {\"type\": \"area\", \"color\": \"#F8D223\", \"opacity\": 0.5}, \"encoding\": {\"x\": {\"field\": \"DATETIME\", \"type\": \"temporal\"}, \"y\": {\"field\": \"TMP\", \"type\": \"quantitative\"}, \"y2\": {\"field\": \"DPT\"}}, \"height\": 130, \"width\": 700}, {\"mark\": {\"type\": \"line\", \"color\": \"gray\", \"opacity\": 0.8, \"strokeDash\": [3, 3], \"strokeWidth\": 1.5}, \"encoding\": {\"x\": {\"axis\": {\"format\": \"%e %b\", \"labelAngle\": 0}, \"field\": \"DATETIME\", \"title\": null, \"type\": \"temporal\"}, \"y\": {\"field\": \"Zero\", \"title\": \"Temperature (C)\", \"type\": \"quantitative\"}}, \"height\": 130, \"width\": 700}]}, {\"mark\": {\"type\": \"line\", \"color\": \"green\", \"opacity\": 0.7, \"strokeDash\": [3, 3], \"strokeWidth\": 1.5}, \"encoding\": {\"x\": {\"axis\": {\"format\": \"%e %b\", \"labelAngle\": 0}, \"field\": \"DATETIME\", \"title\": null, \"type\": \"temporal\"}, \"y\": {\"field\": \"RH\", \"scale\": {\"zero\": false}, \"title\": \"Relative Humidity (%)\", \"type\": \"quantitative\"}}, \"height\": 130, \"width\": 700}], \"resolve\": {\"scale\": {\"y\": \"independent\"}}}, {\"layer\": [{\"layer\": [{\"mark\": {\"type\": \"area\", \"color\": \"#B4A667\", \"opacity\": 0.5}, \"encoding\": {\"x\": {\"axis\": {\"format\": \"%e %b\", \"labelAngle\": 0}, \"field\": \"DATETIME\", \"type\": \"temporal\"}, \"y\": {\"field\": \"CLOUD\", \"type\": \"quantitative\"}}, \"height\": 130, \"width\": 700}, {\"mark\": {\"type\": \"line\", \"color\": \"blue\", \"opacity\": 0.7, \"strokeWidth\": 1.5}, \"encoding\": {\"x\": {\"axis\": {\"format\": \"%e %b\", \"labelAngle\": 0}, \"field\": \"DATETIME\", \"title\": null, \"type\": \"temporal\"}, \"y\": {\"field\": \"CLOUD\", \"title\": \"Cloud Cover (%)\", \"type\": \"quantitative\"}}, \"height\": 130, \"width\": 700}]}, {\"mark\": {\"type\": \"line\", \"color\": \"red\", \"opacity\": 0.7, \"strokeWidth\": 1.5}, \"encoding\": {\"x\": {\"axis\": {\"format\": \"%e %b\", \"labelAngle\": 0}, \"field\": \"DATETIME\", \"title\": null, \"type\": \"temporal\"}, \"y\": {\"field\": \"SLP\", \"scale\": {\"zero\": false}, \"title\": \"MSLP (mbar)\", \"type\": \"quantitative\"}}, \"height\": 130, \"title\": \"Cloud cover (blue/gray), sea level pressure (red)\", \"width\": 700}], \"resolve\": {\"scale\": {\"y\": \"independent\"}}}, {\"layer\": [{\"mark\": {\"type\": \"bar\", \"color\": \"green\", \"size\": 10}, \"encoding\": {\"tooltip\": [{\"field\": \"DATE\", \"title\": \"Date\", \"type\": \"temporal\"}, {\"field\": \"TIME\", \"title\": \"Time\", \"type\": \"nominal\"}, {\"field\": \"PC1\", \"title\": \"3-Hour Precip\", \"type\": \"quantitative\"}], \"x\": {\"axis\": {\"format\": \"%e %b\", \"labelAngle\": 0}, \"field\": \"DATETIME\", \"title\": null, \"type\": \"temporal\"}, \"y\": {\"field\": \"PC1\", \"title\": \"3-hr Precipitation (mm)\", \"type\": \"quantitative\"}}, \"height\": 130, \"title\": \"3hr-precip (green bars) and accumulated precip (blue line)\", \"width\": 700}, {\"mark\": {\"type\": \"line\", \"color\": \"blue\", \"opacity\": 0.6}, \"encoding\": {\"tooltip\": [{\"field\": \"DATE\", \"title\": \"Date\", \"type\": \"temporal\"}, {\"field\": \"TIME\", \"title\": \"Time\", \"type\": \"nominal\"}, {\"field\": \"APCP\", \"title\": \"Accumulated Precip\", \"type\": \"quantitative\"}], \"x\": {\"axis\": {\"format\": \"%e %b\", \"labelAngle\": 0}, \"field\": \"DATETIME\", \"title\": null, \"type\": \"temporal\"}, \"y\": {\"field\": \"APCP\", \"title\": \"Accumulated Precip (mm)\", \"type\": \"quantitative\"}}, \"height\": 130, \"width\": 700}], \"resolve\": {\"scale\": {\"y\": \"independent\"}}}, {\"layer\": [{\"mark\": {\"type\": \"line\", \"color\": \"red\", \"strokeWidth\": 1.5}, \"encoding\": {\"tooltip\": [{\"field\": \"DATE\", \"title\": \"Date\", \"type\": \"temporal\"}, {\"field\": \"TIME\", \"title\": \"Time\", \"type\": \"nominal\"}, {\"field\": \"WS925\", \"title\": \"Wind Speed (km/h)\", \"type\": \"quantitative\"}, {\"field\": \"WD925\", \"title\": \"Wind Dir (deg)\", \"type\": \"quantitative\"}], \"x\": {\"axis\": {\"format\": \"%e %b\", \"labelAngle\": 90}, \"field\": \"DATETIME\", \"title\": null, \"type\": \"temporal\"}, \"y\": {\"field\": \"WS925\", \"title\": \"Wind speed (km/h)\", \"type\": \"quantitative\"}}, \"height\": 130, \"title\": \"Wind speed at 750m (red) and 1500m (green)\", \"width\": 700}, {\"mark\": {\"type\": \"line\", \"color\": \"green\", \"strokeWidth\": 1.5}, \"encoding\": {\"tooltip\": [{\"field\": \"DATE\", \"title\": \"Date\", \"type\": \"temporal\"}, {\"field\": \"TIME\", \"title\": \"Time\", \"type\": \"nominal\"}, {\"field\": \"WS850\", \"title\": \"Wind Speed (km/h)\", \"type\": \"quantitative\"}, {\"field\": \"WD850\", \"title\": \"Wind Dir (deg)\", \"type\": \"quantitative\"}], \"x\": {\"axis\": {\"format\": \"%e %b\", \"labelAngle\": 90}, \"field\": \"DATETIME\", \"title\": null, \"type\": \"temporal\"}, \"y\": {\"field\": \"WS850\", \"title\": \"Wind speed (km/h)\", \"type\": \"quantitative\"}}, \"height\": 130, \"width\": 700}]}], \"data\": {\"name\": \"data-69fc519629642191458341192c2ca3cf\"}, \"$schema\": \"https://vega.github.io/schema/vega-lite/v4.17.0.json\", \"datasets\": {\"data-69fc519629642191458341192c2ca3cf\": [{\"DATETIME\": \"2023-10-03T05:00:00\", \"DATE\": \"2023-10-03T00:00:00\", \"TIME\": \"05:00\", \"TMP\": 8.8, \"DPT\": 7.5, \"RH\": 92, \"WS\": 4, \"WD\": 3, \"APCP\": 0.0, \"CLOUD\": 8, \"SLP\": 1017.8, \"PTYPE\": null, \"RQP\": 0.0, \"SQP\": 0.0, \"FQP\": 0.0, \"IQP\": 0.0, \"WS925\": 4, \"WD925\": 13, \"TMP850\": 6.3, \"WS850\": 3, \"WD850\": 313, \"WS700\": 38, \"WD700\": 317, \"PC1\": 0.0, \"Zero\": \"0\"}, {\"DATETIME\": \"2023-10-03T08:00:00\", \"DATE\": \"2023-10-03T00:00:00\", \"TIME\": \"08:00\", \"TMP\": 8.6, \"DPT\": 7.2, \"RH\": 91, \"WS\": 3, \"WD\": 42, \"APCP\": 0.0, \"CLOUD\": 0, \"SLP\": 1020.0, \"PTYPE\": null, \"RQP\": 0.0, \"SQP\": 0.0, \"FQP\": 0.0, \"IQP\": 0.0, \"WS925\": 2, \"WD925\": 196, \"TMP850\": 6.3, \"WS850\": 9, \"WD850\": 282, \"WS700\": 51, \"WD700\": 320, \"PC1\": 0.0, \"Zero\": \"0\"}, {\"DATETIME\": \"2023-10-03T11:00:00\", \"DATE\": \"2023-10-03T00:00:00\", \"TIME\": \"11:00\", \"TMP\": 11.4, \"DPT\": 8.9, \"RH\": 85, \"WS\": 4, \"WD\": 197, \"APCP\": 0.0, \"CLOUD\": 0, \"SLP\": 1021.8, \"PTYPE\": null, \"RQP\": 0.0, \"SQP\": 0.0, \"FQP\": 0.0, \"IQP\": 0.0, \"WS925\": 3, \"WD925\": 205, \"TMP850\": 6.4, \"WS850\": 26, \"WD850\": 292, \"WS700\": 61, \"WD700\": 325, \"PC1\": 0.0, \"Zero\": \"0\"}, {\"DATETIME\": \"2023-10-03T14:00:00\", \"DATE\": \"2023-10-03T00:00:00\", \"TIME\": \"14:00\", \"TMP\": 12.2, \"DPT\": 9.5, \"RH\": 84, \"WS\": 5, \"WD\": 215, \"APCP\": 0.0, \"CLOUD\": 64, \"SLP\": 1022.6, \"PTYPE\": null, \"RQP\": 0.0, \"SQP\": 0.0, \"FQP\": 0.0, \"IQP\": 0.0, \"WS925\": 3, \"WD925\": 179, \"TMP850\": 6.6, \"WS850\": 38, \"WD850\": 303, \"WS700\": 76, \"WD700\": 318, \"PC1\": 0.0, \"Zero\": \"0\"}, {\"DATETIME\": \"2023-10-03T17:00:00\", \"DATE\": \"2023-10-03T00:00:00\", \"TIME\": \"17:00\", \"TMP\": 12.1, \"DPT\": 9.4, \"RH\": 84, \"WS\": 4, \"WD\": 200, \"APCP\": 0.0, \"CLOUD\": 36, \"SLP\": 1023.0, \"PTYPE\": null, \"RQP\": 0.0, \"SQP\": 0.0, \"FQP\": 0.0, \"IQP\": 0.0, \"WS925\": 11, \"WD925\": 262, \"TMP850\": 6.4, \"WS850\": 44, \"WD850\": 293, \"WS700\": 84, \"WD700\": 312, \"PC1\": 0.0, \"Zero\": \"0\"}, {\"DATETIME\": \"2023-10-03T20:00:00\", \"DATE\": \"2023-10-03T00:00:00\", \"TIME\": \"20:00\", \"TMP\": 10.2, \"DPT\": 9.6, \"RH\": 96, \"WS\": 2, \"WD\": 90, \"APCP\": 0.0, \"CLOUD\": 48, \"SLP\": 1023.9, \"PTYPE\": null, \"RQP\": 0.0, \"SQP\": 0.0, \"FQP\": 0.0, \"IQP\": 0.0, \"WS925\": 9, \"WD925\": 243, \"TMP850\": 6.6, \"WS850\": 41, \"WD850\": 289, \"WS700\": 89, \"WD700\": 311, \"PC1\": 0.0, \"Zero\": \"0\"}, {\"DATETIME\": \"2023-10-03T23:00:00\", \"DATE\": \"2023-10-03T00:00:00\", \"TIME\": \"23:00\", \"TMP\": 10.6, \"DPT\": 8.5, \"RH\": 87, \"WS\": 5, \"WD\": 47, \"APCP\": 0.0, \"CLOUD\": 88, \"SLP\": 1024.3, \"PTYPE\": null, \"RQP\": 0.0, \"SQP\": 0.0, \"FQP\": 0.0, \"IQP\": 0.0, \"WS925\": 8, \"WD925\": 206, \"TMP850\": 6.7, \"WS850\": 36, \"WD850\": 292, \"WS700\": 87, \"WD700\": 308, \"PC1\": 0.0, \"Zero\": \"0\"}, {\"DATETIME\": \"2023-10-04T02:00:00\", \"DATE\": \"2023-10-04T00:00:00\", \"TIME\": \"02:00\", \"TMP\": 11.0, \"DPT\": 8.9, \"RH\": 87, \"WS\": 4, \"WD\": 58, \"APCP\": 0.1, \"CLOUD\": 88, \"SLP\": 1024.5, \"PTYPE\": \"RA\", \"RQP\": 0.1, \"SQP\": 0.0, \"FQP\": 0.0, \"IQP\": 0.0, \"WS925\": 4, \"WD925\": 187, \"TMP850\": 7.2, \"WS850\": 42, \"WD850\": 292, \"WS700\": 88, \"WD700\": 309, \"PC1\": 0.1, \"Zero\": \"0\"}, {\"DATETIME\": \"2023-10-04T05:00:00\", \"DATE\": \"2023-10-04T00:00:00\", \"TIME\": \"05:00\", \"TMP\": 10.5, \"DPT\": 9.4, \"RH\": 93, \"WS\": 1, \"WD\": 55, \"APCP\": 0.1, \"CLOUD\": 80, \"SLP\": 1025.0, \"PTYPE\": null, \"RQP\": 0.1, \"SQP\": 0.0, \"FQP\": 0.0, \"IQP\": 0.0, \"WS925\": 6, \"WD925\": 277, \"TMP850\": 7.0, \"WS850\": 47, \"WD850\": 299, \"WS700\": 98, \"WD700\": 319, \"PC1\": 0.0, \"Zero\": \"0\"}, {\"DATETIME\": \"2023-10-04T08:00:00\", \"DATE\": \"2023-10-04T00:00:00\", \"TIME\": \"08:00\", \"TMP\": 10.7, \"DPT\": 9.9, \"RH\": 95, \"WS\": 1, \"WD\": 282, \"APCP\": 0.3, \"CLOUD\": 92, \"SLP\": 1025.6, \"PTYPE\": \"RA\", \"RQP\": 0.3, \"SQP\": 0.0, \"FQP\": 0.0, \"IQP\": 0.0, \"WS925\": 6, \"WD925\": 304, \"TMP850\": 7.0, \"WS850\": 40, \"WD850\": 306, \"WS700\": 90, \"WD700\": 324, \"PC1\": 0.19999999999999998, \"Zero\": \"0\"}, {\"DATETIME\": \"2023-10-04T11:00:00\", \"DATE\": \"2023-10-04T00:00:00\", \"TIME\": \"11:00\", \"TMP\": 12.1, \"DPT\": 10.7, \"RH\": 91, \"WS\": 3, \"WD\": 206, \"APCP\": 0.5, \"CLOUD\": 92, \"SLP\": 1026.3, \"PTYPE\": \"RA\", \"RQP\": 0.5, \"SQP\": 0.0, \"FQP\": 0.0, \"IQP\": 0.0, \"WS925\": 6, \"WD925\": 67, \"TMP850\": 6.8, \"WS850\": 31, \"WD850\": 314, \"WS700\": 73, \"WD700\": 330, \"PC1\": 0.2, \"Zero\": \"0\"}, {\"DATETIME\": \"2023-10-04T14:00:00\", \"DATE\": \"2023-10-04T00:00:00\", \"TIME\": \"14:00\", \"TMP\": 13.2, \"DPT\": 11.4, \"RH\": 89, \"WS\": 4, \"WD\": 221, \"APCP\": 0.7, \"CLOUD\": 92, \"SLP\": 1026.8, \"PTYPE\": \"RA\", \"RQP\": 0.7, \"SQP\": 0.0, \"FQP\": 0.0, \"IQP\": 0.0, \"WS925\": 6, \"WD925\": 85, \"TMP850\": 6.8, \"WS850\": 25, \"WD850\": 322, \"WS700\": 66, \"WD700\": 325, \"PC1\": 0.19999999999999996, \"Zero\": \"0\"}, {\"DATETIME\": \"2023-10-04T17:00:00\", \"DATE\": \"2023-10-04T00:00:00\", \"TIME\": \"17:00\", \"TMP\": 13.2, \"DPT\": 11.4, \"RH\": 89, \"WS\": 3, \"WD\": 238, \"APCP\": 1.0, \"CLOUD\": 76, \"SLP\": 1026.8, \"PTYPE\": \"RA\", \"RQP\": 1.0, \"SQP\": 0.0, \"FQP\": 0.0, \"IQP\": 0.0, \"WS925\": 5, \"WD925\": 90, \"TMP850\": 7.0, \"WS850\": 21, \"WD850\": 321, \"WS700\": 64, \"WD700\": 322, \"PC1\": 0.30000000000000004, \"Zero\": \"0\"}, {\"DATETIME\": \"2023-10-04T20:00:00\", \"DATE\": \"2023-10-04T00:00:00\", \"TIME\": \"20:00\", \"TMP\": 11.5, \"DPT\": 10.9, \"RH\": 96, \"WS\": 1, \"WD\": 344, \"APCP\": 1.1, \"CLOUD\": 48, \"SLP\": 1027.2, \"PTYPE\": \"RA\", \"RQP\": 1.1, \"SQP\": 0.0, \"FQP\": 0.0, \"IQP\": 0.0, \"WS925\": 5, \"WD925\": 109, \"TMP850\": 7.7, \"WS850\": 23, \"WD850\": 316, \"WS700\": 68, \"WD700\": 328, \"PC1\": 0.10000000000000009, \"Zero\": \"0\"}, {\"DATETIME\": \"2023-10-04T23:00:00\", \"DATE\": \"2023-10-04T00:00:00\", \"TIME\": \"23:00\", \"TMP\": 11.4, \"DPT\": 10.5, \"RH\": 94, \"WS\": 4, \"WD\": 30, \"APCP\": 1.1, \"CLOUD\": 36, \"SLP\": 1027.9, \"PTYPE\": null, \"RQP\": 1.1, \"SQP\": 0.0, \"FQP\": 0.0, \"IQP\": 0.0, \"WS925\": 2, \"WD925\": 157, \"TMP850\": 8.4, \"WS850\": 23, \"WD850\": 320, \"WS700\": 53, \"WD700\": 329, \"PC1\": 0.0, \"Zero\": \"0\"}, {\"DATETIME\": \"2023-10-05T02:00:00\", \"DATE\": \"2023-10-05T00:00:00\", \"TIME\": \"02:00\", \"TMP\": 10.8, \"DPT\": 9.8, \"RH\": 94, \"WS\": 4, \"WD\": 25, \"APCP\": 1.1, \"CLOUD\": 32, \"SLP\": 1028.3, \"PTYPE\": null, \"RQP\": 1.1, \"SQP\": 0.0, \"FQP\": 0.0, \"IQP\": 0.0, \"WS925\": 1, \"WD925\": 50, \"TMP850\": 8.8, \"WS850\": 21, \"WD850\": 319, \"WS700\": 50, \"WD700\": 331, \"PC1\": 0.0, \"Zero\": \"0\"}, {\"DATETIME\": \"2023-10-05T05:00:00\", \"DATE\": \"2023-10-05T00:00:00\", \"TIME\": \"05:00\", \"TMP\": 10.9, \"DPT\": 9.5, \"RH\": 91, \"WS\": 5, \"WD\": 18, \"APCP\": 1.1, \"CLOUD\": 44, \"SLP\": 1028.7, \"PTYPE\": null, \"RQP\": 1.1, \"SQP\": 0.0, \"FQP\": 0.0, \"IQP\": 0.0, \"WS925\": 2, \"WD925\": 16, \"TMP850\": 9.0, \"WS850\": 18, \"WD850\": 335, \"WS700\": 41, \"WD700\": 339, \"PC1\": 0.0, \"Zero\": \"0\"}, {\"DATETIME\": \"2023-10-05T08:00:00\", \"DATE\": \"2023-10-05T00:00:00\", \"TIME\": \"08:00\", \"TMP\": 10.4, \"DPT\": 9.0, \"RH\": 91, \"WS\": 4, \"WD\": 27, \"APCP\": 1.1, \"CLOUD\": 0, \"SLP\": 1028.9, \"PTYPE\": null, \"RQP\": 1.1, \"SQP\": 0.0, \"FQP\": 0.0, \"IQP\": 0.0, \"WS925\": 4, \"WD925\": 22, \"TMP850\": 10.8, \"WS850\": 12, \"WD850\": 30, \"WS700\": 39, \"WD700\": 352, \"PC1\": 0.0, \"Zero\": \"0\"}, {\"DATETIME\": \"2023-10-05T11:00:00\", \"DATE\": \"2023-10-05T00:00:00\", \"TIME\": \"11:00\", \"TMP\": 14.2, \"DPT\": 11.0, \"RH\": 81, \"WS\": 3, \"WD\": 246, \"APCP\": 1.1, \"CLOUD\": 0, \"SLP\": 1028.7, \"PTYPE\": null, \"RQP\": 1.1, \"SQP\": 0.0, \"FQP\": 0.0, \"IQP\": 0.0, \"WS925\": 6, \"WD925\": 25, \"TMP850\": 12.9, \"WS850\": 13, \"WD850\": 81, \"WS700\": 41, \"WD700\": 356, \"PC1\": 0.0, \"Zero\": \"0\"}, {\"DATETIME\": \"2023-10-05T14:00:00\", \"DATE\": \"2023-10-05T00:00:00\", \"TIME\": \"14:00\", \"TMP\": 16.1, \"DPT\": 11.9, \"RH\": 76, \"WS\": 5, \"WD\": 243, \"APCP\": 1.1, \"CLOUD\": 0, \"SLP\": 1027.8, \"PTYPE\": null, \"RQP\": 1.1, \"SQP\": 0.0, \"FQP\": 0.0, \"IQP\": 0.0, \"WS925\": 9, \"WD925\": 13, \"TMP850\": 14.4, \"WS850\": 15, \"WD850\": 95, \"WS700\": 34, \"WD700\": 351, \"PC1\": 0.0, \"Zero\": \"0\"}, {\"DATETIME\": \"2023-10-05T17:00:00\", \"DATE\": \"2023-10-05T00:00:00\", \"TIME\": \"17:00\", \"TMP\": 16.4, \"DPT\": 12.4, \"RH\": 77, \"WS\": 4, \"WD\": 257, \"APCP\": 1.1, \"CLOUD\": 0, \"SLP\": 1026.6, \"PTYPE\": null, \"RQP\": 1.1, \"SQP\": 0.0, \"FQP\": 0.0, \"IQP\": 0.0, \"WS925\": 7, \"WD925\": 22, \"TMP850\": 15.4, \"WS850\": 17, \"WD850\": 92, \"WS700\": 25, \"WD700\": 346, \"PC1\": 0.0, \"Zero\": \"0\"}, {\"DATETIME\": \"2023-10-05T20:00:00\", \"DATE\": \"2023-10-05T00:00:00\", \"TIME\": \"20:00\", \"TMP\": 13.4, \"DPT\": 12.5, \"RH\": 94, \"WS\": 4, \"WD\": 2, \"APCP\": 1.1, \"CLOUD\": 0, \"SLP\": 1025.9, \"PTYPE\": null, \"RQP\": 1.1, \"SQP\": 0.0, \"FQP\": 0.0, \"IQP\": 0.0, \"WS925\": 7, \"WD925\": 40, \"TMP850\": 16.0, \"WS850\": 19, \"WD850\": 101, \"WS700\": 18, \"WD700\": 339, \"PC1\": 0.0, \"Zero\": \"0\"}, {\"DATETIME\": \"2023-10-05T23:00:00\", \"DATE\": \"2023-10-05T00:00:00\", \"TIME\": \"23:00\", \"TMP\": 13.5, \"DPT\": 12.4, \"RH\": 93, \"WS\": 6, \"WD\": 23, \"APCP\": 1.1, \"CLOUD\": 0, \"SLP\": 1025.6, \"PTYPE\": null, \"RQP\": 1.1, \"SQP\": 0.0, \"FQP\": 0.0, \"IQP\": 0.0, \"WS925\": 8, \"WD925\": 58, \"TMP850\": 16.0, \"WS850\": 20, \"WD850\": 105, \"WS700\": 12, \"WD700\": 322, \"PC1\": 0.0, \"Zero\": \"0\"}, {\"DATETIME\": \"2023-10-06T02:00:00\", \"DATE\": \"2023-10-06T00:00:00\", \"TIME\": \"02:00\", \"TMP\": 13.3, \"DPT\": 10.9, \"RH\": 85, \"WS\": 5, \"WD\": 21, \"APCP\": 1.1, \"CLOUD\": 0, \"SLP\": 1025.4, \"PTYPE\": null, \"RQP\": 1.1, \"SQP\": 0.0, \"FQP\": 0.0, \"IQP\": 0.0, \"WS925\": 7, \"WD925\": 51, \"TMP850\": 16.0, \"WS850\": 18, \"WD850\": 115, \"WS700\": 12, \"WD700\": 307, \"PC1\": 0.0, \"Zero\": \"0\"}, {\"DATETIME\": \"2023-10-06T05:00:00\", \"DATE\": \"2023-10-06T00:00:00\", \"TIME\": \"05:00\", \"TMP\": 12.7, \"DPT\": 9.9, \"RH\": 83, \"WS\": 6, \"WD\": 26, \"APCP\": 1.1, \"CLOUD\": 0, \"SLP\": 1024.9, \"PTYPE\": null, \"RQP\": 1.1, \"SQP\": 0.0, \"FQP\": 0.0, \"IQP\": 0.0, \"WS925\": 7, \"WD925\": 42, \"TMP850\": 16.1, \"WS850\": 14, \"WD850\": 117, \"WS700\": 14, \"WD700\": 305, \"PC1\": 0.0, \"Zero\": \"0\"}, {\"DATETIME\": \"2023-10-06T08:00:00\", \"DATE\": \"2023-10-06T00:00:00\", \"TIME\": \"08:00\", \"TMP\": 12.8, \"DPT\": 9.0, \"RH\": 78, \"WS\": 6, \"WD\": 21, \"APCP\": 1.1, \"CLOUD\": 0, \"SLP\": 1024.5, \"PTYPE\": null, \"RQP\": 1.1, \"SQP\": 0.0, \"FQP\": 0.0, \"IQP\": 0.0, \"WS925\": 5, \"WD925\": 40, \"TMP850\": 16.2, \"WS850\": 12, \"WD850\": 112, \"WS700\": 15, \"WD700\": 303, \"PC1\": 0.0, \"Zero\": \"0\"}, {\"DATETIME\": \"2023-10-06T11:00:00\", \"DATE\": \"2023-10-06T00:00:00\", \"TIME\": \"11:00\", \"TMP\": 17.3, \"DPT\": 11.8, \"RH\": 70, \"WS\": 1, \"WD\": 235, \"APCP\": 1.1, \"CLOUD\": 0, \"SLP\": 1023.6, \"PTYPE\": null, \"RQP\": 1.1, \"SQP\": 0.0, \"FQP\": 0.0, \"IQP\": 0.0, \"WS925\": 5, \"WD925\": 41, \"TMP850\": 16.3, \"WS850\": 10, \"WD850\": 117, \"WS700\": 15, \"WD700\": 291, \"PC1\": 0.0, \"Zero\": \"0\"}, {\"DATETIME\": \"2023-10-06T14:00:00\", \"DATE\": \"2023-10-06T00:00:00\", \"TIME\": \"14:00\", \"TMP\": 18.9, \"DPT\": 12.7, \"RH\": 67, \"WS\": 4, \"WD\": 237, \"APCP\": 1.1, \"CLOUD\": 0, \"SLP\": 1021.6, \"PTYPE\": null, \"RQP\": 1.1, \"SQP\": 0.0, \"FQP\": 0.0, \"IQP\": 0.0, \"WS925\": 6, \"WD925\": 44, \"TMP850\": 16.9, \"WS850\": 7, \"WD850\": 116, \"WS700\": 18, \"WD700\": 286, \"PC1\": 0.0, \"Zero\": \"0\"}, {\"DATETIME\": \"2023-10-06T17:00:00\", \"DATE\": \"2023-10-06T00:00:00\", \"TIME\": \"17:00\", \"TMP\": 18.6, \"DPT\": 13.5, \"RH\": 72, \"WS\": 2, \"WD\": 248, \"APCP\": 1.1, \"CLOUD\": 0, \"SLP\": 1019.3, \"PTYPE\": null, \"RQP\": 1.1, \"SQP\": 0.0, \"FQP\": 0.0, \"IQP\": 0.0, \"WS925\": 5, \"WD925\": 53, \"TMP850\": 17.4, \"WS850\": 7, \"WD850\": 91, \"WS700\": 17, \"WD700\": 279, \"PC1\": 0.0, \"Zero\": \"0\"}, {\"DATETIME\": \"2023-10-06T20:00:00\", \"DATE\": \"2023-10-06T00:00:00\", \"TIME\": \"20:00\", \"TMP\": 15.3, \"DPT\": 13.5, \"RH\": 89, \"WS\": 6, \"WD\": 21, \"APCP\": 1.1, \"CLOUD\": 0, \"SLP\": 1017.7, \"PTYPE\": null, \"RQP\": 1.1, \"SQP\": 0.0, \"FQP\": 0.0, \"IQP\": 0.0, \"WS925\": 6, \"WD925\": 59, \"TMP850\": 17.6, \"WS850\": 9, \"WD850\": 103, \"WS700\": 14, \"WD700\": 273, \"PC1\": 0.0, \"Zero\": \"0\"}, {\"DATETIME\": \"2023-10-06T23:00:00\", \"DATE\": \"2023-10-06T00:00:00\", \"TIME\": \"23:00\", \"TMP\": 15.4, \"DPT\": 12.4, \"RH\": 82, \"WS\": 7, \"WD\": 23, \"APCP\": 1.1, \"CLOUD\": 0, \"SLP\": 1016.1, \"PTYPE\": null, \"RQP\": 1.1, \"SQP\": 0.0, \"FQP\": 0.0, \"IQP\": 0.0, \"WS925\": 6, \"WD925\": 53, \"TMP850\": 17.5, \"WS850\": 11, \"WD850\": 127, \"WS700\": 11, \"WD700\": 245, \"PC1\": 0.0, \"Zero\": \"0\"}, {\"DATETIME\": \"2023-10-07T02:00:00\", \"DATE\": \"2023-10-07T00:00:00\", \"TIME\": \"02:00\", \"TMP\": 14.2, \"DPT\": 8.4, \"RH\": 68, \"WS\": 6, \"WD\": 28, \"APCP\": 1.1, \"CLOUD\": 0, \"SLP\": 1015.2, \"PTYPE\": null, \"RQP\": 1.1, \"SQP\": 0.0, \"FQP\": 0.0, \"IQP\": 0.0, \"WS925\": 7, \"WD925\": 69, \"TMP850\": 17.2, \"WS850\": 10, \"WD850\": 140, \"WS700\": 12, \"WD700\": 210, \"PC1\": 0.0, \"Zero\": \"0\"}, {\"DATETIME\": \"2023-10-07T05:00:00\", \"DATE\": \"2023-10-07T00:00:00\", \"TIME\": \"05:00\", \"TMP\": 13.3, \"DPT\": 6.5, \"RH\": 63, \"WS\": 6, \"WD\": 27, \"APCP\": 1.1, \"CLOUD\": 0, \"SLP\": 1014.2, \"PTYPE\": null, \"RQP\": 1.1, \"SQP\": 0.0, \"FQP\": 0.0, \"IQP\": 0.0, \"WS925\": 6, \"WD925\": 72, \"TMP850\": 17.0, \"WS850\": 11, \"WD850\": 131, \"WS700\": 14, \"WD700\": 177, \"PC1\": 0.0, \"Zero\": \"0\"}, {\"DATETIME\": \"2023-10-07T08:00:00\", \"DATE\": \"2023-10-07T00:00:00\", \"TIME\": \"08:00\", \"TMP\": 12.8, \"DPT\": 5.8, \"RH\": 62, \"WS\": 6, \"WD\": 33, \"APCP\": 1.1, \"CLOUD\": 0, \"SLP\": 1013.8, \"PTYPE\": null, \"RQP\": 1.1, \"SQP\": 0.0, \"FQP\": 0.0, \"IQP\": 0.0, \"WS925\": 5, \"WD925\": 85, \"TMP850\": 16.6, \"WS850\": 16, \"WD850\": 130, \"WS700\": 21, \"WD700\": 165, \"PC1\": 0.0, \"Zero\": \"0\"}, {\"DATETIME\": \"2023-10-07T11:00:00\", \"DATE\": \"2023-10-07T00:00:00\", \"TIME\": \"11:00\", \"TMP\": 17.3, \"DPT\": 10.1, \"RH\": 63, \"WS\": 2, \"WD\": 195, \"APCP\": 1.1, \"CLOUD\": 0, \"SLP\": 1013.3, \"PTYPE\": null, \"RQP\": 1.1, \"SQP\": 0.0, \"FQP\": 0.0, \"IQP\": 0.0, \"WS925\": 9, \"WD925\": 96, \"TMP850\": 15.5, \"WS850\": 23, \"WD850\": 151, \"WS700\": 29, \"WD700\": 182, \"PC1\": 0.0, \"Zero\": \"0\"}, {\"DATETIME\": \"2023-10-07T14:00:00\", \"DATE\": \"2023-10-07T00:00:00\", \"TIME\": \"14:00\", \"TMP\": 18.7, \"DPT\": 12.1, \"RH\": 65, \"WS\": 3, \"WD\": 214, \"APCP\": 1.1, \"CLOUD\": 0, \"SLP\": 1012.2, \"PTYPE\": null, \"RQP\": 1.1, \"SQP\": 0.0, \"FQP\": 0.0, \"IQP\": 0.0, \"WS925\": 12, \"WD925\": 102, \"TMP850\": 14.4, \"WS850\": 32, \"WD850\": 167, \"WS700\": 32, \"WD700\": 194, \"PC1\": 0.0, \"Zero\": \"0\"}, {\"DATETIME\": \"2023-10-07T17:00:00\", \"DATE\": \"2023-10-07T00:00:00\", \"TIME\": \"17:00\", \"TMP\": 19.4, \"DPT\": 14.1, \"RH\": 71, \"WS\": 1, \"WD\": 54, \"APCP\": 1.1, \"CLOUD\": 0, \"SLP\": 1010.5, \"PTYPE\": null, \"RQP\": 1.1, \"SQP\": 0.0, \"FQP\": 0.0, \"IQP\": 0.0, \"WS925\": 16, \"WD925\": 142, \"TMP850\": 14.7, \"WS850\": 25, \"WD850\": 171, \"WS700\": 32, \"WD700\": 213, \"PC1\": 0.0, \"Zero\": \"0\"}, {\"DATETIME\": \"2023-10-07T20:00:00\", \"DATE\": \"2023-10-07T00:00:00\", \"TIME\": \"20:00\", \"TMP\": 16.2, \"DPT\": 9.9, \"RH\": 66, \"WS\": 6, \"WD\": 28, \"APCP\": 1.1, \"CLOUD\": 0, \"SLP\": 1009.9, \"PTYPE\": null, \"RQP\": 1.1, \"SQP\": 0.0, \"FQP\": 0.0, \"IQP\": 0.0, \"WS925\": 13, \"WD925\": 132, \"TMP850\": 14.8, \"WS850\": 21, \"WD850\": 159, \"WS700\": 37, \"WD700\": 209, \"PC1\": 0.0, \"Zero\": \"0\"}, {\"DATETIME\": \"2023-10-07T23:00:00\", \"DATE\": \"2023-10-07T00:00:00\", \"TIME\": \"23:00\", \"TMP\": 15.1, \"DPT\": 8.2, \"RH\": 63, \"WS\": 7, \"WD\": 34, \"APCP\": 1.1, \"CLOUD\": 0, \"SLP\": 1009.9, \"PTYPE\": null, \"RQP\": 1.1, \"SQP\": 0.0, \"FQP\": 0.0, \"IQP\": 0.0, \"WS925\": 17, \"WD925\": 127, \"TMP850\": 14.2, \"WS850\": 28, \"WD850\": 165, \"WS700\": 41, \"WD700\": 206, \"PC1\": 0.0, \"Zero\": \"0\"}, {\"DATETIME\": \"2023-10-08T02:00:00\", \"DATE\": \"2023-10-08T00:00:00\", \"TIME\": \"02:00\", \"TMP\": 14.9, \"DPT\": 8.7, \"RH\": 66, \"WS\": 7, \"WD\": 40, \"APCP\": 1.1, \"CLOUD\": 0, \"SLP\": 1009.8, \"PTYPE\": null, \"RQP\": 1.1, \"SQP\": 0.0, \"FQP\": 0.0, \"IQP\": 0.0, \"WS925\": 22, \"WD925\": 123, \"TMP850\": 14.1, \"WS850\": 21, \"WD850\": 159, \"WS700\": 47, \"WD700\": 202, \"PC1\": 0.0, \"Zero\": \"0\"}, {\"DATETIME\": \"2023-10-08T05:00:00\", \"DATE\": \"2023-10-08T00:00:00\", \"TIME\": \"05:00\", \"TMP\": 15.8, \"DPT\": 9.8, \"RH\": 67, \"WS\": 6, \"WD\": 36, \"APCP\": 1.1, \"CLOUD\": 0, \"SLP\": 1009.1, \"PTYPE\": null, \"RQP\": 1.1, \"SQP\": 0.0, \"FQP\": 0.0, \"IQP\": 0.0, \"WS925\": 23, \"WD925\": 132, \"TMP850\": 12.6, \"WS850\": 35, \"WD850\": 161, \"WS700\": 50, \"WD700\": 208, \"PC1\": 0.0, \"Zero\": \"0\"}, {\"DATETIME\": \"2023-10-08T08:00:00\", \"DATE\": \"2023-10-08T00:00:00\", \"TIME\": \"08:00\", \"TMP\": 15.0, \"DPT\": 10.3, \"RH\": 73, \"WS\": 5, \"WD\": 54, \"APCP\": 1.1, \"CLOUD\": 0, \"SLP\": 1008.6, \"PTYPE\": null, \"RQP\": 1.1, \"SQP\": 0.0, \"FQP\": 0.0, \"IQP\": 0.0, \"WS925\": 25, \"WD925\": 127, \"TMP850\": 12.1, \"WS850\": 33, \"WD850\": 164, \"WS700\": 55, \"WD700\": 199, \"PC1\": 0.0, \"Zero\": \"0\"}, {\"DATETIME\": \"2023-10-08T11:00:00\", \"DATE\": \"2023-10-08T00:00:00\", \"TIME\": \"11:00\", \"TMP\": 17.7, \"DPT\": 10.8, \"RH\": 64, \"WS\": 7, \"WD\": 128, \"APCP\": 1.1, \"CLOUD\": 0, \"SLP\": 1008.4, \"PTYPE\": null, \"RQP\": 1.1, \"SQP\": 0.0, \"FQP\": 0.0, \"IQP\": 0.0, \"WS925\": 34, \"WD925\": 132, \"TMP850\": 12.1, \"WS850\": 36, \"WD850\": 161, \"WS700\": 56, \"WD700\": 202, \"PC1\": 0.0, \"Zero\": \"0\"}, {\"DATETIME\": \"2023-10-08T14:00:00\", \"DATE\": \"2023-10-08T00:00:00\", \"TIME\": \"14:00\", \"TMP\": 18.4, \"DPT\": 11.2, \"RH\": 63, \"WS\": 7, \"WD\": 136, \"APCP\": 1.1, \"CLOUD\": 8, \"SLP\": 1007.5, \"PTYPE\": null, \"RQP\": 1.1, \"SQP\": 0.0, \"FQP\": 0.0, \"IQP\": 0.0, \"WS925\": 24, \"WD925\": 135, \"TMP850\": 12.1, \"WS850\": 37, \"WD850\": 170, \"WS700\": 64, \"WD700\": 199, \"PC1\": 0.0, \"Zero\": \"0\"}, {\"DATETIME\": \"2023-10-08T17:00:00\", \"DATE\": \"2023-10-08T00:00:00\", \"TIME\": \"17:00\", \"TMP\": 18.0, \"DPT\": 11.7, \"RH\": 67, \"WS\": 5, \"WD\": 123, \"APCP\": 1.1, \"CLOUD\": 32, \"SLP\": 1005.9, \"PTYPE\": null, \"RQP\": 1.1, \"SQP\": 0.0, \"FQP\": 0.0, \"IQP\": 0.0, \"WS925\": 23, \"WD925\": 134, \"TMP850\": 11.0, \"WS850\": 28, \"WD850\": 161, \"WS700\": 67, \"WD700\": 205, \"PC1\": 0.0, \"Zero\": \"0\"}, {\"DATETIME\": \"2023-10-08T20:00:00\", \"DATE\": \"2023-10-08T00:00:00\", \"TIME\": \"20:00\", \"TMP\": 15.9, \"DPT\": 10.8, \"RH\": 72, \"WS\": 6, \"WD\": 83, \"APCP\": 1.1, \"CLOUD\": 92, \"SLP\": 1005.3, \"PTYPE\": null, \"RQP\": 1.1, \"SQP\": 0.0, \"FQP\": 0.0, \"IQP\": 0.0, \"WS925\": 23, \"WD925\": 125, \"TMP850\": 10.2, \"WS850\": 25, \"WD850\": 154, \"WS700\": 67, \"WD700\": 201, \"PC1\": 0.0, \"Zero\": \"0\"}, {\"DATETIME\": \"2023-10-08T23:00:00\", \"DATE\": \"2023-10-08T00:00:00\", \"TIME\": \"23:00\", \"TMP\": 16.0, \"DPT\": 9.8, \"RH\": 67, \"WS\": 7, \"WD\": 93, \"APCP\": 1.1, \"CLOUD\": 92, \"SLP\": 1004.9, \"PTYPE\": null, \"RQP\": 1.1, \"SQP\": 0.0, \"FQP\": 0.0, \"IQP\": 0.0, \"WS925\": 29, \"WD925\": 134, \"TMP850\": 9.9, \"WS850\": 38, \"WD850\": 166, \"WS700\": 75, \"WD700\": 191, \"PC1\": 0.0, \"Zero\": \"0\"}, {\"DATETIME\": \"2023-10-09T02:00:00\", \"DATE\": \"2023-10-09T00:00:00\", \"TIME\": \"02:00\", \"TMP\": 13.4, \"DPT\": 11.9, \"RH\": 91, \"WS\": 12, \"WD\": 70, \"APCP\": 3.6, \"CLOUD\": 92, \"SLP\": 1004.6, \"PTYPE\": \"RA\", \"RQP\": 3.6, \"SQP\": 0.0, \"FQP\": 0.0, \"IQP\": 0.0, \"WS925\": 40, \"WD925\": 104, \"TMP850\": 7.7, \"WS850\": 47, \"WD850\": 146, \"WS700\": 111, \"WD700\": 213, \"PC1\": 2.5, \"Zero\": \"0\"}, {\"DATETIME\": \"2023-10-09T05:00:00\", \"DATE\": \"2023-10-09T00:00:00\", \"TIME\": \"05:00\", \"TMP\": 12.7, \"DPT\": 12.0, \"RH\": 96, \"WS\": 12, \"WD\": 107, \"APCP\": 11.7, \"CLOUD\": 92, \"SLP\": 1003.7, \"PTYPE\": \"RA\", \"RQP\": 11.7, \"SQP\": 0.0, \"FQP\": 0.0, \"IQP\": 0.0, \"WS925\": 44, \"WD925\": 128, \"TMP850\": 6.1, \"WS850\": 57, \"WD850\": 139, \"WS700\": 96, \"WD700\": 216, \"PC1\": 8.1, \"Zero\": \"0\"}, {\"DATETIME\": \"2023-10-09T08:00:00\", \"DATE\": \"2023-10-09T00:00:00\", \"TIME\": \"08:00\", \"TMP\": 12.1, \"DPT\": 11.6, \"RH\": 97, \"WS\": 13, \"WD\": 107, \"APCP\": 30.3, \"CLOUD\": 92, \"SLP\": 1002.9, \"PTYPE\": \"RA\", \"RQP\": 30.3, \"SQP\": 0.0, \"FQP\": 0.0, \"IQP\": 0.0, \"WS925\": 47, \"WD925\": 132, \"TMP850\": 7.4, \"WS850\": 49, \"WD850\": 156, \"WS700\": 64, \"WD700\": 226, \"PC1\": 18.6, \"Zero\": \"0\"}, {\"DATETIME\": \"2023-10-09T11:00:00\", \"DATE\": \"2023-10-09T00:00:00\", \"TIME\": \"11:00\", \"TMP\": 12.4, \"DPT\": 12.1, \"RH\": 98, \"WS\": 12, \"WD\": 122, \"APCP\": 56.9, \"CLOUD\": 92, \"SLP\": 1002.8, \"PTYPE\": \"RA\", \"RQP\": 56.9, \"SQP\": 0.0, \"FQP\": 0.0, \"IQP\": 0.0, \"WS925\": 47, \"WD925\": 151, \"TMP850\": 8.1, \"WS850\": 42, \"WD850\": 204, \"WS700\": 75, \"WD700\": 212, \"PC1\": 26.599999999999998, \"Zero\": \"0\"}, {\"DATETIME\": \"2023-10-09T14:00:00\", \"DATE\": \"2023-10-09T00:00:00\", \"TIME\": \"14:00\", \"TMP\": 12.7, \"DPT\": 12.2, \"RH\": 97, \"WS\": 14, \"WD\": 122, \"APCP\": 79.7, \"CLOUD\": 92, \"SLP\": 1001.8, \"PTYPE\": \"RA\", \"RQP\": 79.7, \"SQP\": 0.0, \"FQP\": 0.0, \"IQP\": 0.0, \"WS925\": 50, \"WD925\": 141, \"TMP850\": 8.4, \"WS850\": 48, \"WD850\": 175, \"WS700\": 52, \"WD700\": 203, \"PC1\": 22.800000000000004, \"Zero\": \"0\"}, {\"DATETIME\": \"2023-10-09T17:00:00\", \"DATE\": \"2023-10-09T00:00:00\", \"TIME\": \"17:00\", \"TMP\": 12.5, \"DPT\": 12.1, \"RH\": 97, \"WS\": 13, \"WD\": 118, \"APCP\": 97.1, \"CLOUD\": 92, \"SLP\": 1001.0, \"PTYPE\": \"RA\", \"RQP\": 97.1, \"SQP\": 0.0, \"FQP\": 0.0, \"IQP\": 0.0, \"WS925\": 47, \"WD925\": 140, \"TMP850\": 8.1, \"WS850\": 40, \"WD850\": 171, \"WS700\": 69, \"WD700\": 226, \"PC1\": 17.39999999999999, \"Zero\": \"0\"}, {\"DATETIME\": \"2023-10-09T20:00:00\", \"DATE\": \"2023-10-09T00:00:00\", \"TIME\": \"20:00\", \"TMP\": 12.9, \"DPT\": 12.6, \"RH\": 98, \"WS\": 8, \"WD\": 125, \"APCP\": 101.7, \"CLOUD\": 92, \"SLP\": 1000.5, \"PTYPE\": \"RA\", \"RQP\": 101.7, \"SQP\": 0.0, \"FQP\": 0.0, \"IQP\": 0.0, \"WS925\": 39, \"WD925\": 145, \"TMP850\": 7.8, \"WS850\": 46, \"WD850\": 156, \"WS700\": 57, \"WD700\": 206, \"PC1\": 4.6000000000000085, \"Zero\": \"0\"}, {\"DATETIME\": \"2023-10-09T23:00:00\", \"DATE\": \"2023-10-09T00:00:00\", \"TIME\": \"23:00\", \"TMP\": 12.9, \"DPT\": 12.7, \"RH\": 99, \"WS\": 10, \"WD\": 188, \"APCP\": 113.2, \"CLOUD\": 92, \"SLP\": 1001.3, \"PTYPE\": \"RA\", \"RQP\": 113.2, \"SQP\": 0.0, \"FQP\": 0.0, \"IQP\": 0.0, \"WS925\": 32, \"WD925\": 196, \"TMP850\": 7.1, \"WS850\": 35, \"WD850\": 207, \"WS700\": 47, \"WD700\": 197, \"PC1\": 11.5, \"Zero\": \"0\"}, {\"DATETIME\": \"2023-10-10T02:00:00\", \"DATE\": \"2023-10-10T00:00:00\", \"TIME\": \"02:00\", \"TMP\": 12.5, \"DPT\": 12.2, \"RH\": 98, \"WS\": 3, \"WD\": 137, \"APCP\": 117.4, \"CLOUD\": 88, \"SLP\": 1003.1, \"PTYPE\": \"RA\", \"RQP\": 117.4, \"SQP\": 0.0, \"FQP\": 0.0, \"IQP\": 0.0, \"WS925\": 17, \"WD925\": 200, \"TMP850\": 6.1, \"WS850\": 24, \"WD850\": 235, \"WS700\": 56, \"WD700\": 210, \"PC1\": 4.200000000000003, \"Zero\": \"0\"}, {\"DATETIME\": \"2023-10-10T05:00:00\", \"DATE\": \"2023-10-10T00:00:00\", \"TIME\": \"05:00\", \"TMP\": 11.6, \"DPT\": 11.1, \"RH\": 97, \"WS\": 4, \"WD\": 58, \"APCP\": 118.6, \"CLOUD\": 92, \"SLP\": 1004.6, \"PTYPE\": \"RA\", \"RQP\": 118.6, \"SQP\": 0.0, \"FQP\": 0.0, \"IQP\": 0.0, \"WS925\": 8, \"WD925\": 239, \"TMP850\": 4.5, \"WS850\": 11, \"WD850\": 247, \"WS700\": 33, \"WD700\": 230, \"PC1\": 1.1999999999999886, \"Zero\": \"0\"}, {\"DATETIME\": \"2023-10-10T08:00:00\", \"DATE\": \"2023-10-10T00:00:00\", \"TIME\": \"08:00\", \"TMP\": 11.2, \"DPT\": 10.8, \"RH\": 97, \"WS\": 5, \"WD\": 98, \"APCP\": 119.0, \"CLOUD\": 76, \"SLP\": 1005.8, \"PTYPE\": \"RA\", \"RQP\": 119.0, \"SQP\": 0.0, \"FQP\": 0.0, \"IQP\": 0.0, \"WS925\": 8, \"WD925\": 182, \"TMP850\": 4.1, \"WS850\": 6, \"WD850\": 239, \"WS700\": 28, \"WD700\": 242, \"PC1\": 0.4000000000000057, \"Zero\": \"0\"}, {\"DATETIME\": \"2023-10-10T11:00:00\", \"DATE\": \"2023-10-10T00:00:00\", \"TIME\": \"11:00\", \"TMP\": 11.2, \"DPT\": 10.4, \"RH\": 95, \"WS\": 1, \"WD\": 3, \"APCP\": 121.0, \"CLOUD\": 88, \"SLP\": 1007.2, \"PTYPE\": \"RA\", \"RQP\": 121.0, \"SQP\": 0.0, \"FQP\": 0.0, \"IQP\": 0.0, \"WS925\": 6, \"WD925\": 197, \"TMP850\": 3.8, \"WS850\": 10, \"WD850\": 184, \"WS700\": 25, \"WD700\": 235, \"PC1\": 2.0, \"Zero\": \"0\"}, {\"DATETIME\": \"2023-10-10T14:00:00\", \"DATE\": \"2023-10-10T00:00:00\", \"TIME\": \"14:00\", \"TMP\": 12.9, \"DPT\": 10.9, \"RH\": 88, \"WS\": 4, \"WD\": 267, \"APCP\": 121.2, \"CLOUD\": 24, \"SLP\": 1007.5, \"PTYPE\": \"RA\", \"RQP\": 121.2, \"SQP\": 0.0, \"FQP\": 0.0, \"IQP\": 0.0, \"WS925\": 7, \"WD925\": 269, \"TMP850\": 3.7, \"WS850\": 10, \"WD850\": 266, \"WS700\": 18, \"WD700\": 242, \"PC1\": 0.20000000000000284, \"Zero\": \"0\"}, {\"DATETIME\": \"2023-10-10T17:00:00\", \"DATE\": \"2023-10-10T00:00:00\", \"TIME\": \"17:00\", \"TMP\": 12.8, \"DPT\": 10.7, \"RH\": 87, \"WS\": 4, \"WD\": 233, \"APCP\": 121.2, \"CLOUD\": 0, \"SLP\": 1008.5, \"PTYPE\": null, \"RQP\": 121.2, \"SQP\": 0.0, \"FQP\": 0.0, \"IQP\": 0.0, \"WS925\": 9, \"WD925\": 287, \"TMP850\": 3.8, \"WS850\": 13, \"WD850\": 288, \"WS700\": 16, \"WD700\": 259, \"PC1\": 0.0, \"Zero\": \"0\"}, {\"DATETIME\": \"2023-10-10T20:00:00\", \"DATE\": \"2023-10-10T00:00:00\", \"TIME\": \"20:00\", \"TMP\": 10.3, \"DPT\": 9.9, \"RH\": 97, \"WS\": 0, \"WD\": 243, \"APCP\": 121.2, \"CLOUD\": 20, \"SLP\": 1010.0, \"PTYPE\": null, \"RQP\": 121.2, \"SQP\": 0.0, \"FQP\": 0.0, \"IQP\": 0.0, \"WS925\": 9, \"WD925\": 260, \"TMP850\": 3.6, \"WS850\": 15, \"WD850\": 280, \"WS700\": 13, \"WD700\": 258, \"PC1\": 0.0, \"Zero\": \"0\"}, {\"DATETIME\": \"2023-10-10T23:00:00\", \"DATE\": \"2023-10-10T00:00:00\", \"TIME\": \"23:00\", \"TMP\": 10.3, \"DPT\": 9.4, \"RH\": 94, \"WS\": 4, \"WD\": 69, \"APCP\": 121.2, \"CLOUD\": 88, \"SLP\": 1010.8, \"PTYPE\": null, \"RQP\": 121.2, \"SQP\": 0.0, \"FQP\": 0.0, \"IQP\": 0.0, \"WS925\": 7, \"WD925\": 255, \"TMP850\": 2.9, \"WS850\": 13, \"WD850\": 285, \"WS700\": 11, \"WD700\": 254, \"PC1\": 0.0, \"Zero\": \"0\"}, {\"DATETIME\": \"2023-10-11T02:00:00\", \"DATE\": \"2023-10-11T00:00:00\", \"TIME\": \"02:00\", \"TMP\": 10.2, \"DPT\": 9.5, \"RH\": 95, \"WS\": 2, \"WD\": 131, \"APCP\": 121.9, \"CLOUD\": 88, \"SLP\": 1011.5, \"PTYPE\": \"RA\", \"RQP\": 121.9, \"SQP\": 0.0, \"FQP\": 0.0, \"IQP\": 0.0, \"WS925\": 2, \"WD925\": 290, \"TMP850\": 2.5, \"WS850\": 10, \"WD850\": 294, \"WS700\": 8, \"WD700\": 255, \"PC1\": 0.7000000000000028, \"Zero\": \"0\"}, {\"DATETIME\": \"2023-10-11T05:00:00\", \"DATE\": \"2023-10-11T00:00:00\", \"TIME\": \"05:00\", \"TMP\": 9.9, \"DPT\": 9.4, \"RH\": 97, \"WS\": 1, \"WD\": 137, \"APCP\": 122.2, \"CLOUD\": 88, \"SLP\": 1011.8, \"PTYPE\": \"RA\", \"RQP\": 122.2, \"SQP\": 0.0, \"FQP\": 0.0, \"IQP\": 0.0, \"WS925\": 4, \"WD925\": 343, \"TMP850\": 2.2, \"WS850\": 6, \"WD850\": 313, \"WS700\": 3, \"WD700\": 270, \"PC1\": 0.29999999999999716, \"Zero\": \"0\"}, {\"DATETIME\": \"2023-10-11T08:00:00\", \"DATE\": \"2023-10-11T00:00:00\", \"TIME\": \"08:00\", \"TMP\": 9.9, \"DPT\": 8.8, \"RH\": 93, \"WS\": 1, \"WD\": 56, \"APCP\": 122.2, \"CLOUD\": 56, \"SLP\": 1011.8, \"PTYPE\": null, \"RQP\": 122.2, \"SQP\": 0.0, \"FQP\": 0.0, \"IQP\": 0.0, \"WS925\": 5, \"WD925\": 352, \"TMP850\": 2.3, \"WS850\": 3, \"WD850\": 335, \"WS700\": 1, \"WD700\": 112, \"PC1\": 0.0, \"Zero\": \"0\"}, {\"DATETIME\": \"2023-10-11T11:00:00\", \"DATE\": \"2023-10-11T00:00:00\", \"TIME\": \"11:00\", \"TMP\": 11.3, \"DPT\": 8.5, \"RH\": 83, \"WS\": 1, \"WD\": 218, \"APCP\": 122.2, \"CLOUD\": 8, \"SLP\": 1011.9, \"PTYPE\": null, \"RQP\": 122.2, \"SQP\": 0.0, \"FQP\": 0.0, \"IQP\": 0.0, \"WS925\": 1, \"WD925\": 288, \"TMP850\": 2.4, \"WS850\": 3, \"WD850\": 29, \"WS700\": 5, \"WD700\": 120, \"PC1\": 0.0, \"Zero\": \"0\"}, {\"DATETIME\": \"2023-10-11T14:00:00\", \"DATE\": \"2023-10-11T00:00:00\", \"TIME\": \"14:00\", \"TMP\": 12.2, \"DPT\": 8.7, \"RH\": 79, \"WS\": 5, \"WD\": 246, \"APCP\": 122.2, \"CLOUD\": 8, \"SLP\": 1011.0, \"PTYPE\": null, \"RQP\": 122.2, \"SQP\": 0.0, \"FQP\": 0.0, \"IQP\": 0.0, \"WS925\": 3, \"WD925\": 321, \"TMP850\": 2.2, \"WS850\": 8, \"WD850\": 55, \"WS700\": 5, \"WD700\": 154, \"PC1\": 0.0, \"Zero\": \"0\"}, {\"DATETIME\": \"2023-10-11T17:00:00\", \"DATE\": \"2023-10-11T00:00:00\", \"TIME\": \"17:00\", \"TMP\": 11.7, \"DPT\": 9.0, \"RH\": 83, \"WS\": 4, \"WD\": 251, \"APCP\": 122.2, \"CLOUD\": 0, \"SLP\": 1010.4, \"PTYPE\": null, \"RQP\": 122.2, \"SQP\": 0.0, \"FQP\": 0.0, \"IQP\": 0.0, \"WS925\": 5, \"WD925\": 295, \"TMP850\": 3.6, \"WS850\": 8, \"WD850\": 74, \"WS700\": 1, \"WD700\": 164, \"PC1\": 0.0, \"Zero\": \"0\"}, {\"DATETIME\": \"2023-10-11T20:00:00\", \"DATE\": \"2023-10-11T00:00:00\", \"TIME\": \"20:00\", \"TMP\": 9.3, \"DPT\": 8.3, \"RH\": 93, \"WS\": 4, \"WD\": 18, \"APCP\": 122.2, \"CLOUD\": 0, \"SLP\": 1010.7, \"PTYPE\": null, \"RQP\": 122.2, \"SQP\": 0.0, \"FQP\": 0.0, \"IQP\": 0.0, \"WS925\": 6, \"WD925\": 283, \"TMP850\": 3.8, \"WS850\": 6, \"WD850\": 103, \"WS700\": 5, \"WD700\": 79, \"PC1\": 0.0, \"Zero\": \"0\"}, {\"DATETIME\": \"2023-10-11T23:00:00\", \"DATE\": \"2023-10-11T00:00:00\", \"TIME\": \"23:00\", \"TMP\": 8.7, \"DPT\": 7.5, \"RH\": 92, \"WS\": 4, \"WD\": 47, \"APCP\": 122.2, \"CLOUD\": 0, \"SLP\": 1011.0, \"PTYPE\": null, \"RQP\": 122.2, \"SQP\": 0.0, \"FQP\": 0.0, \"IQP\": 0.0, \"WS925\": 4, \"WD925\": 294, \"TMP850\": 3.5, \"WS850\": 3, \"WD850\": 90, \"WS700\": 10, \"WD700\": 122, \"PC1\": 0.0, \"Zero\": \"0\"}, {\"DATETIME\": \"2023-10-12T02:00:00\", \"DATE\": \"2023-10-12T00:00:00\", \"TIME\": \"02:00\", \"TMP\": 8.4, \"DPT\": 6.9, \"RH\": 90, \"WS\": 5, \"WD\": 48, \"APCP\": 122.2, \"CLOUD\": 64, \"SLP\": 1011.4, \"PTYPE\": null, \"RQP\": 122.2, \"SQP\": 0.0, \"FQP\": 0.0, \"IQP\": 0.0, \"WS925\": 3, \"WD925\": 241, \"TMP850\": 3.2, \"WS850\": 4, \"WD850\": 67, \"WS700\": 7, \"WD700\": 171, \"PC1\": 0.0, \"Zero\": \"0\"}, {\"DATETIME\": \"2023-10-12T05:00:00\", \"DATE\": \"2023-10-12T00:00:00\", \"TIME\": \"05:00\", \"TMP\": 9.1, \"DPT\": 7.8, \"RH\": 92, \"WS\": 3, \"WD\": 61, \"APCP\": 122.4, \"CLOUD\": 88, \"SLP\": 1011.7, \"PTYPE\": \"RA\", \"RQP\": 122.4, \"SQP\": 0.0, \"FQP\": 0.0, \"IQP\": 0.0, \"WS925\": 3, \"WD925\": 69, \"TMP850\": 2.9, \"WS850\": 7, \"WD850\": 103, \"WS700\": 5, \"WD700\": 162, \"PC1\": 0.20000000000000284, \"Zero\": \"0\"}, {\"DATETIME\": \"2023-10-12T08:00:00\", \"DATE\": \"2023-10-12T00:00:00\", \"TIME\": \"08:00\", \"TMP\": 8.6, \"DPT\": 7.4, \"RH\": 92, \"WS\": 2, \"WD\": 69, \"APCP\": 122.4, \"CLOUD\": 20, \"SLP\": 1011.9, \"PTYPE\": null, \"RQP\": 122.4, \"SQP\": 0.0, \"FQP\": 0.0, \"IQP\": 0.0, \"WS925\": 6, \"WD925\": 77, \"TMP850\": 2.7, \"WS850\": 10, \"WD850\": 125, \"WS700\": 10, \"WD700\": 149, \"PC1\": 0.0, \"Zero\": \"0\"}, {\"DATETIME\": \"2023-10-12T11:00:00\", \"DATE\": \"2023-10-12T00:00:00\", \"TIME\": \"11:00\", \"TMP\": 10.9, \"DPT\": 7.8, \"RH\": 81, \"WS\": 3, \"WD\": 134, \"APCP\": 122.4, \"CLOUD\": 44, \"SLP\": 1011.7, \"PTYPE\": null, \"RQP\": 122.4, \"SQP\": 0.0, \"FQP\": 0.0, \"IQP\": 0.0, \"WS925\": 11, \"WD925\": 83, \"TMP850\": 3.5, \"WS850\": 18, \"WD850\": 120, \"WS700\": 18, \"WD700\": 172, \"PC1\": 0.0, \"Zero\": \"0\"}, {\"DATETIME\": \"2023-10-12T14:00:00\", \"DATE\": \"2023-10-12T00:00:00\", \"TIME\": \"14:00\", \"TMP\": 12.1, \"DPT\": 9.1, \"RH\": 82, \"WS\": 5, \"WD\": 191, \"APCP\": 122.4, \"CLOUD\": 56, \"SLP\": 1011.5, \"PTYPE\": null, \"RQP\": 122.4, \"SQP\": 0.0, \"FQP\": 0.0, \"IQP\": 0.0, \"WS925\": 8, \"WD925\": 105, \"TMP850\": 3.9, \"WS850\": 21, \"WD850\": 118, \"WS700\": 26, \"WD700\": 188, \"PC1\": 0.0, \"Zero\": \"0\"}, {\"DATETIME\": \"2023-10-12T17:00:00\", \"DATE\": \"2023-10-12T00:00:00\", \"TIME\": \"17:00\", \"TMP\": 11.9, \"DPT\": 9.7, \"RH\": 86, \"WS\": 3, \"WD\": 163, \"APCP\": 122.4, \"CLOUD\": 68, \"SLP\": 1010.8, \"PTYPE\": null, \"RQP\": 122.4, \"SQP\": 0.0, \"FQP\": 0.0, \"IQP\": 0.0, \"WS925\": 15, \"WD925\": 105, \"TMP850\": 4.9, \"WS850\": 28, \"WD850\": 136, \"WS700\": 37, \"WD700\": 193, \"PC1\": 0.0, \"Zero\": \"0\"}, {\"DATETIME\": \"2023-10-12T20:00:00\", \"DATE\": \"2023-10-12T00:00:00\", \"TIME\": \"20:00\", \"TMP\": 11.0, \"DPT\": 9.2, \"RH\": 89, \"WS\": 7, \"WD\": 47, \"APCP\": 122.4, \"CLOUD\": 92, \"SLP\": 1011.3, \"PTYPE\": null, \"RQP\": 122.4, \"SQP\": 0.0, \"FQP\": 0.0, \"IQP\": 0.0, \"WS925\": 25, \"WD925\": 121, \"TMP850\": 4.9, \"WS850\": 43, \"WD850\": 159, \"WS700\": 53, \"WD700\": 204, \"PC1\": 0.0, \"Zero\": \"0\"}, {\"DATETIME\": \"2023-10-12T23:00:00\", \"DATE\": \"2023-10-12T00:00:00\", \"TIME\": \"23:00\", \"TMP\": 12.2, \"DPT\": 5.3, \"RH\": 63, \"WS\": 8, \"WD\": 78, \"APCP\": 122.4, \"CLOUD\": 92, \"SLP\": 1012.0, \"PTYPE\": null, \"RQP\": 122.4, \"SQP\": 0.0, \"FQP\": 0.0, \"IQP\": 0.0, \"WS925\": 34, \"WD925\": 133, \"TMP850\": 4.3, \"WS850\": 43, \"WD850\": 148, \"WS700\": 62, \"WD700\": 219, \"PC1\": 0.0, \"Zero\": \"0\"}, {\"DATETIME\": \"2023-10-13T02:00:00\", \"DATE\": \"2023-10-13T00:00:00\", \"TIME\": \"02:00\", \"TMP\": 12.6, \"DPT\": 6.2, \"RH\": 65, \"WS\": 8, \"WD\": 89, \"APCP\": 122.4, \"CLOUD\": 88, \"SLP\": 1012.3, \"PTYPE\": null, \"RQP\": 122.4, \"SQP\": 0.0, \"FQP\": 0.0, \"IQP\": 0.0, \"WS925\": 38, \"WD925\": 128, \"TMP850\": 4.5, \"WS850\": 54, \"WD850\": 143, \"WS700\": 53, \"WD700\": 210, \"PC1\": 0.0, \"Zero\": \"0\"}, {\"DATETIME\": \"2023-10-13T05:00:00\", \"DATE\": \"2023-10-13T00:00:00\", \"TIME\": \"05:00\", \"TMP\": 12.2, \"DPT\": 7.9, \"RH\": 75, \"WS\": 8, \"WD\": 55, \"APCP\": 122.8, \"CLOUD\": 92, \"SLP\": 1013.0, \"PTYPE\": \"RA\", \"RQP\": 122.8, \"SQP\": 0.0, \"FQP\": 0.0, \"IQP\": 0.0, \"WS925\": 30, \"WD925\": 129, \"TMP850\": 4.4, \"WS850\": 51, \"WD850\": 149, \"WS700\": 57, \"WD700\": 195, \"PC1\": 0.3999999999999915, \"Zero\": \"0\"}]}}, {\"mode\": \"vega-lite\"});\n",
       "</script>"
      ],
      "text/plain": [
       "alt.VConcatChart(...)"
      ]
     },
     "execution_count": 196,
     "metadata": {},
     "output_type": "execute_result"
    }
   ],
   "source": [
    "meteogram = temp2 & cloud_pressure & precip_total & wind \n",
    "meteogram = meteogram.configure_axis(labelFontSize=11, titleFontSize=12)\n",
    "meteogram"
   ]
  },
  {
   "cell_type": "markdown",
   "id": "c126f153-7402-4d9b-b153-c0cb20b8f1e8",
   "metadata": {},
   "source": [
    "## Temperature Outlooks\n",
    "\n",
    "The maps below show the probabilities of above, below, or near-normal temperatures for the next 8-14 days, 1-month, and 3-months. This gives us a rough indication of average temperatures over these periods. The higher the likelihood, the more confidence in the forecast. Currently it looks as though mid-October could be relatively cool and wet, but most longer range products continue to call for warmer and drier than normal conditions for the fall and early winter. \n",
    "\n",
    "### 8-14 day outlook \n",
    "**Issued on October 2.** Temperatures during the middle of October may be cooler than normal for the south coast and Pacific Northwest.\n",
    "\n",
    "```{figure} img/twoweek_temp.png\n",
    "---\n",
    "name: twoweek\n",
    "---\n",
    "8-14 day temperature outlook ([ECCC](https://weather.gc.ca/ensemble/naefs/semaine2_combinee_e.html))\n",
    "```\n",
    "### One month outlook \n",
    "**Issued on September 28.** The monthly temperature outlook shows slightly higher odds of above normal temperatures for the BC south coast in October. \n",
    "\n",
    "```{figure} img/1month.gif\n",
    "---\n",
    "name: monthly\n",
    "---\n",
    "Monthly temperature outlook ([ECCC](https://weather.gc.ca/saisons/image_e.html?img=mfe1t_s))\n",
    "```\n",
    "### 1-3 month temperature and precipitation outlooks \n",
    "\n",
    "**Issued on September 30.** The 3-month temperature and precipitation favour relatively warm conditions for the BC south coast for the Oct-Nov-Dec period. There is a 60-70% probability of above normal temperatures for this period. There are equal odds of above or below normal precipitation. \n",
    "\n",
    "```{figure} img/3month-temp-precip.png\n",
    "---\n",
    "name: three-monthly\n",
    "---\n",
    "Three month (S-O-N) temperature and precipitation outlooks ([ECCC](https://weather.gc.ca/saisons/prob_e.html))\n",
    "```\n",
    "## Summary\n",
    "\n",
    "Drought conditions should improve in October, even with only average rainfall amounts. Medium-range outlooks favour mild but relatively wet conditions for the middle of October; however, longer range outlooks still show higher odds of above normal temperatures and below normal precipitation. We might see periods of dry and warm weather punctuated by strong fall storms. "
   ]
  },
  {
   "cell_type": "code",
   "execution_count": null,
   "id": "0afd7791-ed3a-4ef7-b752-e581d92c1d9a",
   "metadata": {},
   "outputs": [],
   "source": []
  }
 ],
 "metadata": {
  "kernelspec": {
   "display_name": "Python 3 (ipykernel)",
   "language": "python",
   "name": "python3"
  },
  "language_info": {
   "codemirror_mode": {
    "name": "ipython",
    "version": 3
   },
   "file_extension": ".py",
   "mimetype": "text/x-python",
   "name": "python",
   "nbconvert_exporter": "python",
   "pygments_lexer": "ipython3",
   "version": "3.9.12"
  }
 },
 "nbformat": 4,
 "nbformat_minor": 5
}
