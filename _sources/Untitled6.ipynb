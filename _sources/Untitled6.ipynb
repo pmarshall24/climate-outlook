{
 "cells": [
  {
   "cell_type": "code",
   "execution_count": 1,
   "id": "420a4f0e-52de-4747-b9d8-39d124decf5b",
   "metadata": {},
   "outputs": [],
   "source": [
    "#Import libraries\n",
    "import os\n",
    "import pandas as pd\n",
    "import subprocess\n",
    "import altair as alt\n",
    "import matplotlib.pyplot as plt\n",
    "import numpy as np\n",
    "import json\n",
    "from pandas import json_normalize"
   ]
  },
  {
   "cell_type": "code",
   "execution_count": 2,
   "id": "95364e91-c543-4482-9b87-c50343d89f23",
   "metadata": {},
   "outputs": [
    {
     "data": {
      "text/plain": [
       "'C:\\\\Users\\\\pmarshal\\\\Documents\\\\Climate-Outlook\\\\monthly-climate'"
      ]
     },
     "execution_count": 2,
     "metadata": {},
     "output_type": "execute_result"
    }
   ],
   "source": [
    "\n",
    "os.chdir('C://Users/pmarshal/Documents/Climate-Outlook/monthly-climate')\n",
    "os.getcwd()"
   ]
  },
  {
   "cell_type": "code",
   "execution_count": 3,
   "id": "e491b1a2-db9c-4fbe-8441-5cc332b1256e",
   "metadata": {},
   "outputs": [
    {
     "data": {
      "text/html": [
       "<div>\n",
       "<style scoped>\n",
       "    .dataframe tbody tr th:only-of-type {\n",
       "        vertical-align: middle;\n",
       "    }\n",
       "\n",
       "    .dataframe tbody tr th {\n",
       "        vertical-align: top;\n",
       "    }\n",
       "\n",
       "    .dataframe thead th {\n",
       "        text-align: right;\n",
       "    }\n",
       "</style>\n",
       "<table border=\"1\" class=\"dataframe\">\n",
       "  <thead>\n",
       "    <tr style=\"text-align: right;\">\n",
       "      <th></th>\n",
       "      <th>date</th>\n",
       "      <th>mean_TA</th>\n",
       "      <th>min_TA</th>\n",
       "      <th>max_TA</th>\n",
       "      <th>rain</th>\n",
       "      <th>rain_cum_yr</th>\n",
       "      <th>rain_cum_wyr</th>\n",
       "      <th>year</th>\n",
       "      <th>month</th>\n",
       "      <th>day</th>\n",
       "      <th>DOY</th>\n",
       "    </tr>\n",
       "  </thead>\n",
       "  <tbody>\n",
       "    <tr>\n",
       "      <th>0</th>\n",
       "      <td>2003-01-01</td>\n",
       "      <td>3.2</td>\n",
       "      <td>2.3</td>\n",
       "      <td>5.0</td>\n",
       "      <td>5.33</td>\n",
       "      <td>5.33</td>\n",
       "      <td>NaN</td>\n",
       "      <td>2003</td>\n",
       "      <td>1</td>\n",
       "      <td>1</td>\n",
       "      <td>1</td>\n",
       "    </tr>\n",
       "    <tr>\n",
       "      <th>1</th>\n",
       "      <td>2003-01-02</td>\n",
       "      <td>7.1</td>\n",
       "      <td>2.8</td>\n",
       "      <td>9.4</td>\n",
       "      <td>26.66</td>\n",
       "      <td>31.99</td>\n",
       "      <td>NaN</td>\n",
       "      <td>2003</td>\n",
       "      <td>1</td>\n",
       "      <td>2</td>\n",
       "      <td>2</td>\n",
       "    </tr>\n",
       "    <tr>\n",
       "      <th>2</th>\n",
       "      <td>2003-01-03</td>\n",
       "      <td>5.4</td>\n",
       "      <td>4.4</td>\n",
       "      <td>8.6</td>\n",
       "      <td>45.22</td>\n",
       "      <td>77.21</td>\n",
       "      <td>NaN</td>\n",
       "      <td>2003</td>\n",
       "      <td>1</td>\n",
       "      <td>3</td>\n",
       "      <td>3</td>\n",
       "    </tr>\n",
       "    <tr>\n",
       "      <th>3</th>\n",
       "      <td>2003-01-04</td>\n",
       "      <td>7.4</td>\n",
       "      <td>4.6</td>\n",
       "      <td>10.7</td>\n",
       "      <td>7.37</td>\n",
       "      <td>84.58</td>\n",
       "      <td>NaN</td>\n",
       "      <td>2003</td>\n",
       "      <td>1</td>\n",
       "      <td>4</td>\n",
       "      <td>4</td>\n",
       "    </tr>\n",
       "    <tr>\n",
       "      <th>4</th>\n",
       "      <td>2003-01-05</td>\n",
       "      <td>4.7</td>\n",
       "      <td>2.2</td>\n",
       "      <td>7.3</td>\n",
       "      <td>26.17</td>\n",
       "      <td>110.75</td>\n",
       "      <td>NaN</td>\n",
       "      <td>2003</td>\n",
       "      <td>1</td>\n",
       "      <td>5</td>\n",
       "      <td>5</td>\n",
       "    </tr>\n",
       "  </tbody>\n",
       "</table>\n",
       "</div>"
      ],
      "text/plain": [
       "        date  mean_TA  min_TA  max_TA   rain  rain_cum_yr  rain_cum_wyr  year  \\\n",
       "0 2003-01-01      3.2     2.3     5.0   5.33         5.33           NaN  2003   \n",
       "1 2003-01-02      7.1     2.8     9.4  26.66        31.99           NaN  2003   \n",
       "2 2003-01-03      5.4     4.4     8.6  45.22        77.21           NaN  2003   \n",
       "3 2003-01-04      7.4     4.6    10.7   7.37        84.58           NaN  2003   \n",
       "4 2003-01-05      4.7     2.2     7.3  26.17       110.75           NaN  2003   \n",
       "\n",
       "   month  day  DOY  \n",
       "0      1    1    1  \n",
       "1      1    2    2  \n",
       "2      1    3    3  \n",
       "3      1    4    4  \n",
       "4      1    5    5  "
      ]
     },
     "execution_count": 3,
     "metadata": {},
     "output_type": "execute_result"
    }
   ],
   "source": [
    "# Import dataset\n",
    "temp = pd.read_csv('data/QD1_temps.csv', parse_dates=['date']) \n",
    "temp['year'] = pd.DatetimeIndex(temp['date']).year\n",
    "temp['month'] = pd.DatetimeIndex(temp['date']).month\n",
    "temp['day'] = pd.DatetimeIndex(temp['date']).day\n",
    "temp['DOY'] = pd.DatetimeIndex(temp['date']).dayofyear\n",
    "temp.head()"
   ]
  },
  {
   "cell_type": "code",
   "execution_count": null,
   "id": "956f5941-8d8a-4590-a800-e9f7975feb69",
   "metadata": {},
   "outputs": [],
   "source": [
    "domain = [3, 4, 5]\n",
    "range_ = ['orange', '#FE3F46', 'darkred']"
   ]
  }
 ],
 "metadata": {
  "kernelspec": {
   "display_name": "Python 3 (ipykernel)",
   "language": "python",
   "name": "python3"
  },
  "language_info": {
   "codemirror_mode": {
    "name": "ipython",
    "version": 3
   },
   "file_extension": ".py",
   "mimetype": "text/x-python",
   "name": "python",
   "nbconvert_exporter": "python",
   "pygments_lexer": "ipython3",
   "version": "3.9.12"
  }
 },
 "nbformat": 4,
 "nbformat_minor": 5
}
